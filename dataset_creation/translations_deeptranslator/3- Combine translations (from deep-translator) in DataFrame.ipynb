{
 "cells": [
  {
   "cell_type": "code",
   "execution_count": 1,
   "id": "0124d83d",
   "metadata": {},
   "outputs": [],
   "source": [
    "import os\n",
    "import pandas as pd"
   ]
  },
  {
   "cell_type": "markdown",
   "id": "cf4aa7fe",
   "metadata": {},
   "source": [
    "# Combine the CSVs, keep original language column"
   ]
  },
  {
   "cell_type": "code",
   "execution_count": 17,
   "id": "c5af39f9",
   "metadata": {
    "scrolled": true
   },
   "outputs": [
    {
     "name": "stderr",
     "output_type": "stream",
     "text": [
      "C:\\Users\\blw3912\\AppData\\Local\\Temp\\ipykernel_27552\\2061583131.py:15: FutureWarning: The frame.append method is deprecated and will be removed from pandas in a future version. Use pandas.concat instead.\n",
      "  combined_data = combined_data.append(df, ignore_index=True)\n",
      "C:\\Users\\blw3912\\AppData\\Local\\Temp\\ipykernel_27552\\2061583131.py:15: FutureWarning: The frame.append method is deprecated and will be removed from pandas in a future version. Use pandas.concat instead.\n",
      "  combined_data = combined_data.append(df, ignore_index=True)\n",
      "C:\\Users\\blw3912\\AppData\\Local\\Temp\\ipykernel_27552\\2061583131.py:15: FutureWarning: The frame.append method is deprecated and will be removed from pandas in a future version. Use pandas.concat instead.\n",
      "  combined_data = combined_data.append(df, ignore_index=True)\n",
      "C:\\Users\\blw3912\\AppData\\Local\\Temp\\ipykernel_27552\\2061583131.py:15: FutureWarning: The frame.append method is deprecated and will be removed from pandas in a future version. Use pandas.concat instead.\n",
      "  combined_data = combined_data.append(df, ignore_index=True)\n",
      "C:\\Users\\blw3912\\AppData\\Local\\Temp\\ipykernel_27552\\2061583131.py:15: FutureWarning: The frame.append method is deprecated and will be removed from pandas in a future version. Use pandas.concat instead.\n",
      "  combined_data = combined_data.append(df, ignore_index=True)\n",
      "C:\\Users\\blw3912\\AppData\\Local\\Temp\\ipykernel_27552\\2061583131.py:15: FutureWarning: The frame.append method is deprecated and will be removed from pandas in a future version. Use pandas.concat instead.\n",
      "  combined_data = combined_data.append(df, ignore_index=True)\n",
      "C:\\Users\\blw3912\\AppData\\Local\\Temp\\ipykernel_27552\\2061583131.py:15: FutureWarning: The frame.append method is deprecated and will be removed from pandas in a future version. Use pandas.concat instead.\n",
      "  combined_data = combined_data.append(df, ignore_index=True)\n",
      "C:\\Users\\blw3912\\AppData\\Local\\Temp\\ipykernel_27552\\2061583131.py:15: FutureWarning: The frame.append method is deprecated and will be removed from pandas in a future version. Use pandas.concat instead.\n",
      "  combined_data = combined_data.append(df, ignore_index=True)\n",
      "C:\\Users\\blw3912\\AppData\\Local\\Temp\\ipykernel_27552\\2061583131.py:15: FutureWarning: The frame.append method is deprecated and will be removed from pandas in a future version. Use pandas.concat instead.\n",
      "  combined_data = combined_data.append(df, ignore_index=True)\n",
      "C:\\Users\\blw3912\\AppData\\Local\\Temp\\ipykernel_27552\\2061583131.py:15: FutureWarning: The frame.append method is deprecated and will be removed from pandas in a future version. Use pandas.concat instead.\n",
      "  combined_data = combined_data.append(df, ignore_index=True)\n"
     ]
    }
   ],
   "source": [
    "# Folder path\n",
    "folder_path = \"English Transcript (trans. to Spanish)\"\n",
    "\n",
    "# Initialize an empty DataFrame to store the combined data\n",
    "combined_data = pd.DataFrame()\n",
    "\n",
    "# Iterate over each file in the folder\n",
    "for file_name in os.listdir(folder_path):\n",
    "    if file_name.endswith(\".csv\"):\n",
    "        # Read the CSV file\n",
    "        file_path = os.path.join(folder_path, file_name)\n",
    "        df = pd.read_csv(file_path, header=None, skiprows=1)\n",
    "        \n",
    "        # Append the DataFrame to the combined data\n",
    "        combined_data = combined_data.append(df, ignore_index=True)\n",
    "\n",
    "# Save the combined data to a new CSV file\n",
    "combined_file_path = \"combined_transcripts_Eng_to_Spa.csv\"\n",
    "combined_data.to_csv(combined_file_path, index=False, header=False)\n",
    "\n",
    "Eng_to_Spa = combined_data.rename(columns = {0: \"orig_Eng\", 1: \"trans_Spa\"})"
   ]
  },
  {
   "cell_type": "code",
   "execution_count": 13,
   "id": "5b6c3bd6",
   "metadata": {},
   "outputs": [
    {
     "data": {
      "text/html": [
       "<div>\n",
       "<style scoped>\n",
       "    .dataframe tbody tr th:only-of-type {\n",
       "        vertical-align: middle;\n",
       "    }\n",
       "\n",
       "    .dataframe tbody tr th {\n",
       "        vertical-align: top;\n",
       "    }\n",
       "\n",
       "    .dataframe thead th {\n",
       "        text-align: right;\n",
       "    }\n",
       "</style>\n",
       "<table border=\"1\" class=\"dataframe\">\n",
       "  <thead>\n",
       "    <tr style=\"text-align: right;\">\n",
       "      <th></th>\n",
       "      <th>orig_Eng</th>\n",
       "      <th>trans_Spa</th>\n",
       "    </tr>\n",
       "  </thead>\n",
       "  <tbody>\n",
       "    <tr>\n",
       "      <th>0</th>\n",
       "      <td>When that reality hit, it was like being dunke...</td>\n",
       "      <td>Cuando esa realidad llegó, fue como si te sume...</td>\n",
       "    </tr>\n",
       "    <tr>\n",
       "      <th>1</th>\n",
       "      <td>It’s 2009 Alyssa Elliot is sitting at her desk...</td>\n",
       "      <td>Es 2009, Alyssa Elliot está sentada en su escr...</td>\n",
       "    </tr>\n",
       "    <tr>\n",
       "      <th>2</th>\n",
       "      <td>You say things like I couldn’t have foreseen t...</td>\n",
       "      <td>Dices cosas como si no hubiera podido prever q...</td>\n",
       "    </tr>\n",
       "    <tr>\n",
       "      <th>3</th>\n",
       "      <td>This is Last Day, a show about the moments tha...</td>\n",
       "      <td>Este es Last Day, un programa sobre los moment...</td>\n",
       "    </tr>\n",
       "    <tr>\n",
       "      <th>4</th>\n",
       "      <td>Alyssa grew up in Boise, Idaho with her mom, d...</td>\n",
       "      <td>Alyssa creció en Boise, Idaho con su mamá, su ...</td>\n",
       "    </tr>\n",
       "  </tbody>\n",
       "</table>\n",
       "</div>"
      ],
      "text/plain": [
       "                                            orig_Eng  \\\n",
       "0  When that reality hit, it was like being dunke...   \n",
       "1  It’s 2009 Alyssa Elliot is sitting at her desk...   \n",
       "2  You say things like I couldn’t have foreseen t...   \n",
       "3  This is Last Day, a show about the moments tha...   \n",
       "4  Alyssa grew up in Boise, Idaho with her mom, d...   \n",
       "\n",
       "                                           trans_Spa  \n",
       "0  Cuando esa realidad llegó, fue como si te sume...  \n",
       "1  Es 2009, Alyssa Elliot está sentada en su escr...  \n",
       "2  Dices cosas como si no hubiera podido prever q...  \n",
       "3  Este es Last Day, un programa sobre los moment...  \n",
       "4  Alyssa creció en Boise, Idaho con su mamá, su ...  "
      ]
     },
     "execution_count": 13,
     "metadata": {},
     "output_type": "execute_result"
    }
   ],
   "source": [
    "Eng_to_Spa.head()"
   ]
  },
  {
   "cell_type": "code",
   "execution_count": 18,
   "id": "d6d1b4f4",
   "metadata": {
    "scrolled": true
   },
   "outputs": [
    {
     "name": "stderr",
     "output_type": "stream",
     "text": [
      "C:\\Users\\blw3912\\AppData\\Local\\Temp\\ipykernel_27552\\4025135104.py:15: FutureWarning: The frame.append method is deprecated and will be removed from pandas in a future version. Use pandas.concat instead.\n",
      "  combined_data = combined_data.append(df, ignore_index=True)\n",
      "C:\\Users\\blw3912\\AppData\\Local\\Temp\\ipykernel_27552\\4025135104.py:15: FutureWarning: The frame.append method is deprecated and will be removed from pandas in a future version. Use pandas.concat instead.\n",
      "  combined_data = combined_data.append(df, ignore_index=True)\n",
      "C:\\Users\\blw3912\\AppData\\Local\\Temp\\ipykernel_27552\\4025135104.py:15: FutureWarning: The frame.append method is deprecated and will be removed from pandas in a future version. Use pandas.concat instead.\n",
      "  combined_data = combined_data.append(df, ignore_index=True)\n",
      "C:\\Users\\blw3912\\AppData\\Local\\Temp\\ipykernel_27552\\4025135104.py:15: FutureWarning: The frame.append method is deprecated and will be removed from pandas in a future version. Use pandas.concat instead.\n",
      "  combined_data = combined_data.append(df, ignore_index=True)\n",
      "C:\\Users\\blw3912\\AppData\\Local\\Temp\\ipykernel_27552\\4025135104.py:15: FutureWarning: The frame.append method is deprecated and will be removed from pandas in a future version. Use pandas.concat instead.\n",
      "  combined_data = combined_data.append(df, ignore_index=True)\n",
      "C:\\Users\\blw3912\\AppData\\Local\\Temp\\ipykernel_27552\\4025135104.py:15: FutureWarning: The frame.append method is deprecated and will be removed from pandas in a future version. Use pandas.concat instead.\n",
      "  combined_data = combined_data.append(df, ignore_index=True)\n",
      "C:\\Users\\blw3912\\AppData\\Local\\Temp\\ipykernel_27552\\4025135104.py:15: FutureWarning: The frame.append method is deprecated and will be removed from pandas in a future version. Use pandas.concat instead.\n",
      "  combined_data = combined_data.append(df, ignore_index=True)\n",
      "C:\\Users\\blw3912\\AppData\\Local\\Temp\\ipykernel_27552\\4025135104.py:15: FutureWarning: The frame.append method is deprecated and will be removed from pandas in a future version. Use pandas.concat instead.\n",
      "  combined_data = combined_data.append(df, ignore_index=True)\n",
      "C:\\Users\\blw3912\\AppData\\Local\\Temp\\ipykernel_27552\\4025135104.py:15: FutureWarning: The frame.append method is deprecated and will be removed from pandas in a future version. Use pandas.concat instead.\n",
      "  combined_data = combined_data.append(df, ignore_index=True)\n"
     ]
    }
   ],
   "source": [
    "# Folder path\n",
    "folder_path = \"Spanish Transcript (trans. to Eng)\"\n",
    "\n",
    "# Initialize an empty DataFrame to store the combined data\n",
    "combined_data = pd.DataFrame()\n",
    "\n",
    "# Iterate over each file in the folder\n",
    "for file_name in os.listdir(folder_path):\n",
    "    if file_name.endswith(\".csv\"):\n",
    "        # Read the CSV file\n",
    "        file_path = os.path.join(folder_path, file_name)\n",
    "        df = pd.read_csv(file_path, header=None, skiprows=1)\n",
    "        \n",
    "        # Append the DataFrame to the combined data\n",
    "        combined_data = combined_data.append(df, ignore_index=True)\n",
    "\n",
    "# Save the combined data to a new CSV file\n",
    "combined_file_path = \"combined_transcripts_Spa_to_Eng.csv\"\n",
    "combined_data.to_csv(combined_file_path, index=False, header=False)\n",
    "\n",
    "Spa_to_Eng = combined_data.rename(columns = {0: \"orig_Spa\", 1: \"trans_Eng\"})"
   ]
  },
  {
   "cell_type": "code",
   "execution_count": 16,
   "id": "8a03933f",
   "metadata": {
    "scrolled": true
   },
   "outputs": [
    {
     "data": {
      "text/html": [
       "<div>\n",
       "<style scoped>\n",
       "    .dataframe tbody tr th:only-of-type {\n",
       "        vertical-align: middle;\n",
       "    }\n",
       "\n",
       "    .dataframe tbody tr th {\n",
       "        vertical-align: top;\n",
       "    }\n",
       "\n",
       "    .dataframe thead th {\n",
       "        text-align: right;\n",
       "    }\n",
       "</style>\n",
       "<table border=\"1\" class=\"dataframe\">\n",
       "  <thead>\n",
       "    <tr style=\"text-align: right;\">\n",
       "      <th></th>\n",
       "      <th>orig_Spa</th>\n",
       "      <th>trans_Eng</th>\n",
       "    </tr>\n",
       "  </thead>\n",
       "  <tbody>\n",
       "    <tr>\n",
       "      <th>0</th>\n",
       "      <td>¿Cómo estás, soy turbulent? Y yo la burrita bu...</td>\n",
       "      <td>How are you, am I turbulent? And I'm the donke...</td>\n",
       "    </tr>\n",
       "    <tr>\n",
       "      <th>1</th>\n",
       "      <td>Son largas y aparte esta esta mención es. Para...</td>\n",
       "      <td>They are long and apart from this this mention...</td>\n",
       "    </tr>\n",
       "    <tr>\n",
       "      <th>2</th>\n",
       "      <td>Y han pasado personas muy importantes por esta...</td>\n",
       "      <td>And very important people have passed through ...</td>\n",
       "    </tr>\n",
       "    <tr>\n",
       "      <th>3</th>\n",
       "      <td>Ciclo formal y a partir de aquí el podcast del...</td>\n",
       "      <td>Formal cycle and from here the podcast of the ...</td>\n",
       "    </tr>\n",
       "    <tr>\n",
       "      <th>4</th>\n",
       "      <td>Pero hay que aclarar que obviamente seguiremos...</td>\n",
       "      <td>But it must be clarified that obviously we wil...</td>\n",
       "    </tr>\n",
       "  </tbody>\n",
       "</table>\n",
       "</div>"
      ],
      "text/plain": [
       "                                            orig_Spa  \\\n",
       "0  ¿Cómo estás, soy turbulent? Y yo la burrita bu...   \n",
       "1  Son largas y aparte esta esta mención es. Para...   \n",
       "2  Y han pasado personas muy importantes por esta...   \n",
       "3  Ciclo formal y a partir de aquí el podcast del...   \n",
       "4  Pero hay que aclarar que obviamente seguiremos...   \n",
       "\n",
       "                                           trans_Eng  \n",
       "0  How are you, am I turbulent? And I'm the donke...  \n",
       "1  They are long and apart from this this mention...  \n",
       "2  And very important people have passed through ...  \n",
       "3  Formal cycle and from here the podcast of the ...  \n",
       "4  But it must be clarified that obviously we wil...  "
      ]
     },
     "execution_count": 16,
     "metadata": {},
     "output_type": "execute_result"
    }
   ],
   "source": [
    "Spa_to_Eng.head()"
   ]
  },
  {
   "cell_type": "markdown",
   "id": "65a0fbd4",
   "metadata": {},
   "source": [
    "# Begin sentiment analysis on each data frame"
   ]
  },
  {
   "cell_type": "markdown",
   "id": "a912cba4",
   "metadata": {},
   "source": [
    "## Spa_to_Eng and Eng_to_Spa"
   ]
  }
 ],
 "metadata": {
  "kernelspec": {
   "display_name": "Python 3 (ipykernel)",
   "language": "python",
   "name": "python3"
  },
  "language_info": {
   "codemirror_mode": {
    "name": "ipython",
    "version": 3
   },
   "file_extension": ".py",
   "mimetype": "text/x-python",
   "name": "python",
   "nbconvert_exporter": "python",
   "pygments_lexer": "ipython3",
   "version": "3.11.3"
  }
 },
 "nbformat": 4,
 "nbformat_minor": 5
}
