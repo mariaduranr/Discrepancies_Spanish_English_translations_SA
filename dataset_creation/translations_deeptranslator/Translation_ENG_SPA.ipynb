{
 "cells": [
  {
   "cell_type": "code",
   "execution_count": 4,
   "metadata": {},
   "outputs": [
    {
     "name": "stdout",
     "output_type": "stream",
     "text": [
      "Defaulting to user installation because normal site-packages is not writeable\n",
      "Collecting deep-translator\n",
      "  Downloading deep_translator-1.11.4-py3-none-any.whl (42 kB)\n",
      "                                              0.0/42.3 kB ? eta -:--:--\n",
      "     ---------------------------------------- 42.3/42.3 kB 1.0 MB/s eta 0:00:00\n",
      "Requirement already satisfied: beautifulsoup4<5.0.0,>=4.9.1 in c:\\programdata\\anaconda3\\lib\\site-packages (from deep-translator) (4.12.2)\n",
      "Requirement already satisfied: requests<3.0.0,>=2.23.0 in c:\\users\\blw3912\\appdata\\roaming\\python\\python311\\site-packages (from deep-translator) (2.31.0)\n",
      "Requirement already satisfied: soupsieve>1.2 in c:\\programdata\\anaconda3\\lib\\site-packages (from beautifulsoup4<5.0.0,>=4.9.1->deep-translator) (2.4)\n",
      "Requirement already satisfied: charset-normalizer<4,>=2 in c:\\programdata\\anaconda3\\lib\\site-packages (from requests<3.0.0,>=2.23.0->deep-translator) (2.0.4)\n",
      "Requirement already satisfied: idna<4,>=2.5 in c:\\programdata\\anaconda3\\lib\\site-packages (from requests<3.0.0,>=2.23.0->deep-translator) (3.4)\n",
      "Requirement already satisfied: urllib3<3,>=1.21.1 in c:\\programdata\\anaconda3\\lib\\site-packages (from requests<3.0.0,>=2.23.0->deep-translator) (1.26.16)\n",
      "Requirement already satisfied: certifi>=2017.4.17 in c:\\programdata\\anaconda3\\lib\\site-packages (from requests<3.0.0,>=2.23.0->deep-translator) (2023.5.7)\n",
      "Installing collected packages: deep-translator\n",
      "Successfully installed deep-translator-1.11.4\n",
      "Note: you may need to restart the kernel to use updated packages.\n"
     ]
    },
    {
     "name": "stderr",
     "output_type": "stream",
     "text": [
      "  WARNING: The scripts deep-translator.exe and dt.exe are installed in 'C:\\Users\\blw3912\\AppData\\Roaming\\Python\\Python311\\Scripts' which is not on PATH.\n",
      "  Consider adding this directory to PATH or, if you prefer to suppress this warning, use --no-warn-script-location.\n"
     ]
    }
   ],
   "source": [
    "pip install deep-translator"
   ]
  },
  {
   "cell_type": "code",
   "execution_count": 21,
   "metadata": {},
   "outputs": [],
   "source": [
    "import pandas as pd\n",
    "import os\n",
    "from deep_translator import GoogleTranslator"
   ]
  },
  {
   "cell_type": "code",
   "execution_count": 6,
   "metadata": {},
   "outputs": [
    {
     "data": {
      "text/html": [
       "<div>\n",
       "<style scoped>\n",
       "    .dataframe tbody tr th:only-of-type {\n",
       "        vertical-align: middle;\n",
       "    }\n",
       "\n",
       "    .dataframe tbody tr th {\n",
       "        vertical-align: top;\n",
       "    }\n",
       "\n",
       "    .dataframe thead th {\n",
       "        text-align: right;\n",
       "    }\n",
       "</style>\n",
       "<table border=\"1\" class=\"dataframe\">\n",
       "  <thead>\n",
       "    <tr style=\"text-align: right;\">\n",
       "      <th></th>\n",
       "      <th>0</th>\n",
       "    </tr>\n",
       "  </thead>\n",
       "  <tbody>\n",
       "    <tr>\n",
       "      <th>0</th>\n",
       "      <td>¿Cómo estás, soy turbulent? Y yo la burrita bu...</td>\n",
       "    </tr>\n",
       "    <tr>\n",
       "      <th>1</th>\n",
       "      <td>Son largas y aparte esta esta mención es. Para...</td>\n",
       "    </tr>\n",
       "    <tr>\n",
       "      <th>2</th>\n",
       "      <td>Y han pasado personas muy importantes por esta...</td>\n",
       "    </tr>\n",
       "    <tr>\n",
       "      <th>3</th>\n",
       "      <td>Ciclo formal y a partir de aquí el podcast del...</td>\n",
       "    </tr>\n",
       "    <tr>\n",
       "      <th>4</th>\n",
       "      <td>Pero hay que aclarar que obviamente seguiremos...</td>\n",
       "    </tr>\n",
       "  </tbody>\n",
       "</table>\n",
       "</div>"
      ],
      "text/plain": [
       "                                                   0\n",
       "0  ¿Cómo estás, soy turbulent? Y yo la burrita bu...\n",
       "1  Son largas y aparte esta esta mención es. Para...\n",
       "2  Y han pasado personas muy importantes por esta...\n",
       "3  Ciclo formal y a partir de aquí el podcast del...\n",
       "4  Pero hay que aclarar que obviamente seguiremos..."
      ]
     },
     "execution_count": 6,
     "metadata": {},
     "output_type": "execute_result"
    }
   ],
   "source": [
    "df = pd.read_csv(\"Spanish Transcript CSVs/Amponas_spoken_parts.csv\", header=None)\n",
    "df.head()"
   ]
  },
  {
   "cell_type": "code",
   "execution_count": 7,
   "metadata": {},
   "outputs": [
    {
     "data": {
      "text/html": [
       "<div>\n",
       "<style scoped>\n",
       "    .dataframe tbody tr th:only-of-type {\n",
       "        vertical-align: middle;\n",
       "    }\n",
       "\n",
       "    .dataframe tbody tr th {\n",
       "        vertical-align: top;\n",
       "    }\n",
       "\n",
       "    .dataframe thead th {\n",
       "        text-align: right;\n",
       "    }\n",
       "</style>\n",
       "<table border=\"1\" class=\"dataframe\">\n",
       "  <thead>\n",
       "    <tr style=\"text-align: right;\">\n",
       "      <th></th>\n",
       "      <th>Text_Chunks</th>\n",
       "    </tr>\n",
       "  </thead>\n",
       "  <tbody>\n",
       "    <tr>\n",
       "      <th>0</th>\n",
       "      <td>¿Cómo estás, soy turbulent? Y yo la burrita bu...</td>\n",
       "    </tr>\n",
       "    <tr>\n",
       "      <th>1</th>\n",
       "      <td>Son largas y aparte esta esta mención es. Para...</td>\n",
       "    </tr>\n",
       "    <tr>\n",
       "      <th>2</th>\n",
       "      <td>Y han pasado personas muy importantes por esta...</td>\n",
       "    </tr>\n",
       "    <tr>\n",
       "      <th>3</th>\n",
       "      <td>Ciclo formal y a partir de aquí el podcast del...</td>\n",
       "    </tr>\n",
       "    <tr>\n",
       "      <th>4</th>\n",
       "      <td>Pero hay que aclarar que obviamente seguiremos...</td>\n",
       "    </tr>\n",
       "  </tbody>\n",
       "</table>\n",
       "</div>"
      ],
      "text/plain": [
       "                                         Text_Chunks\n",
       "0  ¿Cómo estás, soy turbulent? Y yo la burrita bu...\n",
       "1  Son largas y aparte esta esta mención es. Para...\n",
       "2  Y han pasado personas muy importantes por esta...\n",
       "3  Ciclo formal y a partir de aquí el podcast del...\n",
       "4  Pero hay que aclarar que obviamente seguiremos..."
      ]
     },
     "execution_count": 7,
     "metadata": {},
     "output_type": "execute_result"
    }
   ],
   "source": [
    "#Give column names\n",
    "df.columns = ['Text_Chunks']\n",
    "df.head()"
   ]
  },
  {
   "cell_type": "markdown",
   "metadata": {},
   "source": [
    "Two Methods to do standard translation either method works choose one with best for runtime\n",
    "1. Setting up google translator and translate row by row\n",
    "2. Setting up google translator and use batch function "
   ]
  },
  {
   "cell_type": "code",
   "execution_count": 8,
   "metadata": {},
   "outputs": [],
   "source": [
    "# Set up translator change source and target language codes as needed es for spanish and en for english\n",
    "translator = GoogleTranslator(source='es', target='en') "
   ]
  },
  {
   "cell_type": "code",
   "execution_count": 18,
   "metadata": {},
   "outputs": [],
   "source": [
    "df['Translation_to_ENG'] = df['Text_Chunks'].apply(translator.translate)"
   ]
  },
  {
   "cell_type": "code",
   "execution_count": 17,
   "metadata": {
    "collapsed": true
   },
   "outputs": [
    {
     "ename": "ValueError",
     "evalue": "Length of values (10) does not match length of index (157)",
     "output_type": "error",
     "traceback": [
      "\u001b[1;31m---------------------------------------------------------------------------\u001b[0m",
      "\u001b[1;31mValueError\u001b[0m                                Traceback (most recent call last)",
      "Cell \u001b[1;32mIn[17], line 2\u001b[0m\n\u001b[0;32m      1\u001b[0m Chunk_list \u001b[38;5;241m=\u001b[39m df[\u001b[38;5;124m'\u001b[39m\u001b[38;5;124mText_Chunks\u001b[39m\u001b[38;5;124m'\u001b[39m][:\u001b[38;5;241m10\u001b[39m]\u001b[38;5;241m.\u001b[39mtolist()\n\u001b[1;32m----> 2\u001b[0m df[\u001b[38;5;124m'\u001b[39m\u001b[38;5;124mTranslation_to_ENG_batch\u001b[39m\u001b[38;5;124m'\u001b[39m] \u001b[38;5;241m=\u001b[39m GoogleTranslator(\u001b[38;5;124m'\u001b[39m\u001b[38;5;124mes\u001b[39m\u001b[38;5;124m'\u001b[39m, \u001b[38;5;124m'\u001b[39m\u001b[38;5;124men\u001b[39m\u001b[38;5;124m'\u001b[39m)\u001b[38;5;241m.\u001b[39mtranslate_batch(Chunk_list)\n",
      "File \u001b[1;32mC:\\ProgramData\\Anaconda3\\Lib\\site-packages\\pandas\\core\\frame.py:3980\u001b[0m, in \u001b[0;36mDataFrame.__setitem__\u001b[1;34m(self, key, value)\u001b[0m\n\u001b[0;32m   3977\u001b[0m     \u001b[38;5;28mself\u001b[39m\u001b[38;5;241m.\u001b[39m_setitem_array([key], value)\n\u001b[0;32m   3978\u001b[0m \u001b[38;5;28;01melse\u001b[39;00m:\n\u001b[0;32m   3979\u001b[0m     \u001b[38;5;66;03m# set column\u001b[39;00m\n\u001b[1;32m-> 3980\u001b[0m     \u001b[38;5;28mself\u001b[39m\u001b[38;5;241m.\u001b[39m_set_item(key, value)\n",
      "File \u001b[1;32mC:\\ProgramData\\Anaconda3\\Lib\\site-packages\\pandas\\core\\frame.py:4174\u001b[0m, in \u001b[0;36mDataFrame._set_item\u001b[1;34m(self, key, value)\u001b[0m\n\u001b[0;32m   4164\u001b[0m \u001b[38;5;28;01mdef\u001b[39;00m \u001b[38;5;21m_set_item\u001b[39m(\u001b[38;5;28mself\u001b[39m, key, value) \u001b[38;5;241m-\u001b[39m\u001b[38;5;241m>\u001b[39m \u001b[38;5;28;01mNone\u001b[39;00m:\n\u001b[0;32m   4165\u001b[0m \u001b[38;5;250m    \u001b[39m\u001b[38;5;124;03m\"\"\"\u001b[39;00m\n\u001b[0;32m   4166\u001b[0m \u001b[38;5;124;03m    Add series to DataFrame in specified column.\u001b[39;00m\n\u001b[0;32m   4167\u001b[0m \n\u001b[1;32m   (...)\u001b[0m\n\u001b[0;32m   4172\u001b[0m \u001b[38;5;124;03m    ensure homogeneity.\u001b[39;00m\n\u001b[0;32m   4173\u001b[0m \u001b[38;5;124;03m    \"\"\"\u001b[39;00m\n\u001b[1;32m-> 4174\u001b[0m     value \u001b[38;5;241m=\u001b[39m \u001b[38;5;28mself\u001b[39m\u001b[38;5;241m.\u001b[39m_sanitize_column(value)\n\u001b[0;32m   4176\u001b[0m     \u001b[38;5;28;01mif\u001b[39;00m (\n\u001b[0;32m   4177\u001b[0m         key \u001b[38;5;129;01min\u001b[39;00m \u001b[38;5;28mself\u001b[39m\u001b[38;5;241m.\u001b[39mcolumns\n\u001b[0;32m   4178\u001b[0m         \u001b[38;5;129;01mand\u001b[39;00m value\u001b[38;5;241m.\u001b[39mndim \u001b[38;5;241m==\u001b[39m \u001b[38;5;241m1\u001b[39m\n\u001b[0;32m   4179\u001b[0m         \u001b[38;5;129;01mand\u001b[39;00m \u001b[38;5;129;01mnot\u001b[39;00m is_extension_array_dtype(value)\n\u001b[0;32m   4180\u001b[0m     ):\n\u001b[0;32m   4181\u001b[0m         \u001b[38;5;66;03m# broadcast across multiple columns if necessary\u001b[39;00m\n\u001b[0;32m   4182\u001b[0m         \u001b[38;5;28;01mif\u001b[39;00m \u001b[38;5;129;01mnot\u001b[39;00m \u001b[38;5;28mself\u001b[39m\u001b[38;5;241m.\u001b[39mcolumns\u001b[38;5;241m.\u001b[39mis_unique \u001b[38;5;129;01mor\u001b[39;00m \u001b[38;5;28misinstance\u001b[39m(\u001b[38;5;28mself\u001b[39m\u001b[38;5;241m.\u001b[39mcolumns, MultiIndex):\n",
      "File \u001b[1;32mC:\\ProgramData\\Anaconda3\\Lib\\site-packages\\pandas\\core\\frame.py:4915\u001b[0m, in \u001b[0;36mDataFrame._sanitize_column\u001b[1;34m(self, value)\u001b[0m\n\u001b[0;32m   4912\u001b[0m     \u001b[38;5;28;01mreturn\u001b[39;00m _reindex_for_setitem(Series(value), \u001b[38;5;28mself\u001b[39m\u001b[38;5;241m.\u001b[39mindex)\n\u001b[0;32m   4914\u001b[0m \u001b[38;5;28;01mif\u001b[39;00m is_list_like(value):\n\u001b[1;32m-> 4915\u001b[0m     com\u001b[38;5;241m.\u001b[39mrequire_length_match(value, \u001b[38;5;28mself\u001b[39m\u001b[38;5;241m.\u001b[39mindex)\n\u001b[0;32m   4916\u001b[0m \u001b[38;5;28;01mreturn\u001b[39;00m sanitize_array(value, \u001b[38;5;28mself\u001b[39m\u001b[38;5;241m.\u001b[39mindex, copy\u001b[38;5;241m=\u001b[39m\u001b[38;5;28;01mTrue\u001b[39;00m, allow_2d\u001b[38;5;241m=\u001b[39m\u001b[38;5;28;01mTrue\u001b[39;00m)\n",
      "File \u001b[1;32mC:\\ProgramData\\Anaconda3\\Lib\\site-packages\\pandas\\core\\common.py:571\u001b[0m, in \u001b[0;36mrequire_length_match\u001b[1;34m(data, index)\u001b[0m\n\u001b[0;32m    567\u001b[0m \u001b[38;5;250m\u001b[39m\u001b[38;5;124;03m\"\"\"\u001b[39;00m\n\u001b[0;32m    568\u001b[0m \u001b[38;5;124;03mCheck the length of data matches the length of the index.\u001b[39;00m\n\u001b[0;32m    569\u001b[0m \u001b[38;5;124;03m\"\"\"\u001b[39;00m\n\u001b[0;32m    570\u001b[0m \u001b[38;5;28;01mif\u001b[39;00m \u001b[38;5;28mlen\u001b[39m(data) \u001b[38;5;241m!=\u001b[39m \u001b[38;5;28mlen\u001b[39m(index):\n\u001b[1;32m--> 571\u001b[0m     \u001b[38;5;28;01mraise\u001b[39;00m \u001b[38;5;167;01mValueError\u001b[39;00m(\n\u001b[0;32m    572\u001b[0m         \u001b[38;5;124m\"\u001b[39m\u001b[38;5;124mLength of values \u001b[39m\u001b[38;5;124m\"\u001b[39m\n\u001b[0;32m    573\u001b[0m         \u001b[38;5;124mf\u001b[39m\u001b[38;5;124m\"\u001b[39m\u001b[38;5;124m(\u001b[39m\u001b[38;5;132;01m{\u001b[39;00m\u001b[38;5;28mlen\u001b[39m(data)\u001b[38;5;132;01m}\u001b[39;00m\u001b[38;5;124m) \u001b[39m\u001b[38;5;124m\"\u001b[39m\n\u001b[0;32m    574\u001b[0m         \u001b[38;5;124m\"\u001b[39m\u001b[38;5;124mdoes not match length of index \u001b[39m\u001b[38;5;124m\"\u001b[39m\n\u001b[0;32m    575\u001b[0m         \u001b[38;5;124mf\u001b[39m\u001b[38;5;124m\"\u001b[39m\u001b[38;5;124m(\u001b[39m\u001b[38;5;132;01m{\u001b[39;00m\u001b[38;5;28mlen\u001b[39m(index)\u001b[38;5;132;01m}\u001b[39;00m\u001b[38;5;124m)\u001b[39m\u001b[38;5;124m\"\u001b[39m\n\u001b[0;32m    576\u001b[0m     )\n",
      "\u001b[1;31mValueError\u001b[0m: Length of values (10) does not match length of index (157)"
     ]
    }
   ],
   "source": [
    "Chunk_list = df['Text_Chunks'].tolist()\n",
    "df['Translation_to_ENG_batch'] = GoogleTranslator('es', 'en').translate_batch(Chunk_list)"
   ]
  },
  {
   "cell_type": "code",
   "execution_count": null,
   "metadata": {},
   "outputs": [],
   "source": [
    "df.head()"
   ]
  },
  {
   "cell_type": "code",
   "execution_count": 20,
   "metadata": {},
   "outputs": [],
   "source": [
    "#option to write to csv\n",
    "df.to_csv('Translated_to_English_Chunks.csv')"
   ]
  },
  {
   "cell_type": "markdown",
   "metadata": {},
   "source": [
    "# Translate all Spanish to English"
   ]
  },
  {
   "cell_type": "code",
   "execution_count": 24,
   "metadata": {},
   "outputs": [],
   "source": [
    "translator = GoogleTranslator(source='es', target='en') \n",
    "output_directory = \"Spanish Transcript (trans. to Eng)\"\n",
    "\n",
    "file_names = [\"Barberias\", \"Techos\", \"Amponas\", \"Damitas\", \"Subio\", \"Ovnis\", \"Fobias\", \"Farid\", \"Triangulo\"]\n",
    "\n",
    "for name in file_names:\n",
    "    file_path = f\"Spanish Transcript CSVs/{name}_spoken_parts.csv\"\n",
    "    \n",
    "    df = pd.read_csv(file_path, header=None)\n",
    "    df.columns = ['Text_Chunks']\n",
    "    df['Translation_to_ENG'] = df['Text_Chunks'].apply(translator.translate)\n",
    "    \n",
    "    output_file_path = os.path.join(output_directory, f'Translated_to_English_{name}.csv')\n",
    "    df.to_csv(output_file_path, index=False)"
   ]
  },
  {
   "cell_type": "markdown",
   "metadata": {},
   "source": [
    "# Translate all English to Spanish"
   ]
  },
  {
   "cell_type": "markdown",
   "metadata": {},
   "source": [
    "## Turns out GoogleTranslator has a 5000 char limit... fixed this below"
   ]
  },
  {
   "cell_type": "code",
   "execution_count": 28,
   "metadata": {
    "scrolled": true
   },
   "outputs": [
    {
     "ename": "NotValidLength",
     "evalue": "Oh, this is so hard. I don’t know how to answer this Emily because I was you at your age. Oh, I just wanted to be an actor, I wanted to be an actress, I wanted to be musicals, I wanted to be all these things. And I was so mad at my mom. She only let me be in school plays but you know what I was in school plays and it panned out great. I’m reading a diary entry. I kept a diary a meticulous diary. But like when I was like 12 and 13 so it’s not like the deepest shit but it’s you know, and one is like, mom will let me sign up for […] on which was like child models or whatever, just pay this, you know fee and we’ll get you or kids into modeling or whatever and of course, my mom was like, That’s bullshit, and you’re not doing it no. I wrote my diary because I knew someone would read it someday and know how abusive she was. Mom won’t let me do […] on. But um, you know, I did school plays, and it was awesome. And I was so into it, and I took an acting class. And there’s lots of stuff you can do at 9 and 10 and 11. You know, you could do that local plays, community theater, school plays. And I think your mom’s probably right in it seems like, for ever from now, before you are, you know, 18 and can make your own decisions or whatever it is, childhood takes forever, because, like, the first seven years of your life is your whole life. But like, to me seven years ago was like, oh, yeah, seven years ago, it was like, I was a comedian, I was doing that, you know, it was like, nothing ago. As you get older, life gets shorter. So I understand like, it feels like forever. But, you know, you know what I would do? I would be in my room and I would read monologues and I would, you know, I would do Emily, not you, but Emily, the character Emily and in our town, and she has a big monologue in the third act, and I would read it in my room, and I would, you know, I’d make stuff up with my friends. And you don’t have to be an earner, you don’t have to be making a living at nine. And you know, one thing I do disagree with your mom, is that these kids are spoiled brats. They might seem like spoiled brats, they’re children, working, like working a job like adults. It’s long hours, it seems very glamorous and fun. And because the only part that you see is the fun part. But it’s long and boring. And you’re not with your friends. And some kids thrive. Some kids thrive and then hit a real hard wall. You know, you’ll be right for and to answer your question. I do work with kids and I have worked with kids and I’m working with kids on this musical the bed wetter because it stars a 10 year old me. And boy, the rejection these kids go through is on another level. And a lot of kids it affects them in a negative way. Some kids thrive and you know, a they grow up to be Jodie Foster, they grew up to be Ron Howard or they grew up to be Selena Gomez. But um, a lot really don’t make it out well, you know, and to have like a real childhood to base the rest of your acting career on to actually have lived experience that isn’t on a film set or a TV set. You don’t want to hear it now and it doesn’t seem real now but they promise it will be worth it. God I couldn’t wait. I could not wait to be an adult and get to be an actor. And even then you don’t necessarily get to be an actor. I got lucky I was a stand up I you know, but that said I will say there are these New York kids, you know, that are Broadway veterans and they you know, the young woman who played me in the Off Broadway Run, Zoe Glick was beyond brilliant. I mean, she was like a tiny Meryl Streep. She didn’t she wasn’t naturally like a little me. She built this character. from the inside out. I watched it happen. And it was mind blowing. This kid is going to be have whatever career she wants, but we couldn’t use her anymore. For the crime of growing, she’s like 14, 15 now. And it was heartbreaking. Because I would have had her forever if I could. But the part is for a little kid. And what happens is, she aged out. Now she’ll age into other roles. She’ll play teenagers and she’ll play you know, older kids. But I can’t imagine what that’s like to she carried this show, this musical. It was all on her shoulders and she was absolutely brilliant. Brilliant and she grew out of it. She didn’t do anything wrong, she did everything right. I don’t know what the right thing is I, you know, I want to support you beat you. Listen, no one’s keeping you from being an artist. No one’s keeping you from performing monologues at dinner, or working on your craft or taking acting lessons or being in local plays. That’s what I did. And if you care about the craft, and it’s not just like, I want to be famous, which is not a craft, then you’ll love doing it. You know, doesn’t matter if the audience is five people or 5 million people. It’s about the craft of acting. And that’s what you are passionate about, right? There’s so much to learn. I mean, part of learning, acting is watching people, or, or listening into the table next to you at a restaurant or on the bus. You know, listening to conversations and thinking, this is real life. And as an actor, I want to capture what that is, I want to really be able to show what real life looks like you know, and study people and watch a million movies, and find out what kind of acting is interesting to you and watch different actors and how they play different roles. There’s so much to do in the next nine years for you to prepare yourself. Live life, observe people and have experiences, you know, if you can be in a local play or your school, play, do it all. But all of it feeds into your future. It’s all preparation. It’s all the stuff you draw on. You only have one childhood. Everything that’s happening right now in your life is the stuff you’re going to be drawing from as an actor. So you’ve already started, and your mom is probably doing the right thing. And I know you won’t understand it now. But you will, alright, what else? --> Text length need to be between 0 and 5000 characters",
     "output_type": "error",
     "traceback": [
      "\u001b[1;31m---------------------------------------------------------------------------\u001b[0m",
      "\u001b[1;31mNotValidLength\u001b[0m                            Traceback (most recent call last)",
      "Cell \u001b[1;32mIn[28], line 11\u001b[0m\n\u001b[0;32m      9\u001b[0m df \u001b[38;5;241m=\u001b[39m pd\u001b[38;5;241m.\u001b[39mread_csv(file_path, header\u001b[38;5;241m=\u001b[39m\u001b[38;5;28;01mNone\u001b[39;00m)\n\u001b[0;32m     10\u001b[0m df\u001b[38;5;241m.\u001b[39mcolumns \u001b[38;5;241m=\u001b[39m [\u001b[38;5;124m'\u001b[39m\u001b[38;5;124mText_Chunks\u001b[39m\u001b[38;5;124m'\u001b[39m]\n\u001b[1;32m---> 11\u001b[0m df[\u001b[38;5;124m'\u001b[39m\u001b[38;5;124mTranslation_to_SPA\u001b[39m\u001b[38;5;124m'\u001b[39m] \u001b[38;5;241m=\u001b[39m df[\u001b[38;5;124m'\u001b[39m\u001b[38;5;124mText_Chunks\u001b[39m\u001b[38;5;124m'\u001b[39m]\u001b[38;5;241m.\u001b[39mapply(translator\u001b[38;5;241m.\u001b[39mtranslate)\n\u001b[0;32m     13\u001b[0m output_file_path \u001b[38;5;241m=\u001b[39m os\u001b[38;5;241m.\u001b[39mpath\u001b[38;5;241m.\u001b[39mjoin(output_directory, \u001b[38;5;124mf\u001b[39m\u001b[38;5;124m'\u001b[39m\u001b[38;5;124mTranslated_to_Spanish_\u001b[39m\u001b[38;5;132;01m{\u001b[39;00mname\u001b[38;5;132;01m}\u001b[39;00m\u001b[38;5;124m.csv\u001b[39m\u001b[38;5;124m'\u001b[39m)\n\u001b[0;32m     14\u001b[0m df\u001b[38;5;241m.\u001b[39mto_csv(output_file_path, index\u001b[38;5;241m=\u001b[39m\u001b[38;5;28;01mFalse\u001b[39;00m)\n",
      "File \u001b[1;32mC:\\ProgramData\\Anaconda3\\Lib\\site-packages\\pandas\\core\\series.py:4771\u001b[0m, in \u001b[0;36mSeries.apply\u001b[1;34m(self, func, convert_dtype, args, **kwargs)\u001b[0m\n\u001b[0;32m   4661\u001b[0m \u001b[38;5;28;01mdef\u001b[39;00m \u001b[38;5;21mapply\u001b[39m(\n\u001b[0;32m   4662\u001b[0m     \u001b[38;5;28mself\u001b[39m,\n\u001b[0;32m   4663\u001b[0m     func: AggFuncType,\n\u001b[1;32m   (...)\u001b[0m\n\u001b[0;32m   4666\u001b[0m     \u001b[38;5;241m*\u001b[39m\u001b[38;5;241m*\u001b[39mkwargs,\n\u001b[0;32m   4667\u001b[0m ) \u001b[38;5;241m-\u001b[39m\u001b[38;5;241m>\u001b[39m DataFrame \u001b[38;5;241m|\u001b[39m Series:\n\u001b[0;32m   4668\u001b[0m \u001b[38;5;250m    \u001b[39m\u001b[38;5;124;03m\"\"\"\u001b[39;00m\n\u001b[0;32m   4669\u001b[0m \u001b[38;5;124;03m    Invoke function on values of Series.\u001b[39;00m\n\u001b[0;32m   4670\u001b[0m \n\u001b[1;32m   (...)\u001b[0m\n\u001b[0;32m   4769\u001b[0m \u001b[38;5;124;03m    dtype: float64\u001b[39;00m\n\u001b[0;32m   4770\u001b[0m \u001b[38;5;124;03m    \"\"\"\u001b[39;00m\n\u001b[1;32m-> 4771\u001b[0m     \u001b[38;5;28;01mreturn\u001b[39;00m SeriesApply(\u001b[38;5;28mself\u001b[39m, func, convert_dtype, args, kwargs)\u001b[38;5;241m.\u001b[39mapply()\n",
      "File \u001b[1;32mC:\\ProgramData\\Anaconda3\\Lib\\site-packages\\pandas\\core\\apply.py:1123\u001b[0m, in \u001b[0;36mSeriesApply.apply\u001b[1;34m(self)\u001b[0m\n\u001b[0;32m   1120\u001b[0m     \u001b[38;5;28;01mreturn\u001b[39;00m \u001b[38;5;28mself\u001b[39m\u001b[38;5;241m.\u001b[39mapply_str()\n\u001b[0;32m   1122\u001b[0m \u001b[38;5;66;03m# self.f is Callable\u001b[39;00m\n\u001b[1;32m-> 1123\u001b[0m \u001b[38;5;28;01mreturn\u001b[39;00m \u001b[38;5;28mself\u001b[39m\u001b[38;5;241m.\u001b[39mapply_standard()\n",
      "File \u001b[1;32mC:\\ProgramData\\Anaconda3\\Lib\\site-packages\\pandas\\core\\apply.py:1174\u001b[0m, in \u001b[0;36mSeriesApply.apply_standard\u001b[1;34m(self)\u001b[0m\n\u001b[0;32m   1172\u001b[0m     \u001b[38;5;28;01melse\u001b[39;00m:\n\u001b[0;32m   1173\u001b[0m         values \u001b[38;5;241m=\u001b[39m obj\u001b[38;5;241m.\u001b[39mastype(\u001b[38;5;28mobject\u001b[39m)\u001b[38;5;241m.\u001b[39m_values\n\u001b[1;32m-> 1174\u001b[0m         mapped \u001b[38;5;241m=\u001b[39m lib\u001b[38;5;241m.\u001b[39mmap_infer(\n\u001b[0;32m   1175\u001b[0m             values,\n\u001b[0;32m   1176\u001b[0m             f,\n\u001b[0;32m   1177\u001b[0m             convert\u001b[38;5;241m=\u001b[39m\u001b[38;5;28mself\u001b[39m\u001b[38;5;241m.\u001b[39mconvert_dtype,\n\u001b[0;32m   1178\u001b[0m         )\n\u001b[0;32m   1180\u001b[0m \u001b[38;5;28;01mif\u001b[39;00m \u001b[38;5;28mlen\u001b[39m(mapped) \u001b[38;5;129;01mand\u001b[39;00m \u001b[38;5;28misinstance\u001b[39m(mapped[\u001b[38;5;241m0\u001b[39m], ABCSeries):\n\u001b[0;32m   1181\u001b[0m     \u001b[38;5;66;03m# GH#43986 Need to do list(mapped) in order to get treated as nested\u001b[39;00m\n\u001b[0;32m   1182\u001b[0m     \u001b[38;5;66;03m#  See also GH#25959 regarding EA support\u001b[39;00m\n\u001b[0;32m   1183\u001b[0m     \u001b[38;5;28;01mreturn\u001b[39;00m obj\u001b[38;5;241m.\u001b[39m_constructor_expanddim(\u001b[38;5;28mlist\u001b[39m(mapped), index\u001b[38;5;241m=\u001b[39mobj\u001b[38;5;241m.\u001b[39mindex)\n",
      "File \u001b[1;32mC:\\ProgramData\\Anaconda3\\Lib\\site-packages\\pandas\\_libs\\lib.pyx:2924\u001b[0m, in \u001b[0;36mpandas._libs.lib.map_infer\u001b[1;34m()\u001b[0m\n",
      "File \u001b[1;32m~\\AppData\\Roaming\\Python\\Python311\\site-packages\\deep_translator\\google.py:57\u001b[0m, in \u001b[0;36mGoogleTranslator.translate\u001b[1;34m(self, text, **kwargs)\u001b[0m\n\u001b[0;32m     51\u001b[0m \u001b[38;5;28;01mdef\u001b[39;00m \u001b[38;5;21mtranslate\u001b[39m(\u001b[38;5;28mself\u001b[39m, text: \u001b[38;5;28mstr\u001b[39m, \u001b[38;5;241m*\u001b[39m\u001b[38;5;241m*\u001b[39mkwargs) \u001b[38;5;241m-\u001b[39m\u001b[38;5;241m>\u001b[39m \u001b[38;5;28mstr\u001b[39m:\n\u001b[0;32m     52\u001b[0m \u001b[38;5;250m    \u001b[39m\u001b[38;5;124;03m\"\"\"\u001b[39;00m\n\u001b[0;32m     53\u001b[0m \u001b[38;5;124;03m    function to translate a text\u001b[39;00m\n\u001b[0;32m     54\u001b[0m \u001b[38;5;124;03m    @param text: desired text to translate\u001b[39;00m\n\u001b[0;32m     55\u001b[0m \u001b[38;5;124;03m    @return: str: translated text\u001b[39;00m\n\u001b[0;32m     56\u001b[0m \u001b[38;5;124;03m    \"\"\"\u001b[39;00m\n\u001b[1;32m---> 57\u001b[0m     \u001b[38;5;28;01mif\u001b[39;00m is_input_valid(text, max_chars\u001b[38;5;241m=\u001b[39m\u001b[38;5;241m5000\u001b[39m):\n\u001b[0;32m     58\u001b[0m         text \u001b[38;5;241m=\u001b[39m text\u001b[38;5;241m.\u001b[39mstrip()\n\u001b[0;32m     59\u001b[0m         \u001b[38;5;28;01mif\u001b[39;00m \u001b[38;5;28mself\u001b[39m\u001b[38;5;241m.\u001b[39m_same_source_target() \u001b[38;5;129;01mor\u001b[39;00m is_empty(text):\n",
      "File \u001b[1;32m~\\AppData\\Roaming\\Python\\Python311\\site-packages\\deep_translator\\validate.py:41\u001b[0m, in \u001b[0;36mis_input_valid\u001b[1;34m(text, min_chars, max_chars)\u001b[0m\n\u001b[0;32m     39\u001b[0m     \u001b[38;5;28;01mraise\u001b[39;00m NotValidPayload(text)\n\u001b[0;32m     40\u001b[0m \u001b[38;5;28;01mif\u001b[39;00m max_chars \u001b[38;5;129;01mand\u001b[39;00m (\u001b[38;5;129;01mnot\u001b[39;00m min_chars \u001b[38;5;241m<\u001b[39m\u001b[38;5;241m=\u001b[39m \u001b[38;5;28mlen\u001b[39m(text) \u001b[38;5;241m<\u001b[39m max_chars):\n\u001b[1;32m---> 41\u001b[0m     \u001b[38;5;28;01mraise\u001b[39;00m NotValidLength(text, min_chars, max_chars)\n\u001b[0;32m     43\u001b[0m \u001b[38;5;28;01mreturn\u001b[39;00m \u001b[38;5;28;01mTrue\u001b[39;00m\n",
      "\u001b[1;31mNotValidLength\u001b[0m: Oh, this is so hard. I don’t know how to answer this Emily because I was you at your age. Oh, I just wanted to be an actor, I wanted to be an actress, I wanted to be musicals, I wanted to be all these things. And I was so mad at my mom. She only let me be in school plays but you know what I was in school plays and it panned out great. I’m reading a diary entry. I kept a diary a meticulous diary. But like when I was like 12 and 13 so it’s not like the deepest shit but it’s you know, and one is like, mom will let me sign up for […] on which was like child models or whatever, just pay this, you know fee and we’ll get you or kids into modeling or whatever and of course, my mom was like, That’s bullshit, and you’re not doing it no. I wrote my diary because I knew someone would read it someday and know how abusive she was. Mom won’t let me do […] on. But um, you know, I did school plays, and it was awesome. And I was so into it, and I took an acting class. And there’s lots of stuff you can do at 9 and 10 and 11. You know, you could do that local plays, community theater, school plays. And I think your mom’s probably right in it seems like, for ever from now, before you are, you know, 18 and can make your own decisions or whatever it is, childhood takes forever, because, like, the first seven years of your life is your whole life. But like, to me seven years ago was like, oh, yeah, seven years ago, it was like, I was a comedian, I was doing that, you know, it was like, nothing ago. As you get older, life gets shorter. So I understand like, it feels like forever. But, you know, you know what I would do? I would be in my room and I would read monologues and I would, you know, I would do Emily, not you, but Emily, the character Emily and in our town, and she has a big monologue in the third act, and I would read it in my room, and I would, you know, I’d make stuff up with my friends. And you don’t have to be an earner, you don’t have to be making a living at nine. And you know, one thing I do disagree with your mom, is that these kids are spoiled brats. They might seem like spoiled brats, they’re children, working, like working a job like adults. It’s long hours, it seems very glamorous and fun. And because the only part that you see is the fun part. But it’s long and boring. And you’re not with your friends. And some kids thrive. Some kids thrive and then hit a real hard wall. You know, you’ll be right for and to answer your question. I do work with kids and I have worked with kids and I’m working with kids on this musical the bed wetter because it stars a 10 year old me. And boy, the rejection these kids go through is on another level. And a lot of kids it affects them in a negative way. Some kids thrive and you know, a they grow up to be Jodie Foster, they grew up to be Ron Howard or they grew up to be Selena Gomez. But um, a lot really don’t make it out well, you know, and to have like a real childhood to base the rest of your acting career on to actually have lived experience that isn’t on a film set or a TV set. You don’t want to hear it now and it doesn’t seem real now but they promise it will be worth it. God I couldn’t wait. I could not wait to be an adult and get to be an actor. And even then you don’t necessarily get to be an actor. I got lucky I was a stand up I you know, but that said I will say there are these New York kids, you know, that are Broadway veterans and they you know, the young woman who played me in the Off Broadway Run, Zoe Glick was beyond brilliant. I mean, she was like a tiny Meryl Streep. She didn’t she wasn’t naturally like a little me. She built this character. from the inside out. I watched it happen. And it was mind blowing. This kid is going to be have whatever career she wants, but we couldn’t use her anymore. For the crime of growing, she’s like 14, 15 now. And it was heartbreaking. Because I would have had her forever if I could. But the part is for a little kid. And what happens is, she aged out. Now she’ll age into other roles. She’ll play teenagers and she’ll play you know, older kids. But I can’t imagine what that’s like to she carried this show, this musical. It was all on her shoulders and she was absolutely brilliant. Brilliant and she grew out of it. She didn’t do anything wrong, she did everything right. I don’t know what the right thing is I, you know, I want to support you beat you. Listen, no one’s keeping you from being an artist. No one’s keeping you from performing monologues at dinner, or working on your craft or taking acting lessons or being in local plays. That’s what I did. And if you care about the craft, and it’s not just like, I want to be famous, which is not a craft, then you’ll love doing it. You know, doesn’t matter if the audience is five people or 5 million people. It’s about the craft of acting. And that’s what you are passionate about, right? There’s so much to learn. I mean, part of learning, acting is watching people, or, or listening into the table next to you at a restaurant or on the bus. You know, listening to conversations and thinking, this is real life. And as an actor, I want to capture what that is, I want to really be able to show what real life looks like you know, and study people and watch a million movies, and find out what kind of acting is interesting to you and watch different actors and how they play different roles. There’s so much to do in the next nine years for you to prepare yourself. Live life, observe people and have experiences, you know, if you can be in a local play or your school, play, do it all. But all of it feeds into your future. It’s all preparation. It’s all the stuff you draw on. You only have one childhood. Everything that’s happening right now in your life is the stuff you’re going to be drawing from as an actor. So you’ve already started, and your mom is probably doing the right thing. And I know you won’t understand it now. But you will, alright, what else? --> Text length need to be between 0 and 5000 characters"
     ]
    }
   ],
   "source": [
    "translator = GoogleTranslator(source='en', target='es')\n",
    "output_directory = \"English Transcript (trans. to Spanish)\"\n",
    "\n",
    "file_names = [\"Flaps\", \"Christine\", \"Mariko\", \"Highway\", \"Cat\", \"Wax\", \"Alyssa\", \"Carrie\", \"Unfit\", \"Awkward\"]\n",
    "\n",
    "for name in file_names:\n",
    "    file_path = f\"English Transcript CSVs/{name}_spoken_parts.csv\"\n",
    "    \n",
    "    df = pd.read_csv(file_path, header=None)\n",
    "    df.columns = ['Text_Chunks']\n",
    "    df['Translation_to_SPA'] = df['Text_Chunks'].apply(translator.translate)\n",
    "    \n",
    "    output_file_path = os.path.join(output_directory, f'Translated_to_Spanish_{name}.csv')\n",
    "    df.to_csv(output_file_path, index=False)"
   ]
  },
  {
   "cell_type": "markdown",
   "metadata": {},
   "source": [
    "## Check how many of the strings in English podcasts are longer than 5000 chars"
   ]
  },
  {
   "cell_type": "code",
   "execution_count": 65,
   "metadata": {},
   "outputs": [
    {
     "data": {
      "text/plain": [
       "[(('Alyssa', 43), 4381),\n",
       " (('Alyssa', 15), 2980),\n",
       " (('Carrie', 63), 2548),\n",
       " (('Flaps', 26), 2338),\n",
       " (('Alyssa', 17), 2338)]"
      ]
     },
     "execution_count": 65,
     "metadata": {},
     "output_type": "execute_result"
    }
   ],
   "source": [
    "file_names = [\"Flaps\", \"Christine\", \"Mariko\", \"Highway\", \"Cat\", \"Wax\", \"Alyssa\", \"Carrie\", \"Unfit\", \"Awkward\"]\n",
    "\n",
    "line_lengths = {}\n",
    "for name in file_names:\n",
    "    file_path = f\"English Transcript CSVs/{name}_spoken_parts.csv\"\n",
    "    \n",
    "    df = pd.read_csv(file_path, header=None)\n",
    "    \n",
    "    i = 0\n",
    "    for line in df[0]:\n",
    "        length = len(line)\n",
    "        line_lengths[(name, i)] = length\n",
    "        i += 1\n",
    "\n",
    "sorted_lengths = sorted(line_lengths.items(), key=lambda x: x[1], reverse=True)\n",
    "sorted_lengths[:5]\n",
    "\n",
    "# Since this was run after Flaps was manually truncated, the sorted_lengths dictionary now shows only values less than 5000"
   ]
  },
  {
   "cell_type": "markdown",
   "metadata": {},
   "source": [
    "### <s>Since Flaps line 30 is the only string with over 5000 chars, truncate it </s>"
   ]
  },
  {
   "cell_type": "code",
   "execution_count": 60,
   "metadata": {},
   "outputs": [],
   "source": [
    "# file_name = \"Flaps\"\n",
    "# file_path = f\"English Transcript CSVs/{file_name}_spoken_parts.csv\"\n",
    "    \n",
    "# Flaps = pd.read_csv(file_path, header=None)\n",
    "# Flaps[0][30] = Flaps[0][30][:5000]\n",
    "# Flaps.to_csv(file_path, index=False, header=False)"
   ]
  },
  {
   "cell_type": "markdown",
   "metadata": {},
   "source": [
    "### Flaps line 30 was still throwing a max_chars error, so I manually deleted the line from the .csv instead"
   ]
  },
  {
   "cell_type": "markdown",
   "metadata": {},
   "source": [
    "## Rerun the translator now that all the English strings are under 5000 chars"
   ]
  },
  {
   "cell_type": "code",
   "execution_count": 64,
   "metadata": {},
   "outputs": [],
   "source": [
    "translator = GoogleTranslator(source='en', target='es')\n",
    "output_directory = \"English Transcript (trans. to Spanish)\"\n",
    "\n",
    "#file_names = [\"Flaps\", \"Christine\", \"Mariko\", \"Highway\", \"Cat\", \"Wax\", \"Alyssa\", \"Carrie\", \"Unfit\", \"Awkward\"]\n",
    "file_names = [\"Awkward\"]\n",
    "\n",
    "for name in file_names:\n",
    "    file_path = f\"English Transcript CSVs/{name}_spoken_parts.csv\"\n",
    "    \n",
    "    df = pd.read_csv(file_path, header=None)\n",
    "    df.columns = ['Text_Chunks']\n",
    "    df['Translation_to_SPA'] = df['Text_Chunks'].apply(translator.translate)\n",
    "    \n",
    "    output_file_path = os.path.join(output_directory, f'Translated_to_Spanish_{name}.csv')\n",
    "    df.to_csv(output_file_path, index=False)"
   ]
  }
 ],
 "metadata": {
  "kernelspec": {
   "display_name": "Python 3 (ipykernel)",
   "language": "python",
   "name": "python3"
  },
  "language_info": {
   "codemirror_mode": {
    "name": "ipython",
    "version": 3
   },
   "file_extension": ".py",
   "mimetype": "text/x-python",
   "name": "python",
   "nbconvert_exporter": "python",
   "pygments_lexer": "ipython3",
   "version": "3.11.3"
  }
 },
 "nbformat": 4,
 "nbformat_minor": 2
}
