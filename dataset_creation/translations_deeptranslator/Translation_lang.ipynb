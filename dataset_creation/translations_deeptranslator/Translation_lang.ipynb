{
 "cells": [
  {
   "cell_type": "code",
   "execution_count": 2,
   "metadata": {},
   "outputs": [],
   "source": [
    "import pandas as pd\n",
    "from deep_translator import GoogleTranslator"
   ]
  },
  {
   "cell_type": "code",
   "execution_count": 2,
   "metadata": {},
   "outputs": [
    {
     "data": {
      "text/html": [
       "<div>\n",
       "<style scoped>\n",
       "    .dataframe tbody tr th:only-of-type {\n",
       "        vertical-align: middle;\n",
       "    }\n",
       "\n",
       "    .dataframe tbody tr th {\n",
       "        vertical-align: top;\n",
       "    }\n",
       "\n",
       "    .dataframe thead th {\n",
       "        text-align: right;\n",
       "    }\n",
       "</style>\n",
       "<table border=\"1\" class=\"dataframe\">\n",
       "  <thead>\n",
       "    <tr style=\"text-align: right;\">\n",
       "      <th></th>\n",
       "      <th>Idiom</th>\n",
       "      <th>Meaning</th>\n",
       "      <th>literal_translation</th>\n",
       "      <th>Example</th>\n",
       "    </tr>\n",
       "  </thead>\n",
       "  <tbody>\n",
       "    <tr>\n",
       "      <th>0</th>\n",
       "      <td>A buen hambre, no hay pan duro.</td>\n",
       "      <td>Beggars can’t be choosers.</td>\n",
       "      <td>To good hunger there is no hard bread.</td>\n",
       "      <td></td>\n",
       "    </tr>\n",
       "    <tr>\n",
       "      <th>1</th>\n",
       "      <td>estar como unasopa</td>\n",
       "      <td>to be soaked to the bone</td>\n",
       "      <td>to be like a soup</td>\n",
       "      <td></td>\n",
       "    </tr>\n",
       "    <tr>\n",
       "      <th>2</th>\n",
       "      <td>estar como un fideo</td>\n",
       "      <td>to be thin as a rail</td>\n",
       "      <td>to be like a noodle</td>\n",
       "      <td></td>\n",
       "    </tr>\n",
       "    <tr>\n",
       "      <th>3</th>\n",
       "      <td>estar como un queso</td>\n",
       "      <td>to be hot (sexually attractive)</td>\n",
       "      <td>to be like a cheese</td>\n",
       "      <td></td>\n",
       "    </tr>\n",
       "    <tr>\n",
       "      <th>4</th>\n",
       "      <td>no importar un pepino</td>\n",
       "      <td>to not care at all</td>\n",
       "      <td>to not give a cucumber</td>\n",
       "      <td></td>\n",
       "    </tr>\n",
       "  </tbody>\n",
       "</table>\n",
       "</div>"
      ],
      "text/plain": [
       "                             Idiom                          Meaning  \\\n",
       "0  A buen hambre, no hay pan duro.       Beggars can’t be choosers.   \n",
       "1               estar como unasopa         to be soaked to the bone   \n",
       "2              estar como un fideo             to be thin as a rail   \n",
       "3              estar como un queso  to be hot (sexually attractive)   \n",
       "4            no importar un pepino               to not care at all   \n",
       "\n",
       "                      literal_translation Example  \n",
       "0  To good hunger there is no hard bread.          \n",
       "1                       to be like a soup          \n",
       "2                     to be like a noodle          \n",
       "3                     to be like a cheese          \n",
       "4                  to not give a cucumber          "
      ]
     },
     "execution_count": 2,
     "metadata": {},
     "output_type": "execute_result"
    }
   ],
   "source": [
    "df = pd.read_csv(\"Spanish_idioms.csv\")\n",
    "df.head()"
   ]
  },
  {
   "cell_type": "code",
   "execution_count": 3,
   "metadata": {},
   "outputs": [],
   "source": [
    "# Set up translator\n",
    "translator = GoogleTranslator(source='es', target='en')"
   ]
  },
  {
   "cell_type": "code",
   "execution_count": 6,
   "metadata": {},
   "outputs": [],
   "source": [
    "# Translate the idioms\n",
    "df['Translation_to_ENG'] = df['Idiom'].apply(translator.translate)"
   ]
  },
  {
   "cell_type": "code",
   "execution_count": 4,
   "metadata": {},
   "outputs": [],
   "source": [
    "idioms_list = df['Idiom'].tolist()\n",
    "df['Translation_to_ENG_batch'] = GoogleTranslator('es', 'en').translate_batch(idioms_list)"
   ]
  },
  {
   "cell_type": "code",
   "execution_count": 5,
   "metadata": {},
   "outputs": [],
   "source": [
    "df.to_csv(\"Spanish_idioms_translated.csv\")"
   ]
  },
  {
   "cell_type": "code",
   "execution_count": 3,
   "metadata": {},
   "outputs": [
    {
     "data": {
      "text/html": [
       "<div>\n",
       "<style scoped>\n",
       "    .dataframe tbody tr th:only-of-type {\n",
       "        vertical-align: middle;\n",
       "    }\n",
       "\n",
       "    .dataframe tbody tr th {\n",
       "        vertical-align: top;\n",
       "    }\n",
       "\n",
       "    .dataframe thead th {\n",
       "        text-align: right;\n",
       "    }\n",
       "</style>\n",
       "<table border=\"1\" class=\"dataframe\">\n",
       "  <thead>\n",
       "    <tr style=\"text-align: right;\">\n",
       "      <th></th>\n",
       "      <th>Idiom</th>\n",
       "      <th>Meaning</th>\n",
       "      <th>Example</th>\n",
       "      <th>Part_of_Speech</th>\n",
       "    </tr>\n",
       "  </thead>\n",
       "  <tbody>\n",
       "    <tr>\n",
       "      <th>0</th>\n",
       "      <td>Under the weather</td>\n",
       "      <td>Feeling ill / Getting a cold</td>\n",
       "      <td>My mom was feeling a bit under the weather.</td>\n",
       "      <td>NaN</td>\n",
       "    </tr>\n",
       "    <tr>\n",
       "      <th>1</th>\n",
       "      <td>Cold feet</td>\n",
       "      <td>Becoming nervous</td>\n",
       "      <td>It was her chance to speak and she was getting...</td>\n",
       "      <td>NaN</td>\n",
       "    </tr>\n",
       "    <tr>\n",
       "      <th>2</th>\n",
       "      <td>Apple of my eye</td>\n",
       "      <td>Used to refer to someone whom you are very fon...</td>\n",
       "      <td>My younger brother is the apple of my eye.</td>\n",
       "      <td>NaN</td>\n",
       "    </tr>\n",
       "    <tr>\n",
       "      <th>3</th>\n",
       "      <td>Set the record straight</td>\n",
       "      <td>To reveal the truth / To clarify</td>\n",
       "      <td>In order to set the record straight, the umpir...</td>\n",
       "      <td>NaN</td>\n",
       "    </tr>\n",
       "    <tr>\n",
       "      <th>4</th>\n",
       "      <td>Kill two birds with a stone</td>\n",
       "      <td>Achieve two results by doing one thing</td>\n",
       "      <td>None of us understood that he was trying to ki...</td>\n",
       "      <td>NaN</td>\n",
       "    </tr>\n",
       "  </tbody>\n",
       "</table>\n",
       "</div>"
      ],
      "text/plain": [
       "                         Idiom  \\\n",
       "0            Under the weather   \n",
       "1                    Cold feet   \n",
       "2              Apple of my eye   \n",
       "3      Set the record straight   \n",
       "4  Kill two birds with a stone   \n",
       "\n",
       "                                             Meaning  \\\n",
       "0                       Feeling ill / Getting a cold   \n",
       "1                                   Becoming nervous   \n",
       "2  Used to refer to someone whom you are very fon...   \n",
       "3                   To reveal the truth / To clarify   \n",
       "4             Achieve two results by doing one thing   \n",
       "\n",
       "                                             Example Part_of_Speech  \n",
       "0        My mom was feeling a bit under the weather.            NaN  \n",
       "1  It was her chance to speak and she was getting...            NaN  \n",
       "2         My younger brother is the apple of my eye.            NaN  \n",
       "3  In order to set the record straight, the umpir...            NaN  \n",
       "4  None of us understood that he was trying to ki...            NaN  "
      ]
     },
     "execution_count": 3,
     "metadata": {},
     "output_type": "execute_result"
    }
   ],
   "source": [
    "df_ENG = pd.read_csv(\"English_idioms.csv\")\n",
    "df_ENG.head()"
   ]
  },
  {
   "cell_type": "code",
   "execution_count": 17,
   "metadata": {},
   "outputs": [],
   "source": [
    "# Set up translator\n",
    "translator = GoogleTranslator(source='en', target='es')"
   ]
  },
  {
   "cell_type": "code",
   "execution_count": 18,
   "metadata": {},
   "outputs": [],
   "source": [
    "# Translate the idioms\n",
    "df_ENG['Translation_to_SPA'] = df_ENG['Idiom'].apply(translator.translate)"
   ]
  },
  {
   "cell_type": "code",
   "execution_count": 11,
   "metadata": {},
   "outputs": [],
   "source": [
    "idioms_list = df_ENG['Idiom'].tolist()\n",
    "df_ENG['Translation_to_SPA_batch'] = GoogleTranslator('en', 'es').translate_batch(idioms_list)"
   ]
  },
  {
   "cell_type": "code",
   "execution_count": 10,
   "metadata": {},
   "outputs": [],
   "source": [
    "df_ENG.to_csv(\"Spanish_idioms_translated.csv\")"
   ]
  },
  {
   "cell_type": "code",
   "execution_count": 11,
   "metadata": {},
   "outputs": [
    {
     "data": {
      "text/html": [
       "<div>\n",
       "<style scoped>\n",
       "    .dataframe tbody tr th:only-of-type {\n",
       "        vertical-align: middle;\n",
       "    }\n",
       "\n",
       "    .dataframe tbody tr th {\n",
       "        vertical-align: top;\n",
       "    }\n",
       "\n",
       "    .dataframe thead th {\n",
       "        text-align: right;\n",
       "    }\n",
       "</style>\n",
       "<table border=\"1\" class=\"dataframe\">\n",
       "  <thead>\n",
       "    <tr style=\"text-align: right;\">\n",
       "      <th></th>\n",
       "      <th>Unnamed: 0</th>\n",
       "      <th>Idiom</th>\n",
       "      <th>Meaning</th>\n",
       "      <th>literal_translation</th>\n",
       "      <th>Example</th>\n",
       "      <th>Translation_to_ENG_batch</th>\n",
       "    </tr>\n",
       "  </thead>\n",
       "  <tbody>\n",
       "    <tr>\n",
       "      <th>0</th>\n",
       "      <td>0</td>\n",
       "      <td>A buen hambre, no hay pan duro.</td>\n",
       "      <td>Beggars can’t be choosers.</td>\n",
       "      <td>To good hunger there is no hard bread.</td>\n",
       "      <td></td>\n",
       "      <td>A good hunger no hard bread.</td>\n",
       "    </tr>\n",
       "    <tr>\n",
       "      <th>1</th>\n",
       "      <td>1</td>\n",
       "      <td>estar como unasopa</td>\n",
       "      <td>to be soaked to the bone</td>\n",
       "      <td>to be like a soup</td>\n",
       "      <td></td>\n",
       "      <td>be like a soup</td>\n",
       "    </tr>\n",
       "    <tr>\n",
       "      <th>2</th>\n",
       "      <td>2</td>\n",
       "      <td>estar como un fideo</td>\n",
       "      <td>to be thin as a rail</td>\n",
       "      <td>to be like a noodle</td>\n",
       "      <td></td>\n",
       "      <td>be like a noodle</td>\n",
       "    </tr>\n",
       "    <tr>\n",
       "      <th>3</th>\n",
       "      <td>3</td>\n",
       "      <td>estar como un queso</td>\n",
       "      <td>to be hot (sexually attractive)</td>\n",
       "      <td>to be like a cheese</td>\n",
       "      <td></td>\n",
       "      <td>be like cheese</td>\n",
       "    </tr>\n",
       "    <tr>\n",
       "      <th>4</th>\n",
       "      <td>4</td>\n",
       "      <td>no importar un pepino</td>\n",
       "      <td>to not care at all</td>\n",
       "      <td>to not give a cucumber</td>\n",
       "      <td></td>\n",
       "      <td>not giving a damn</td>\n",
       "    </tr>\n",
       "  </tbody>\n",
       "</table>\n",
       "</div>"
      ],
      "text/plain": [
       "   Unnamed: 0                            Idiom  \\\n",
       "0           0  A buen hambre, no hay pan duro.   \n",
       "1           1               estar como unasopa   \n",
       "2           2              estar como un fideo   \n",
       "3           3              estar como un queso   \n",
       "4           4            no importar un pepino   \n",
       "\n",
       "                           Meaning                     literal_translation  \\\n",
       "0       Beggars can’t be choosers.  To good hunger there is no hard bread.   \n",
       "1         to be soaked to the bone                       to be like a soup   \n",
       "2             to be thin as a rail                     to be like a noodle   \n",
       "3  to be hot (sexually attractive)                     to be like a cheese   \n",
       "4               to not care at all                  to not give a cucumber   \n",
       "\n",
       "  Example      Translation_to_ENG_batch  \n",
       "0          A good hunger no hard bread.  \n",
       "1                        be like a soup  \n",
       "2                      be like a noodle  \n",
       "3                        be like cheese  \n",
       "4                     not giving a damn  "
      ]
     },
     "execution_count": 11,
     "metadata": {},
     "output_type": "execute_result"
    }
   ],
   "source": [
    "df_ENG.head()"
   ]
  }
 ],
 "metadata": {
  "kernelspec": {
   "display_name": "venv",
   "language": "python",
   "name": "python3"
  },
  "language_info": {
   "codemirror_mode": {
    "name": "ipython",
    "version": 3
   },
   "file_extension": ".py",
   "mimetype": "text/x-python",
   "name": "python",
   "nbconvert_exporter": "python",
   "pygments_lexer": "ipython3",
   "version": "3.12.0"
  }
 },
 "nbformat": 4,
 "nbformat_minor": 2
}
