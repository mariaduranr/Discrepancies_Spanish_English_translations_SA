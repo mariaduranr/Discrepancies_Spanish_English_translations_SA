{
 "cells": [
  {
   "cell_type": "code",
   "execution_count": 16,
   "metadata": {},
   "outputs": [],
   "source": [
    "import pandas as pd\n",
    "from deep_translator import GoogleTranslator"
   ]
  },
  {
   "cell_type": "code",
   "execution_count": 28,
   "metadata": {},
   "outputs": [],
   "source": [
    "df_amp = pd.read_csv(\"Spanish Transcript CSVs/Amponas_spoken_parts.csv\", header=None)\n",
    "df_bar = pd.read_csv(\"Spanish Transcript CSVs/Barberias_spoken_parts.csv\", header=None)\n",
    "df_dam = pd.read_csv(\"Spanish Transcript CSVs/Damitas_spoken_parts.csv\", header=None)\n",
    "df_far = pd.read_csv(\"Spanish Transcript CSVs/Farid_spoken_parts.csv\", header=None)\n",
    "df_fob = pd.read_csv(\"Spanish Transcript CSVs/Fobias_spoken_parts.csv\", header=None)\n",
    "df_ovn = pd.read_csv(\"Spanish Transcript CSVs/Ovnis_spoken_parts.csv\", header=None)\n",
    "df_sub = pd.read_csv(\"Spanish Transcript CSVs/Subio_spoken_parts.csv\", header=None)\n",
    "df_tec = pd.read_csv(\"Spanish Transcript CSVs/Techos_spoken_parts.csv\", header=None)\n",
    "df_Tri = pd.read_csv(\"Spanish Transcript CSVs/Triangulo_spoken_parts.csv\", header=None)\n"
   ]
  },
  {
   "cell_type": "code",
   "execution_count": 29,
   "metadata": {},
   "outputs": [
    {
     "data": {
      "text/plain": [
       "1239"
      ]
     },
     "execution_count": 29,
     "metadata": {},
     "output_type": "execute_result"
    }
   ],
   "source": [
    "#find the number of total rows in all dataframes\n",
    "total_rows = len(df_amp) + len(df_bar) + len(df_dam) + len(df_far) + len(df_fob) + len(df_ovn) + len(df_sub) + len(df_tec) + len(df_Tri)\n",
    "total_rows"
   ]
  },
  {
   "cell_type": "markdown",
   "metadata": {},
   "source": [
    "Two Methods to do standard translation either method works choose one with best for runtime\n",
    "1. Setting up google translator and translate row by row\n",
    "2. Setting up google translator and use batch function "
   ]
  },
  {
   "cell_type": "code",
   "execution_count": 19,
   "metadata": {},
   "outputs": [],
   "source": [
    "# Set up translator change source and target language codes as needed es for spanish and en for english\n",
    "translator = GoogleTranslator(source='es', target='en') "
   ]
  },
  {
   "cell_type": "markdown",
   "metadata": {},
   "source": []
  },
  {
   "cell_type": "code",
   "execution_count": 20,
   "metadata": {},
   "outputs": [],
   "source": [
    "# create a list of dataframes\n",
    "dfs = [df_amp,df_bar, df_dam, df_far, df_fob, df_ovn, df_sub, df_tec, df_Tri]\n",
    "\n",
    "for i in dfs:\n",
    "    i.columns = ['Text_Chunks']\n",
    "    i['Translation_to_ENG'] = i['Text_Chunks'].apply(translator.translate)"
   ]
  },
  {
   "cell_type": "code",
   "execution_count": 21,
   "metadata": {},
   "outputs": [
    {
     "data": {
      "text/html": [
       "<div>\n",
       "<style scoped>\n",
       "    .dataframe tbody tr th:only-of-type {\n",
       "        vertical-align: middle;\n",
       "    }\n",
       "\n",
       "    .dataframe tbody tr th {\n",
       "        vertical-align: top;\n",
       "    }\n",
       "\n",
       "    .dataframe thead th {\n",
       "        text-align: right;\n",
       "    }\n",
       "</style>\n",
       "<table border=\"1\" class=\"dataframe\">\n",
       "  <thead>\n",
       "    <tr style=\"text-align: right;\">\n",
       "      <th></th>\n",
       "      <th>Text_Chunks</th>\n",
       "      <th>Translation_to_ENG</th>\n",
       "      <th>Podcast_Name</th>\n",
       "    </tr>\n",
       "  </thead>\n",
       "  <tbody>\n",
       "    <tr>\n",
       "      <th>0</th>\n",
       "      <td>¿Cómo estás, soy turbulent? Y yo la burrita bu...</td>\n",
       "      <td>How are you, am I turbulent? And I'm the donke...</td>\n",
       "      <td>Amponas</td>\n",
       "    </tr>\n",
       "    <tr>\n",
       "      <th>1</th>\n",
       "      <td>Son largas y aparte esta esta mención es. Para...</td>\n",
       "      <td>They are long and apart from this this mention...</td>\n",
       "      <td>Amponas</td>\n",
       "    </tr>\n",
       "    <tr>\n",
       "      <th>2</th>\n",
       "      <td>Y han pasado personas muy importantes por esta...</td>\n",
       "      <td>And very important people have passed through ...</td>\n",
       "      <td>Amponas</td>\n",
       "    </tr>\n",
       "    <tr>\n",
       "      <th>3</th>\n",
       "      <td>Ciclo formal y a partir de aquí el podcast del...</td>\n",
       "      <td>Formal cycle and from here the podcast of the ...</td>\n",
       "      <td>Amponas</td>\n",
       "    </tr>\n",
       "    <tr>\n",
       "      <th>4</th>\n",
       "      <td>Pero hay que aclarar que obviamente seguiremos...</td>\n",
       "      <td>But it must be clarified that obviously we wil...</td>\n",
       "      <td>Amponas</td>\n",
       "    </tr>\n",
       "  </tbody>\n",
       "</table>\n",
       "</div>"
      ],
      "text/plain": [
       "                                         Text_Chunks  \\\n",
       "0  ¿Cómo estás, soy turbulent? Y yo la burrita bu...   \n",
       "1  Son largas y aparte esta esta mención es. Para...   \n",
       "2  Y han pasado personas muy importantes por esta...   \n",
       "3  Ciclo formal y a partir de aquí el podcast del...   \n",
       "4  Pero hay que aclarar que obviamente seguiremos...   \n",
       "\n",
       "                                  Translation_to_ENG Podcast_Name  \n",
       "0  How are you, am I turbulent? And I'm the donke...      Amponas  \n",
       "1  They are long and apart from this this mention...      Amponas  \n",
       "2  And very important people have passed through ...      Amponas  \n",
       "3  Formal cycle and from here the podcast of the ...      Amponas  \n",
       "4  But it must be clarified that obviously we wil...      Amponas  "
      ]
     },
     "execution_count": 21,
     "metadata": {},
     "output_type": "execute_result"
    }
   ],
   "source": [
    "# Adding a new column with the respective transcript names\n",
    "df_amp['Podcast_Name'] = 'Amponas'\n",
    "df_bar['Podcast_Name'] = 'Barberias'\n",
    "df_dam['Podcast_Name'] = 'Damitas'\n",
    "df_far['Podcast_Name'] = 'Farid'\n",
    "df_fob['Podcast_Name'] = 'Fobias'\n",
    "df_ovn['Podcast_Name'] = 'Ovnis'\n",
    "df_sub['Podcast_Name'] = 'Subio'\n",
    "df_tec['Podcast_Name'] = 'Techos'\n",
    "df_Tri['Podcast_Name'] = 'Triangulo'\n",
    "df_amp.head()"
   ]
  },
  {
   "cell_type": "code",
   "execution_count": 22,
   "metadata": {},
   "outputs": [],
   "source": [
    "#write csv files for each podcast\n",
    "df_amp.to_csv('Amponas_translated.csv')\n",
    "df_bar.to_csv('Barberias_translated.csv')\n",
    "df_dam.to_csv('Damitas_translated.csv')\n",
    "df_far.to_csv('Farid_translated.csv')\n",
    "df_fob.to_csv('Fobias_translated.csv')\n",
    "df_ovn.to_csv('Ovnis_translated.csv')\n",
    "df_sub.to_csv('Subio_translated.csv')\n",
    "df_tec.to_csv('Techos_translated.csv')\n",
    "df_Tri.to_csv('Triangulo_translated.csv')"
   ]
  },
  {
   "cell_type": "code",
   "execution_count": 24,
   "metadata": {},
   "outputs": [
    {
     "data": {
      "text/plain": [
       "(1239, 3)"
      ]
     },
     "execution_count": 24,
     "metadata": {},
     "output_type": "execute_result"
    }
   ],
   "source": [
    "#df.drop('Translation_to_ENG_batch', axis=1, inplace=True)\n",
    "# concatenate the dataframes\n",
    "df_all = pd.concat(dfs)\n",
    "df_all.shape"
   ]
  },
  {
   "cell_type": "code",
   "execution_count": 25,
   "metadata": {},
   "outputs": [],
   "source": [
    "df_all.to_csv('Podcast_Translated_to_English.csv')"
   ]
  }
 ],
 "metadata": {
  "kernelspec": {
   "display_name": "venv",
   "language": "python",
   "name": "python3"
  },
  "language_info": {
   "codemirror_mode": {
    "name": "ipython",
    "version": 3
   },
   "file_extension": ".py",
   "mimetype": "text/x-python",
   "name": "python",
   "nbconvert_exporter": "python",
   "pygments_lexer": "ipython3",
   "version": "3.12.0"
  }
 },
 "nbformat": 4,
 "nbformat_minor": 2
}
