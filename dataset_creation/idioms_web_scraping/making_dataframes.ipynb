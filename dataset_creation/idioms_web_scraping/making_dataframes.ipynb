{
 "cells": [
  {
   "cell_type": "code",
   "execution_count": 2,
   "metadata": {},
   "outputs": [],
   "source": [
    "#read all files into dataframes\n",
    "import pandas as pd"
   ]
  },
  {
   "cell_type": "code",
   "execution_count": 3,
   "metadata": {},
   "outputs": [
    {
     "name": "stderr",
     "output_type": "stream",
     "text": [
      "<>:1: SyntaxWarning: invalid escape sequence '\\c'\n",
      "<>:1: SyntaxWarning: invalid escape sequence '\\c'\n",
      "C:\\Users\\iyp4754\\AppData\\Local\\Temp\\ipykernel_24168\\3001163670.py:1: SyntaxWarning: invalid escape sequence '\\c'\n",
      "  df = pd.read_csv(\"chat_tran\\chat_translations_to_eng_amp.txt\")\n",
      "C:\\Users\\iyp4754\\AppData\\Local\\Temp\\ipykernel_24168\\3001163670.py:1: SyntaxWarning: invalid escape sequence '\\c'\n",
      "  df = pd.read_csv(\"chat_tran\\chat_translations_to_eng_amp.txt\")\n"
     ]
    },
    {
     "ename": "FileNotFoundError",
     "evalue": "[Errno 2] No such file or directory: 'chat_tran\\\\chat_translations_to_eng_amp.txt'",
     "output_type": "error",
     "traceback": [
      "\u001b[1;31m---------------------------------------------------------------------------\u001b[0m",
      "\u001b[1;31mFileNotFoundError\u001b[0m                         Traceback (most recent call last)",
      "Cell \u001b[1;32mIn[3], line 1\u001b[0m\n\u001b[1;32m----> 1\u001b[0m df \u001b[38;5;241m=\u001b[39m \u001b[43mpd\u001b[49m\u001b[38;5;241;43m.\u001b[39;49m\u001b[43mread_csv\u001b[49m\u001b[43m(\u001b[49m\u001b[38;5;124;43m\"\u001b[39;49m\u001b[38;5;124;43mchat_tran\u001b[39;49m\u001b[38;5;124;43m\\\u001b[39;49m\u001b[38;5;124;43mchat_translations_to_eng_amp.txt\u001b[39;49m\u001b[38;5;124;43m\"\u001b[39;49m\u001b[43m)\u001b[49m\n\u001b[0;32m      2\u001b[0m \u001b[38;5;66;03m#remove white spaces lines \u001b[39;00m\n\u001b[0;32m      3\u001b[0m df \u001b[38;5;241m=\u001b[39m df\u001b[38;5;241m.\u001b[39mdropna()\n",
      "File \u001b[1;32mc:\\Users\\iyp4754\\OneDrive\\Documents\\DSC Project 522\\venv\\Lib\\site-packages\\pandas\\io\\parsers\\readers.py:1026\u001b[0m, in \u001b[0;36mread_csv\u001b[1;34m(filepath_or_buffer, sep, delimiter, header, names, index_col, usecols, dtype, engine, converters, true_values, false_values, skipinitialspace, skiprows, skipfooter, nrows, na_values, keep_default_na, na_filter, verbose, skip_blank_lines, parse_dates, infer_datetime_format, keep_date_col, date_parser, date_format, dayfirst, cache_dates, iterator, chunksize, compression, thousands, decimal, lineterminator, quotechar, quoting, doublequote, escapechar, comment, encoding, encoding_errors, dialect, on_bad_lines, delim_whitespace, low_memory, memory_map, float_precision, storage_options, dtype_backend)\u001b[0m\n\u001b[0;32m   1013\u001b[0m kwds_defaults \u001b[38;5;241m=\u001b[39m _refine_defaults_read(\n\u001b[0;32m   1014\u001b[0m     dialect,\n\u001b[0;32m   1015\u001b[0m     delimiter,\n\u001b[1;32m   (...)\u001b[0m\n\u001b[0;32m   1022\u001b[0m     dtype_backend\u001b[38;5;241m=\u001b[39mdtype_backend,\n\u001b[0;32m   1023\u001b[0m )\n\u001b[0;32m   1024\u001b[0m kwds\u001b[38;5;241m.\u001b[39mupdate(kwds_defaults)\n\u001b[1;32m-> 1026\u001b[0m \u001b[38;5;28;01mreturn\u001b[39;00m \u001b[43m_read\u001b[49m\u001b[43m(\u001b[49m\u001b[43mfilepath_or_buffer\u001b[49m\u001b[43m,\u001b[49m\u001b[43m \u001b[49m\u001b[43mkwds\u001b[49m\u001b[43m)\u001b[49m\n",
      "File \u001b[1;32mc:\\Users\\iyp4754\\OneDrive\\Documents\\DSC Project 522\\venv\\Lib\\site-packages\\pandas\\io\\parsers\\readers.py:620\u001b[0m, in \u001b[0;36m_read\u001b[1;34m(filepath_or_buffer, kwds)\u001b[0m\n\u001b[0;32m    617\u001b[0m _validate_names(kwds\u001b[38;5;241m.\u001b[39mget(\u001b[38;5;124m\"\u001b[39m\u001b[38;5;124mnames\u001b[39m\u001b[38;5;124m\"\u001b[39m, \u001b[38;5;28;01mNone\u001b[39;00m))\n\u001b[0;32m    619\u001b[0m \u001b[38;5;66;03m# Create the parser.\u001b[39;00m\n\u001b[1;32m--> 620\u001b[0m parser \u001b[38;5;241m=\u001b[39m \u001b[43mTextFileReader\u001b[49m\u001b[43m(\u001b[49m\u001b[43mfilepath_or_buffer\u001b[49m\u001b[43m,\u001b[49m\u001b[43m \u001b[49m\u001b[38;5;241;43m*\u001b[39;49m\u001b[38;5;241;43m*\u001b[39;49m\u001b[43mkwds\u001b[49m\u001b[43m)\u001b[49m\n\u001b[0;32m    622\u001b[0m \u001b[38;5;28;01mif\u001b[39;00m chunksize \u001b[38;5;129;01mor\u001b[39;00m iterator:\n\u001b[0;32m    623\u001b[0m     \u001b[38;5;28;01mreturn\u001b[39;00m parser\n",
      "File \u001b[1;32mc:\\Users\\iyp4754\\OneDrive\\Documents\\DSC Project 522\\venv\\Lib\\site-packages\\pandas\\io\\parsers\\readers.py:1620\u001b[0m, in \u001b[0;36mTextFileReader.__init__\u001b[1;34m(self, f, engine, **kwds)\u001b[0m\n\u001b[0;32m   1617\u001b[0m     \u001b[38;5;28mself\u001b[39m\u001b[38;5;241m.\u001b[39moptions[\u001b[38;5;124m\"\u001b[39m\u001b[38;5;124mhas_index_names\u001b[39m\u001b[38;5;124m\"\u001b[39m] \u001b[38;5;241m=\u001b[39m kwds[\u001b[38;5;124m\"\u001b[39m\u001b[38;5;124mhas_index_names\u001b[39m\u001b[38;5;124m\"\u001b[39m]\n\u001b[0;32m   1619\u001b[0m \u001b[38;5;28mself\u001b[39m\u001b[38;5;241m.\u001b[39mhandles: IOHandles \u001b[38;5;241m|\u001b[39m \u001b[38;5;28;01mNone\u001b[39;00m \u001b[38;5;241m=\u001b[39m \u001b[38;5;28;01mNone\u001b[39;00m\n\u001b[1;32m-> 1620\u001b[0m \u001b[38;5;28mself\u001b[39m\u001b[38;5;241m.\u001b[39m_engine \u001b[38;5;241m=\u001b[39m \u001b[38;5;28;43mself\u001b[39;49m\u001b[38;5;241;43m.\u001b[39;49m\u001b[43m_make_engine\u001b[49m\u001b[43m(\u001b[49m\u001b[43mf\u001b[49m\u001b[43m,\u001b[49m\u001b[43m \u001b[49m\u001b[38;5;28;43mself\u001b[39;49m\u001b[38;5;241;43m.\u001b[39;49m\u001b[43mengine\u001b[49m\u001b[43m)\u001b[49m\n",
      "File \u001b[1;32mc:\\Users\\iyp4754\\OneDrive\\Documents\\DSC Project 522\\venv\\Lib\\site-packages\\pandas\\io\\parsers\\readers.py:1880\u001b[0m, in \u001b[0;36mTextFileReader._make_engine\u001b[1;34m(self, f, engine)\u001b[0m\n\u001b[0;32m   1878\u001b[0m     \u001b[38;5;28;01mif\u001b[39;00m \u001b[38;5;124m\"\u001b[39m\u001b[38;5;124mb\u001b[39m\u001b[38;5;124m\"\u001b[39m \u001b[38;5;129;01mnot\u001b[39;00m \u001b[38;5;129;01min\u001b[39;00m mode:\n\u001b[0;32m   1879\u001b[0m         mode \u001b[38;5;241m+\u001b[39m\u001b[38;5;241m=\u001b[39m \u001b[38;5;124m\"\u001b[39m\u001b[38;5;124mb\u001b[39m\u001b[38;5;124m\"\u001b[39m\n\u001b[1;32m-> 1880\u001b[0m \u001b[38;5;28mself\u001b[39m\u001b[38;5;241m.\u001b[39mhandles \u001b[38;5;241m=\u001b[39m \u001b[43mget_handle\u001b[49m\u001b[43m(\u001b[49m\n\u001b[0;32m   1881\u001b[0m \u001b[43m    \u001b[49m\u001b[43mf\u001b[49m\u001b[43m,\u001b[49m\n\u001b[0;32m   1882\u001b[0m \u001b[43m    \u001b[49m\u001b[43mmode\u001b[49m\u001b[43m,\u001b[49m\n\u001b[0;32m   1883\u001b[0m \u001b[43m    \u001b[49m\u001b[43mencoding\u001b[49m\u001b[38;5;241;43m=\u001b[39;49m\u001b[38;5;28;43mself\u001b[39;49m\u001b[38;5;241;43m.\u001b[39;49m\u001b[43moptions\u001b[49m\u001b[38;5;241;43m.\u001b[39;49m\u001b[43mget\u001b[49m\u001b[43m(\u001b[49m\u001b[38;5;124;43m\"\u001b[39;49m\u001b[38;5;124;43mencoding\u001b[39;49m\u001b[38;5;124;43m\"\u001b[39;49m\u001b[43m,\u001b[49m\u001b[43m \u001b[49m\u001b[38;5;28;43;01mNone\u001b[39;49;00m\u001b[43m)\u001b[49m\u001b[43m,\u001b[49m\n\u001b[0;32m   1884\u001b[0m \u001b[43m    \u001b[49m\u001b[43mcompression\u001b[49m\u001b[38;5;241;43m=\u001b[39;49m\u001b[38;5;28;43mself\u001b[39;49m\u001b[38;5;241;43m.\u001b[39;49m\u001b[43moptions\u001b[49m\u001b[38;5;241;43m.\u001b[39;49m\u001b[43mget\u001b[49m\u001b[43m(\u001b[49m\u001b[38;5;124;43m\"\u001b[39;49m\u001b[38;5;124;43mcompression\u001b[39;49m\u001b[38;5;124;43m\"\u001b[39;49m\u001b[43m,\u001b[49m\u001b[43m \u001b[49m\u001b[38;5;28;43;01mNone\u001b[39;49;00m\u001b[43m)\u001b[49m\u001b[43m,\u001b[49m\n\u001b[0;32m   1885\u001b[0m \u001b[43m    \u001b[49m\u001b[43mmemory_map\u001b[49m\u001b[38;5;241;43m=\u001b[39;49m\u001b[38;5;28;43mself\u001b[39;49m\u001b[38;5;241;43m.\u001b[39;49m\u001b[43moptions\u001b[49m\u001b[38;5;241;43m.\u001b[39;49m\u001b[43mget\u001b[49m\u001b[43m(\u001b[49m\u001b[38;5;124;43m\"\u001b[39;49m\u001b[38;5;124;43mmemory_map\u001b[39;49m\u001b[38;5;124;43m\"\u001b[39;49m\u001b[43m,\u001b[49m\u001b[43m \u001b[49m\u001b[38;5;28;43;01mFalse\u001b[39;49;00m\u001b[43m)\u001b[49m\u001b[43m,\u001b[49m\n\u001b[0;32m   1886\u001b[0m \u001b[43m    \u001b[49m\u001b[43mis_text\u001b[49m\u001b[38;5;241;43m=\u001b[39;49m\u001b[43mis_text\u001b[49m\u001b[43m,\u001b[49m\n\u001b[0;32m   1887\u001b[0m \u001b[43m    \u001b[49m\u001b[43merrors\u001b[49m\u001b[38;5;241;43m=\u001b[39;49m\u001b[38;5;28;43mself\u001b[39;49m\u001b[38;5;241;43m.\u001b[39;49m\u001b[43moptions\u001b[49m\u001b[38;5;241;43m.\u001b[39;49m\u001b[43mget\u001b[49m\u001b[43m(\u001b[49m\u001b[38;5;124;43m\"\u001b[39;49m\u001b[38;5;124;43mencoding_errors\u001b[39;49m\u001b[38;5;124;43m\"\u001b[39;49m\u001b[43m,\u001b[49m\u001b[43m \u001b[49m\u001b[38;5;124;43m\"\u001b[39;49m\u001b[38;5;124;43mstrict\u001b[39;49m\u001b[38;5;124;43m\"\u001b[39;49m\u001b[43m)\u001b[49m\u001b[43m,\u001b[49m\n\u001b[0;32m   1888\u001b[0m \u001b[43m    \u001b[49m\u001b[43mstorage_options\u001b[49m\u001b[38;5;241;43m=\u001b[39;49m\u001b[38;5;28;43mself\u001b[39;49m\u001b[38;5;241;43m.\u001b[39;49m\u001b[43moptions\u001b[49m\u001b[38;5;241;43m.\u001b[39;49m\u001b[43mget\u001b[49m\u001b[43m(\u001b[49m\u001b[38;5;124;43m\"\u001b[39;49m\u001b[38;5;124;43mstorage_options\u001b[39;49m\u001b[38;5;124;43m\"\u001b[39;49m\u001b[43m,\u001b[49m\u001b[43m \u001b[49m\u001b[38;5;28;43;01mNone\u001b[39;49;00m\u001b[43m)\u001b[49m\u001b[43m,\u001b[49m\n\u001b[0;32m   1889\u001b[0m \u001b[43m\u001b[49m\u001b[43m)\u001b[49m\n\u001b[0;32m   1890\u001b[0m \u001b[38;5;28;01massert\u001b[39;00m \u001b[38;5;28mself\u001b[39m\u001b[38;5;241m.\u001b[39mhandles \u001b[38;5;129;01mis\u001b[39;00m \u001b[38;5;129;01mnot\u001b[39;00m \u001b[38;5;28;01mNone\u001b[39;00m\n\u001b[0;32m   1891\u001b[0m f \u001b[38;5;241m=\u001b[39m \u001b[38;5;28mself\u001b[39m\u001b[38;5;241m.\u001b[39mhandles\u001b[38;5;241m.\u001b[39mhandle\n",
      "File \u001b[1;32mc:\\Users\\iyp4754\\OneDrive\\Documents\\DSC Project 522\\venv\\Lib\\site-packages\\pandas\\io\\common.py:873\u001b[0m, in \u001b[0;36mget_handle\u001b[1;34m(path_or_buf, mode, encoding, compression, memory_map, is_text, errors, storage_options)\u001b[0m\n\u001b[0;32m    868\u001b[0m \u001b[38;5;28;01melif\u001b[39;00m \u001b[38;5;28misinstance\u001b[39m(handle, \u001b[38;5;28mstr\u001b[39m):\n\u001b[0;32m    869\u001b[0m     \u001b[38;5;66;03m# Check whether the filename is to be opened in binary mode.\u001b[39;00m\n\u001b[0;32m    870\u001b[0m     \u001b[38;5;66;03m# Binary mode does not support 'encoding' and 'newline'.\u001b[39;00m\n\u001b[0;32m    871\u001b[0m     \u001b[38;5;28;01mif\u001b[39;00m ioargs\u001b[38;5;241m.\u001b[39mencoding \u001b[38;5;129;01mand\u001b[39;00m \u001b[38;5;124m\"\u001b[39m\u001b[38;5;124mb\u001b[39m\u001b[38;5;124m\"\u001b[39m \u001b[38;5;129;01mnot\u001b[39;00m \u001b[38;5;129;01min\u001b[39;00m ioargs\u001b[38;5;241m.\u001b[39mmode:\n\u001b[0;32m    872\u001b[0m         \u001b[38;5;66;03m# Encoding\u001b[39;00m\n\u001b[1;32m--> 873\u001b[0m         handle \u001b[38;5;241m=\u001b[39m \u001b[38;5;28;43mopen\u001b[39;49m\u001b[43m(\u001b[49m\n\u001b[0;32m    874\u001b[0m \u001b[43m            \u001b[49m\u001b[43mhandle\u001b[49m\u001b[43m,\u001b[49m\n\u001b[0;32m    875\u001b[0m \u001b[43m            \u001b[49m\u001b[43mioargs\u001b[49m\u001b[38;5;241;43m.\u001b[39;49m\u001b[43mmode\u001b[49m\u001b[43m,\u001b[49m\n\u001b[0;32m    876\u001b[0m \u001b[43m            \u001b[49m\u001b[43mencoding\u001b[49m\u001b[38;5;241;43m=\u001b[39;49m\u001b[43mioargs\u001b[49m\u001b[38;5;241;43m.\u001b[39;49m\u001b[43mencoding\u001b[49m\u001b[43m,\u001b[49m\n\u001b[0;32m    877\u001b[0m \u001b[43m            \u001b[49m\u001b[43merrors\u001b[49m\u001b[38;5;241;43m=\u001b[39;49m\u001b[43merrors\u001b[49m\u001b[43m,\u001b[49m\n\u001b[0;32m    878\u001b[0m \u001b[43m            \u001b[49m\u001b[43mnewline\u001b[49m\u001b[38;5;241;43m=\u001b[39;49m\u001b[38;5;124;43m\"\u001b[39;49m\u001b[38;5;124;43m\"\u001b[39;49m\u001b[43m,\u001b[49m\n\u001b[0;32m    879\u001b[0m \u001b[43m        \u001b[49m\u001b[43m)\u001b[49m\n\u001b[0;32m    880\u001b[0m     \u001b[38;5;28;01melse\u001b[39;00m:\n\u001b[0;32m    881\u001b[0m         \u001b[38;5;66;03m# Binary mode\u001b[39;00m\n\u001b[0;32m    882\u001b[0m         handle \u001b[38;5;241m=\u001b[39m \u001b[38;5;28mopen\u001b[39m(handle, ioargs\u001b[38;5;241m.\u001b[39mmode)\n",
      "\u001b[1;31mFileNotFoundError\u001b[0m: [Errno 2] No such file or directory: 'chat_tran\\\\chat_translations_to_eng_amp.txt'"
     ]
    }
   ],
   "source": [
    "df = pd.read_csv(\"chat_tran\\chat_translations_to_eng_amp.txt\")\n",
    "#remove white spaces lines \n",
    "df = df.dropna()\n",
    "print(df)"
   ]
  },
  {
   "cell_type": "code",
   "execution_count": null,
   "metadata": {},
   "outputs": [],
   "source": [
    "df_amp = pd.read_csv(\"Spanish Transcript CSVs\\Amponas_spoken_parts.csv\")\n",
    "#remove white spaces lines \n",
    "df_amp = df_amp.dropna()\n",
    "print(df_amp)"
   ]
  },
  {
   "cell_type": "code",
   "execution_count": null,
   "metadata": {},
   "outputs": [
    {
     "data": {
      "text/plain": [
       "(364, 1)"
      ]
     },
     "execution_count": 82,
     "metadata": {},
     "output_type": "execute_result"
    }
   ],
   "source": [
    "df_bar = pd.read_csv(\"Spanish Transcript CSVs\\\\Barberias_spoken_parts.csv\", header=None)\n",
    "df_bar.dropna()\n",
    "df_bar.shape"
   ]
  },
  {
   "cell_type": "code",
   "execution_count": null,
   "metadata": {},
   "outputs": [
    {
     "data": {
      "text/plain": [
       "(364, 1)"
      ]
     },
     "execution_count": 83,
     "metadata": {},
     "output_type": "execute_result"
    }
   ],
   "source": [
    "df_bar2 = pd.read_csv(\"chat_tran\\\\chat_translation_to_eng_Bar.txt\", header=None)\n",
    "#remove white spaces lines \n",
    "df_bar2 = df_bar2.dropna()\n",
    "df_bar2.shape"
   ]
  },
  {
   "cell_type": "code",
   "execution_count": null,
   "metadata": {},
   "outputs": [],
   "source": [
    "df_bar2[\"ChatGPT_Translation\"] = df_bar[0]\n",
    "df_bar2.rename(columns={0: \"Original\"}, inplace=True)\n",
    "df_bar2.to_csv(\"ChatGPT_SPA_to_ENG/Barberias_ChatGPT_Translation.csv\")"
   ]
  },
  {
   "cell_type": "code",
   "execution_count": null,
   "metadata": {},
   "outputs": [
    {
     "name": "stdout",
     "output_type": "stream",
     "text": [
      "                                                     0\n",
      "0    Once upon a time, a couple of young ladies won...\n",
      "1    Hello, hello, hello, hello, hello, hello, hell...\n",
      "2    Hey, what about this? What did you think of th...\n",
      "3    It's fine that you find the guy coyote adorabl...\n",
      "4    Thanks because without you hysterical ladies, ...\n",
      "..                                                 ...\n",
      "178  We've all fallen and got out of there. With. A...\n",
      "179  Thank you very much for joining us once again ...\n",
      "180  :25 Thank you for joining us once again on thi...\n",
      "181  :45 It notifies you and remember also that we ...\n",
      "182  :16 Thank you very much for joining us. See yo...\n",
      "\n",
      "[183 rows x 1 columns]\n"
     ]
    }
   ],
   "source": [
    "df3 = pd.read_csv(\"chat_tran\\\\chat_translation_to_eng_Dam.txt\", header=None)\n",
    "df3.dropna()\n",
    "print(df3)"
   ]
  },
  {
   "cell_type": "code",
   "execution_count": null,
   "metadata": {},
   "outputs": [
    {
     "name": "stdout",
     "output_type": "stream",
     "text": [
      "                                                     0\n",
      "0    Érase una vez. Un par de damitas que día a día...\n",
      "1    Holi, Holi, Holi, Holi, Holi, Holi, Holi, Holi...\n",
      "2    ¿Oye este qué? ¿Qué les pareció el intro, Eh? ...\n",
      "3    Está bien que te precioso el güey coyote. Beso...\n",
      "4    Gracias porque las damitas histeria. ¿No sería...\n",
      "..                                                 ...\n",
      "178  :38 Todos hemos caído y salimos de ahí. Con. U...\n",
      "179  :57 Muchas gracias por habernos acompañado una...\n",
      "180  :25 Gracias por acompañarnos una vez más en es...\n",
      "181  :45 Les avise y este recuerden también que ya ...\n",
      "182  :16 Muchas gracias por habernos acompañado. No...\n",
      "\n",
      "[183 rows x 1 columns]\n"
     ]
    }
   ],
   "source": [
    "df4 = pd.read_csv(\"Spanish Transcript CSVs\\\\Damitas_spoken_parts.csv\", header=None)\n",
    "df4.dropna()\n",
    "print(df4)"
   ]
  },
  {
   "cell_type": "code",
   "execution_count": null,
   "metadata": {},
   "outputs": [],
   "source": [
    "df4[\"ChatGPT_Translation\"] = df3[0]\n",
    "df4.rename(columns={0: \"Original\"}, inplace=True)\n",
    "df4.to_csv(\"ChatGPT_SPA_to_ENG/Damitas_ChatGPT_Translation.csv\")"
   ]
  },
  {
   "cell_type": "code",
   "execution_count": null,
   "metadata": {},
   "outputs": [
    {
     "name": "stdout",
     "output_type": "stream",
     "text": [
      "Current Working Directory: c:\\Users\\ipm36\\OneDrive\\Documents\\DSC Project 522\n"
     ]
    }
   ],
   "source": [
    "import os\n",
    "\n",
    "# Get the current working directory\n",
    "current_directory = os.getcwd()\n",
    "print(\"Current Working Directory:\", current_directory)"
   ]
  },
  {
   "cell_type": "code",
   "execution_count": null,
   "metadata": {},
   "outputs": [
    {
     "name": "stdout",
     "output_type": "stream",
     "text": [
      "                                                     0\n",
      "0    Are you ready for your favorite comedy to star...\n",
      "1    Good morning, my dear lady and gentleman at ho...\n",
      "2    Wow, I didn't know Iván was British. I've alwa...\n",
      "3    Ever since I got the Visa, it kind of fixed th...\n",
      "4    So, you’ve got that, you've got this language ...\n",
      "..                                                 ...\n",
      "181  Are there live programs going there, I mean, d...\n",
      "182  People are liking it and besides, there is qui...\n",
      "183  All for free as you like because you don’t pay...\n",
      "184  No, not with that, no, no, no, not with people...\n",
      "185                       Take care, see you, goodbye.\n",
      "\n",
      "[186 rows x 1 columns]\n"
     ]
    },
    {
     "name": "stderr",
     "output_type": "stream",
     "text": [
      "<>:1: SyntaxWarning: invalid escape sequence '\\c'\n",
      "<>:1: SyntaxWarning: invalid escape sequence '\\c'\n",
      "C:\\Users\\ipm36\\AppData\\Local\\Temp\\ipykernel_15288\\3151155248.py:1: SyntaxWarning: invalid escape sequence '\\c'\n",
      "  df5 = pd.read_csv(\"chat_tran\\chat_translation_to_eng_sob.txt\", header=None)\n"
     ]
    }
   ],
   "source": [
    "df5 = pd.read_csv(\"chat_tran\\chat_translation_to_eng_sob.txt\", header=None)\n",
    "df5.dropna()\n",
    "print(df5)"
   ]
  },
  {
   "cell_type": "code",
   "execution_count": null,
   "metadata": {},
   "outputs": [
    {
     "name": "stdout",
     "output_type": "stream",
     "text": [
      "                                                     0\n",
      "0    ¿Ya coco cómo está señor de bonita ya va a com...\n",
      "1    Good morning, My diver señora bonita who we sh...\n",
      "2    Wow, yo no sabía que Iván era británico. Yo yo...\n",
      "3    Desde. Que me dieron la Visa como que me se me...\n",
      "4    O sea, ya tienes eso, ya tienes esto del idiom...\n",
      "..                                                 ...\n",
      "181  ¿Van para allá programas en vivo, o sea, no se...\n",
      "182  La. Gente le está. Gustando y aparte se opina ...\n",
      "183  ¿Todo gratuitamente como usted le gusta porque...\n",
      "184  No, con eso no, no, no, no con que la gente lo...\n",
      "185                   Cuídense mucho, nos vemos adiós.\n",
      "\n",
      "[186 rows x 1 columns]\n"
     ]
    },
    {
     "name": "stderr",
     "output_type": "stream",
     "text": [
      "<>:1: SyntaxWarning: invalid escape sequence '\\S'\n",
      "<>:1: SyntaxWarning: invalid escape sequence '\\S'\n",
      "C:\\Users\\ipm36\\AppData\\Local\\Temp\\ipykernel_15288\\2243377958.py:1: SyntaxWarning: invalid escape sequence '\\S'\n",
      "  df6 = pd.read_csv(\"Spanish Transcript CSVs\\Subio_spoken_parts.csv\", header=None)\n"
     ]
    }
   ],
   "source": [
    "df6 = pd.read_csv(\"Spanish Transcript CSVs\\Subio_spoken_parts.csv\", header=None)\n",
    "df6.dropna()\n",
    "print(df6)"
   ]
  },
  {
   "cell_type": "code",
   "execution_count": null,
   "metadata": {},
   "outputs": [],
   "source": [
    "df6[\"ChatGPT_Translation\"] = df5[0]"
   ]
  },
  {
   "cell_type": "code",
   "execution_count": null,
   "metadata": {},
   "outputs": [
    {
     "data": {
      "text/html": [
       "<div>\n",
       "<style scoped>\n",
       "    .dataframe tbody tr th:only-of-type {\n",
       "        vertical-align: middle;\n",
       "    }\n",
       "\n",
       "    .dataframe tbody tr th {\n",
       "        vertical-align: top;\n",
       "    }\n",
       "\n",
       "    .dataframe thead th {\n",
       "        text-align: right;\n",
       "    }\n",
       "</style>\n",
       "<table border=\"1\" class=\"dataframe\">\n",
       "  <thead>\n",
       "    <tr style=\"text-align: right;\">\n",
       "      <th></th>\n",
       "      <th>0</th>\n",
       "      <th>ChatGPT_Translation</th>\n",
       "    </tr>\n",
       "  </thead>\n",
       "  <tbody>\n",
       "    <tr>\n",
       "      <th>0</th>\n",
       "      <td>¿Ya coco cómo está señor de bonita ya va a com...</td>\n",
       "      <td>Are you ready for your favorite comedy to star...</td>\n",
       "    </tr>\n",
       "    <tr>\n",
       "      <th>1</th>\n",
       "      <td>Good morning, My diver señora bonita who we sh...</td>\n",
       "      <td>Good morning, my dear lady and gentleman at ho...</td>\n",
       "    </tr>\n",
       "    <tr>\n",
       "      <th>2</th>\n",
       "      <td>Wow, yo no sabía que Iván era británico. Yo yo...</td>\n",
       "      <td>Wow, I didn't know Iván was British. I've alwa...</td>\n",
       "    </tr>\n",
       "    <tr>\n",
       "      <th>3</th>\n",
       "      <td>Desde. Que me dieron la Visa como que me se me...</td>\n",
       "      <td>Ever since I got the Visa, it kind of fixed th...</td>\n",
       "    </tr>\n",
       "    <tr>\n",
       "      <th>4</th>\n",
       "      <td>O sea, ya tienes eso, ya tienes esto del idiom...</td>\n",
       "      <td>So, you’ve got that, you've got this language ...</td>\n",
       "    </tr>\n",
       "    <tr>\n",
       "      <th>...</th>\n",
       "      <td>...</td>\n",
       "      <td>...</td>\n",
       "    </tr>\n",
       "    <tr>\n",
       "      <th>181</th>\n",
       "      <td>¿Van para allá programas en vivo, o sea, no se...</td>\n",
       "      <td>Are there live programs going there, I mean, d...</td>\n",
       "    </tr>\n",
       "    <tr>\n",
       "      <th>182</th>\n",
       "      <td>La. Gente le está. Gustando y aparte se opina ...</td>\n",
       "      <td>People are liking it and besides, there is qui...</td>\n",
       "    </tr>\n",
       "    <tr>\n",
       "      <th>183</th>\n",
       "      <td>¿Todo gratuitamente como usted le gusta porque...</td>\n",
       "      <td>All for free as you like because you don’t pay...</td>\n",
       "    </tr>\n",
       "    <tr>\n",
       "      <th>184</th>\n",
       "      <td>No, con eso no, no, no, no con que la gente lo...</td>\n",
       "      <td>No, not with that, no, no, no, not with people...</td>\n",
       "    </tr>\n",
       "    <tr>\n",
       "      <th>185</th>\n",
       "      <td>Cuídense mucho, nos vemos adiós.</td>\n",
       "      <td>Take care, see you, goodbye.</td>\n",
       "    </tr>\n",
       "  </tbody>\n",
       "</table>\n",
       "<p>186 rows × 2 columns</p>\n",
       "</div>"
      ],
      "text/plain": [
       "                                                     0  \\\n",
       "0    ¿Ya coco cómo está señor de bonita ya va a com...   \n",
       "1    Good morning, My diver señora bonita who we sh...   \n",
       "2    Wow, yo no sabía que Iván era británico. Yo yo...   \n",
       "3    Desde. Que me dieron la Visa como que me se me...   \n",
       "4    O sea, ya tienes eso, ya tienes esto del idiom...   \n",
       "..                                                 ...   \n",
       "181  ¿Van para allá programas en vivo, o sea, no se...   \n",
       "182  La. Gente le está. Gustando y aparte se opina ...   \n",
       "183  ¿Todo gratuitamente como usted le gusta porque...   \n",
       "184  No, con eso no, no, no, no con que la gente lo...   \n",
       "185                   Cuídense mucho, nos vemos adiós.   \n",
       "\n",
       "                                   ChatGPT_Translation  \n",
       "0    Are you ready for your favorite comedy to star...  \n",
       "1    Good morning, my dear lady and gentleman at ho...  \n",
       "2    Wow, I didn't know Iván was British. I've alwa...  \n",
       "3    Ever since I got the Visa, it kind of fixed th...  \n",
       "4    So, you’ve got that, you've got this language ...  \n",
       "..                                                 ...  \n",
       "181  Are there live programs going there, I mean, d...  \n",
       "182  People are liking it and besides, there is qui...  \n",
       "183  All for free as you like because you don’t pay...  \n",
       "184  No, not with that, no, no, no, not with people...  \n",
       "185                       Take care, see you, goodbye.  \n",
       "\n",
       "[186 rows x 2 columns]"
      ]
     },
     "execution_count": 22,
     "metadata": {},
     "output_type": "execute_result"
    }
   ],
   "source": [
    "df6"
   ]
  },
  {
   "cell_type": "code",
   "execution_count": null,
   "metadata": {},
   "outputs": [],
   "source": [
    "df6.rename(columns={0: \"Original\"}, inplace=True)\n",
    "#df6.to_csv(\"ChatGPT_SPA_to_ENG/Subio_ChatGPT_Translation.csv\")"
   ]
  },
  {
   "cell_type": "code",
   "execution_count": null,
   "metadata": {},
   "outputs": [
    {
     "name": "stdout",
     "output_type": "stream",
     "text": [
      "                                                     0\n",
      "0    Well, welcome once again to Zero Milligrams, a...\n",
      "1    That's why I believe in this episode we will d...\n",
      "2    Well, how are you Gustavo? Very well, thank yo...\n",
      "3    Well, I developed a phobia of vomiting. Today ...\n",
      "4    Look if you listened to your mom. A little mor...\n",
      "..                                                 ...\n",
      "175  This is the solution then, and when you hear, ...\n",
      "176  Undoubtedly it has one, don't doubt, you must ...\n",
      "177  And yet, you get out. No, no, no, there's noth...\n",
      "178  Well, thank you for joining us in the second e...\n",
      "179  You can also follow us on our Instagram at zer...\n",
      "\n",
      "[180 rows x 1 columns]\n"
     ]
    },
    {
     "name": "stderr",
     "output_type": "stream",
     "text": [
      "<>:1: SyntaxWarning: invalid escape sequence '\\c'\n",
      "<>:1: SyntaxWarning: invalid escape sequence '\\c'\n",
      "C:\\Users\\ipm36\\AppData\\Local\\Temp\\ipykernel_15288\\2204911224.py:1: SyntaxWarning: invalid escape sequence '\\c'\n",
      "  df7 = pd.read_csv(\"chat_tran\\chat_translations_to_eng_Fobias.txt\", header=None)\n"
     ]
    }
   ],
   "source": [
    "df7 = pd.read_csv(\"chat_tran\\chat_translations_to_eng_Fobias.txt\", header=None)\n",
    "df7.dropna()\n",
    "print(df7)"
   ]
  },
  {
   "cell_type": "code",
   "execution_count": null,
   "metadata": {},
   "outputs": [
    {
     "name": "stderr",
     "output_type": "stream",
     "text": [
      "<>:1: SyntaxWarning: invalid escape sequence '\\F'\n",
      "<>:1: SyntaxWarning: invalid escape sequence '\\F'\n",
      "C:\\Users\\ipm36\\AppData\\Local\\Temp\\ipykernel_15288\\2803134257.py:1: SyntaxWarning: invalid escape sequence '\\F'\n",
      "  df8 = pd.read_csv(\"Spanish Transcript CSVs\\Fobias_spoken_parts.csv\", header=None)\n"
     ]
    },
    {
     "name": "stdout",
     "output_type": "stream",
     "text": [
      "                                                     0\n",
      "0    Bueno, bienvenidos una vez más a cero miligram...\n",
      "1    Por eso creo que en este capítulo vamos a desc...\n",
      "2    Psiquiatra y también por Gustavo Bustamante, p...\n",
      "3    Bueno, desarrollé una una fobia a vomitar. Hoy...\n",
      "4    Mira lo si la escuchaste a tu mamá. ¿Un poco m...\n",
      "..                                                 ...\n",
      "175  Esta es la solución entonces y cuando cuando e...\n",
      "176  Sin duda que la tiene, no, no duden, no hay qu...\n",
      "177  Y sin embargo, salís. No, no, no, no hay otra ...\n",
      "178  Bueno, gracias por acompañarnos en el segundo ...\n",
      "179  También nos puede seguir en nuestro Instagram ...\n",
      "\n",
      "[180 rows x 1 columns]\n"
     ]
    }
   ],
   "source": [
    "df8 = pd.read_csv(\"Spanish Transcript CSVs\\Fobias_spoken_parts.csv\", header=None)\n",
    "df8.dropna()\n",
    "print(df8)"
   ]
  },
  {
   "cell_type": "code",
   "execution_count": null,
   "metadata": {},
   "outputs": [],
   "source": [
    "df8[\"ChatGPT_Translation\"] = df7[0]"
   ]
  },
  {
   "cell_type": "code",
   "execution_count": null,
   "metadata": {},
   "outputs": [],
   "source": [
    "df8.rename(columns={0: \"Original\"}, inplace=True)\n",
    "#df8.to_csv(\"ChatGPT_SPA_to_ENG/Fobias_ChatGPT_Translation.csv\")"
   ]
  },
  {
   "cell_type": "code",
   "execution_count": null,
   "metadata": {},
   "outputs": [
    {
     "name": "stdout",
     "output_type": "stream",
     "text": [
      "                                                    0\n",
      "0   A man goes to seek out the old love of his lif...\n",
      "1   If it returns to their hands, it's because des...\n",
      "2   Jonathan tells the man that the gloves are a g...\n",
      "3   In the end, the man doesn't believe them, but ...\n",
      "4   Somewhat ironically because this young woman s...\n",
      "..                                                ...\n",
      "61  Jonathan stands up, Sara approaches timidly as...\n",
      "62  For me, the answer lies in the middle ground. ...\n",
      "63  To interact with these configurations and our ...\n",
      "64  Taking all this into account, perhaps the virt...\n",
      "65  Once again they look into each other's eyes an...\n",
      "\n",
      "[66 rows x 1 columns]\n"
     ]
    },
    {
     "name": "stderr",
     "output_type": "stream",
     "text": [
      "<>:1: SyntaxWarning: invalid escape sequence '\\c'\n",
      "<>:1: SyntaxWarning: invalid escape sequence '\\c'\n",
      "C:\\Users\\ipm36\\AppData\\Local\\Temp\\ipykernel_15288\\3525830989.py:1: SyntaxWarning: invalid escape sequence '\\c'\n",
      "  df9 = pd.read_csv(\"chat_tran\\chat_translations_to_eng_farid.txt\", header=None)\n"
     ]
    }
   ],
   "source": [
    "df9 = pd.read_csv(\"chat_tran\\chat_translations_to_eng_farid.txt\", header=None)\n",
    "df9.dropna()\n",
    "print(df9)"
   ]
  },
  {
   "cell_type": "code",
   "execution_count": null,
   "metadata": {},
   "outputs": [
    {
     "name": "stderr",
     "output_type": "stream",
     "text": [
      "<>:1: SyntaxWarning: invalid escape sequence '\\F'\n",
      "<>:1: SyntaxWarning: invalid escape sequence '\\F'\n",
      "C:\\Users\\ipm36\\AppData\\Local\\Temp\\ipykernel_15288\\2003068245.py:1: SyntaxWarning: invalid escape sequence '\\F'\n",
      "  df10 = pd.read_csv(\"Spanish Transcript CSVs\\Farid_spoken_parts.csv\", header=None)\n"
     ]
    },
    {
     "name": "stdout",
     "output_type": "stream",
     "text": [
      "                                                    0\n",
      "0   Un hombre va a buscar al viejo amor de su vida...\n",
      "1   Si vuelven Asus manos es porque el destino sie...\n",
      "2   Jonathan le dice al señor que los guantes son ...\n",
      "3   Al final el señor No les cree nada, pero aún a...\n",
      "4   Algo un poco irónico porque esta joven dice no...\n",
      "..                                                ...\n",
      "61  Jonathan Se levanta, Sara se acerca tímidament...\n",
      "62  Para mí la respuesta está en el punto medio. ¿...\n",
      "63  Interactuar con estas configuraciones y nuestr...\n",
      "64  Tomando todo esto en cuenta, quizás la virtud ...\n",
      "65  Una vez más se miran fijamente a los ojos y en...\n",
      "\n",
      "[66 rows x 1 columns]\n"
     ]
    }
   ],
   "source": [
    "df10 = pd.read_csv(\"Spanish Transcript CSVs\\Farid_spoken_parts.csv\", header=None)\n",
    "df10.dropna()\n",
    "print(df10)"
   ]
  },
  {
   "cell_type": "code",
   "execution_count": null,
   "metadata": {},
   "outputs": [],
   "source": [
    "df10[\"ChatGPT_Translation\"] = df9[0]\n"
   ]
  },
  {
   "cell_type": "code",
   "execution_count": null,
   "metadata": {},
   "outputs": [],
   "source": [
    "df10.rename(columns={0: \"Original\"}, inplace=True)\n",
    "#df10.to_csv(\"ChatGPT_SPA_to_ENG/Farid_ChatGPT_Translation.csv\")"
   ]
  },
  {
   "cell_type": "code",
   "execution_count": null,
   "metadata": {},
   "outputs": [],
   "source": [
    "df11 = pd.read_csv(\"chat_tran\\chat_translations_to_eng_onv.txt\", header=None)\n",
    "df11.dropna()\n",
    "print(df11)"
   ]
  },
  {
   "cell_type": "code",
   "execution_count": null,
   "metadata": {},
   "outputs": [],
   "source": [
    "df12 = pd.read_csv(\"Spanish Transcript CSVs\\Ovnis_spoken_parts.csv\", header=None)\n",
    "df12.dropna()\n",
    "print(df12)\n"
   ]
  },
  {
   "cell_type": "code",
   "execution_count": null,
   "metadata": {},
   "outputs": [],
   "source": [
    "df12[\"ChatGPT_Translation\"] = df11[0]"
   ]
  },
  {
   "cell_type": "code",
   "execution_count": null,
   "metadata": {},
   "outputs": [],
   "source": [
    "df12.rename(columns={0: \"Original\"}, inplace=True)\n",
    "df12.to_csv(\"ChatGPT_SPA_to_ENG/Ovnis_ChatGPT_Translation.csv\")"
   ]
  },
  {
   "cell_type": "code",
   "execution_count": null,
   "metadata": {},
   "outputs": [
    {
     "name": "stdout",
     "output_type": "stream",
     "text": [
      "                                                    0\n",
      "0   Before we start, we want to tell you that we h...\n",
      "1   If you want to enjoy this story with the littl...\n",
      "2   This is 'Ñeros Tales,' a slick podcast that te...\n",
      "3   This story begins a year ago. Around this time...\n",
      "4   We 5 have always been very meticulous with our...\n",
      "5   Gómez wore a simple one from the Indians, noth...\n",
      "6   And the Hornets one was the one that intrigued...\n",
      "7   That cap was 1000 out of 1000. Aren't caps a s...\n",
      "8   Wow, I'm speechless, it was cap, little buddy ...\n",
      "9   It's not for that reason the phrase is resonat...\n",
      "10  We negotiate and make the exchange, but there ...\n",
      "11  It turns out Pirulo went to Ciudad Bolívar to ...\n",
      "12  Calicheñero, they stole the cap. Everyone in t...\n",
      "13  The thing is, Nicole set him up in an alley in...\n",
      "14  The next day we armed ourselves to the teeth. ...\n",
      "15  We all went with our best gear, we looked like...\n",
      "16  And the truth is that Gomel didn't waste our t...\n",
      "17              in the afternoon and stayed until the\n",
      "18                                    in the morning.\n",
      "19  Meanwhile, we planned how to get the cap back,...\n",
      "20  Hours passed and nothing at all. Only the thug...\n",
      "21  They posted it for trades in Facebook groups, ...\n",
      "22  There were some teaching cars parked around th...\n",
      "23                                             Around\n",
      "24  the kids arrived, this time there were 5, all ...\n",
      "25  One, the Notre Dame three-colors and the other...\n",
      "26  Gomelo got scared and ran away. Gomelo, what a...\n",
      "27  We each took on one except Pirulo, who was han...\n",
      "28  They didn't get to say anything and Chompas an...\n",
      "29  The teaching cars vanished and people started ...\n",
      "30  Chompa just stood facing the guys, the rest of...\n",
      "31  Bro. And that was all. I got my cap back, we l...\n",
      "32  For what? Be serious. So we ended up with two ...\n",
      "33  Come over here because they know they have sin...\n",
      "34  Juan López wrote the story. The narration was ...\n",
      "35  This podcast was produced and edited by JJ Muñ...\n",
      "36  In return, we will send you a greeting in one ...\n"
     ]
    },
    {
     "name": "stderr",
     "output_type": "stream",
     "text": [
      "<>:1: SyntaxWarning: invalid escape sequence '\\c'\n",
      "<>:1: SyntaxWarning: invalid escape sequence '\\c'\n",
      "C:\\Users\\ipm36\\AppData\\Local\\Temp\\ipykernel_15288\\361782298.py:1: SyntaxWarning: invalid escape sequence '\\c'\n",
      "  df13 = pd.read_csv(\"chat_tran\\chat_translations_to_eng_tech.txt\", header=None)\n"
     ]
    }
   ],
   "source": [
    "df13 = pd.read_csv(\"chat_tran\\chat_translations_to_eng_tech.txt\", header=None)\n",
    "df13.dropna()\n",
    "print(df13)"
   ]
  },
  {
   "cell_type": "code",
   "execution_count": null,
   "metadata": {},
   "outputs": [],
   "source": [
    "df14 = pd.read_csv(\"Spanish Transcript CSVs\\Techos_spoken_parts.csv\", header=None)\n",
    "df14.dropna()\n",
    "print(df14)"
   ]
  },
  {
   "cell_type": "code",
   "execution_count": null,
   "metadata": {},
   "outputs": [],
   "source": [
    "df14[\"ChatGPT_Translation\"] = df13[0]"
   ]
  },
  {
   "cell_type": "code",
   "execution_count": null,
   "metadata": {},
   "outputs": [],
   "source": [
    "df14.rename(columns={0: \"Original\"}, inplace=True)\n",
    "df14.to_csv(\"ChatGPT_SPA_to_ENG/Techos_ChatGPT_Translation.csv\")"
   ]
  },
  {
   "cell_type": "code",
   "execution_count": null,
   "metadata": {},
   "outputs": [
    {
     "name": "stdout",
     "output_type": "stream",
     "text": [
      "                                                    0\n",
      "0   Hello, today's episode might seem a bit sketch...\n",
      "1   I mean, sure, the Bermuda Triangle, blah blah ...\n",
      "2   And, here the chapter will be divided into dif...\n",
      "3   Fourth, sketchy theories like explanations tha...\n",
      "4   Well, point number one, what the heck is the B...\n",
      "5   I mean, it's terribly large, about the size of...\n",
      "6   Why would I be interested in learning about th...\n",
      "7   People gradually started to pay attention beca...\n",
      "8   And we are totally lost, at some point we are ...\n",
      "9   They disappeared from the face of the Earth, t...\n",
      "10  The thing is that it had 306 passengers, which...\n",
      "11  And it's a flash well, there are a lot of othe...\n",
      "12  We go back to the year 1008 81 the Ellen Austi...\n",
      "13  They say no, well. Let's see what the heck hap...\n",
      "14  It was a completely normal sailboat that had b...\n",
      "15  And when they boarded the little boat, all the...\n",
      "16  And it is said that a fog covered both boats a...\n",
      "17  And well, how did the fascination with the Ber...\n",
      "18  That was like the first time this area was men...\n",
      "19  The article, a bit dramatic, was called the de...\n",
      "20  Paranormal events that really happened in this...\n",
      "21  The first explanation is that supposedly, in t...\n",
      "22  What's curious and what I can't quite understa...\n",
      "23  One of the theories mentioned in Berlitz's boo...\n",
      "24  They sink and annihilate them, let's say. The ...\n",
      "25  So, do they cause ships to sink and disappear?...\n",
      "26  This is confirmed by Vladimir Chermay, former ...\n",
      "27  I don't know how to say this; I don't want to ...\n",
      "28  The thing is that the Bermuda Triangle is one ...\n",
      "29  zones on the planet. The second is a zone off ...\n",
      "30  There isn't a fixed north to point to because ...\n",
      "31  But well, the thing about compasses seemed ver...\n",
      "32  The second theory is precisely because of the ...\n",
      "33  Another issue is that supposedly the area cont...\n",
      "34  But this was refuted by María Cristina Pacino,...\n",
      "35  Well, very clear, and well, that ends the real...\n",
      "36  Pass through an area. The more likely it is th...\n",
      "37  Well, the same thing happens in this area and ...\n",
      "38  NOAA, which is the National Ocean Service, say...\n",
      "39  Made a list of the most dangerous maritime zon...\n",
      "40  And in reality, the ship had left during a sto...\n",
      "41  Ah, I didn't say my name Almendra Veiga on Ins...\n"
     ]
    },
    {
     "name": "stderr",
     "output_type": "stream",
     "text": [
      "<>:1: SyntaxWarning: invalid escape sequence '\\c'\n",
      "<>:1: SyntaxWarning: invalid escape sequence '\\c'\n",
      "C:\\Users\\ipm36\\AppData\\Local\\Temp\\ipykernel_15288\\2829892356.py:1: SyntaxWarning: invalid escape sequence '\\c'\n",
      "  df15 = pd.read_csv(\"chat_tran\\chat_translations_to_eng_tri.txt\", header=None)\n"
     ]
    }
   ],
   "source": [
    "df15 = pd.read_csv(\"chat_tran\\chat_translations_to_eng_tri.txt\", header=None)\n",
    "df15.dropna()\n",
    "print(df15)"
   ]
  },
  {
   "cell_type": "code",
   "execution_count": null,
   "metadata": {},
   "outputs": [
    {
     "name": "stderr",
     "output_type": "stream",
     "text": [
      "<>:1: SyntaxWarning: invalid escape sequence '\\T'\n",
      "<>:1: SyntaxWarning: invalid escape sequence '\\T'\n",
      "C:\\Users\\ipm36\\AppData\\Local\\Temp\\ipykernel_15288\\3616986523.py:1: SyntaxWarning: invalid escape sequence '\\T'\n",
      "  df16 = pd.read_csv(\"Spanish Transcript CSVs\\Triangulo_spoken_parts.csv\", header=None)\n"
     ]
    },
    {
     "name": "stdout",
     "output_type": "stream",
     "text": [
      "                                                    0\n",
      "0   Buenas, el episodio de hoy parece un poco falo...\n",
      "1   O sea, está bien el triángulo de las Bermudas,...\n",
      "2   YM, aquí el capítulo se va a dividir en distin...\n",
      "3   Cuarta teorías falopas tipo explicaciones que ...\n",
      "4   ¿Bueno, punto número uno, qué carajo es el tri...\n",
      "5   O sea, es terriblemente grande aprox. El tamañ...\n",
      "6   ¿Por qué me interesaría aprender sobre este te...\n",
      "7   ¿Que a la gente poco a poco le empezó a asomar...\n",
      "8   Y estamos totalmente perdidos, en algún moment...\n",
      "9   Desaparecieron de la faz de la Tierra los 5 av...\n",
      "10  El tema es que tenía 306 pasajeros, que es una...\n",
      "11  Y es un flash bueno, hay un montón de casos má...\n",
      "12  Nos remontamos al año 1008 81 el caso Ellen Au...\n",
      "13  Rato dicen no, bueno. Algo vamos a ver qué car...\n",
      "14  Era un velero completamente normal que había e...\n",
      "15  Y cuando suben al barquito chiquito había desa...\n",
      "16  Y se dice que llegó una neblina que tapó los 2...\n",
      "17  ¿Y bueno, cómo nació el fanatismo por el trián...\n",
      "18  Esa fue como la primera vez que se mencionó es...\n",
      "19  El artículo, un poco dramático, se llamaba el ...\n",
      "20  Paranormales de lo que realmente pasaba en est...\n",
      "21  La primera explicación es que supuestamente. E...\n",
      "22  Lo curioso y lo que yo no termino de entender ...\n",
      "23  Una de las teorías que sí decían en el libro d...\n",
      "24  Hunden y los aniquilan, digamos. La segunda te...\n",
      "25  ¿Entonces hace que los barcos se hundan y desa...\n",
      "26  Esto lo confirma Vladimir Chermay, ex jefe de ...\n",
      "27  No sé cómo se dice, yo no quiero ser irrespetu...\n",
      "28  Es que justamente es que justamente el triángu...\n",
      "29  zonas en el planeta. La segunda es una zona fr...\n",
      "30  No hay un norte fijo al que apuntar porque tod...\n",
      "31  Pero bueno, lo de las brújulas me pareció muy ...\n",
      "32  La segunda teoría es justamente por la Corrien...\n",
      "33  Otra cuestión es que supuestamente la zona tie...\n",
      "34  Pero esto lo desmintió María Cristina Pacino, ...\n",
      "35  Bueno, clarísimo y bueno, y acaba la posta. Lo...\n",
      "36  Pasan por una zona. Más posibilidades hay de q...\n",
      "37  Bueno, en esta zona pasa lo mismo y se dice es...\n",
      "38  La noa, que es la organización nacional Ocean ...\n",
      "39  Hizo una lista de las zonas marítimas más peli...\n",
      "40  Y en realidad el barco había salido con una to...\n",
      "41  Ah, no dije mi nombre almendra veiga en Instag...\n"
     ]
    }
   ],
   "source": [
    "df16 = pd.read_csv(\"Spanish Transcript CSVs\\Triangulo_spoken_parts.csv\", header=None)\n",
    "df16.dropna()\n",
    "print(df16)"
   ]
  },
  {
   "cell_type": "code",
   "execution_count": null,
   "metadata": {},
   "outputs": [],
   "source": [
    "df16[\"ChatGPT_Translation\"] = df15[0]"
   ]
  },
  {
   "cell_type": "code",
   "execution_count": null,
   "metadata": {},
   "outputs": [],
   "source": [
    "df16.rename(columns={0: \"Original\"}, inplace=True)\n",
    "df16.to_csv(\"ChatGPT_SPA_to_ENG/Triangulo_ChatGPT_Translation.csv\")"
   ]
  },
  {
   "cell_type": "code",
   "execution_count": 14,
   "metadata": {},
   "outputs": [
    {
     "name": "stdout",
     "output_type": "stream",
     "text": [
      "                                                    0\n",
      "0   Cuando esa realidad impactó, fue como si te su...\n",
      "1   Estamos en 2009, Alyssa Elliot está sentada en...\n",
      "2   Dices cosas como que no podría haber previsto ...\n",
      "3   Este es Last Day, un programa sobre los moment...\n",
      "4   Alyssa creció en Boise, Idaho con su mamá, pap...\n",
      "..                                                ...\n",
      "67                Más te vale hacer eso ahora porque.\n",
      "68  Voy a hacerlo soy un hombre de palabra, ¿de ac...\n",
      "69  Lo necesito, realmente lo necesito. Tenemos qu...\n",
      "70  Alyssa, soy tu amiga Stephanie. Estoy aquí par...\n",
      "71  En lugar de discutir con la realidad, Stephani...\n",
      "\n",
      "[72 rows x 1 columns]\n"
     ]
    }
   ],
   "source": [
    "df17 = pd.read_csv(\"../chat_tran_spa/chat_translation_to_spa_ALyss.txt\", header=None)\n",
    "df17.dropna()\n",
    "print(df17)"
   ]
  },
  {
   "cell_type": "code",
   "execution_count": 15,
   "metadata": {},
   "outputs": [
    {
     "name": "stdout",
     "output_type": "stream",
     "text": [
      "                                                    0\n",
      "0   When that reality hit, it was like being dunke...\n",
      "1   It’s 2009 Alyssa Elliot is sitting at her desk...\n",
      "2   You say things like I couldn’t have foreseen t...\n",
      "3   This is Last Day, a show about the moments tha...\n",
      "4   Alyssa grew up in Boise, Idaho with her mom, d...\n",
      "..                                                ...\n",
      "77           You better actually do that now because.\n",
      "78           I’m going to I’m a man of my word, okay?\n",
      "79  I need it, I do need it. We gotta be there for...\n",
      "80  Alyssa, this is your friend Stephanie. I am he...\n",
      "81  Instead of arguing with reality, Stephanie, I ...\n",
      "\n",
      "[82 rows x 1 columns]\n"
     ]
    }
   ],
   "source": [
    "df18 = pd.read_csv(\"../English_transcript_CSVs/Alyssa_spoken_parts.csv\", header=None)\n",
    "df18.dropna()\n",
    "print(df18)"
   ]
  },
  {
   "cell_type": "code",
   "execution_count": 16,
   "metadata": {},
   "outputs": [],
   "source": [
    "df18[\"ChatGPT_Translation\"] = df17[0]"
   ]
  },
  {
   "cell_type": "code",
   "execution_count": 17,
   "metadata": {},
   "outputs": [],
   "source": [
    "df18.rename(columns={0: \"Original\"}, inplace=True)\n",
    "df18.to_csv(\"../ChatGPT_ENG_to_SPA/Alyssa_ChatGPT_Translation.csv\")"
   ]
  },
  {
   "cell_type": "code",
   "execution_count": 19,
   "metadata": {},
   "outputs": [
    {
     "name": "stdout",
     "output_type": "stream",
     "text": [
      "                                                     0\n",
      "0                                  Mi nombre es Chloe.\n",
      "1                                           Yo soy Sy.\n",
      "2                                Mi nombre es Mariana.\n",
      "3                                      Yo soy Jeffrey.\n",
      "4    Hace unos meses, un equipo documental comenzó ...\n",
      "..                                                 ...\n",
      "151         Eso suena increíble. Soy Chloe, ella/suya.\n",
      "152                                  Increíble. Soy X.\n",
      "153  X, es un placer conocerte. Honestamente, es re...\n",
      "154  Absolutamente. Como que este es mi primer even...\n",
      "155  Hay tantos obstáculos para las citas trans. Pe...\n",
      "\n",
      "[156 rows x 1 columns]\n"
     ]
    }
   ],
   "source": [
    "df19 = pd.read_csv(\"../chat_tran_spa/chat_translation_to_spa_Awk.txt\", header=None)\n",
    "df19.dropna()\n",
    "print(df19)"
   ]
  },
  {
   "cell_type": "code",
   "execution_count": 20,
   "metadata": {},
   "outputs": [
    {
     "name": "stdout",
     "output_type": "stream",
     "text": [
      "                                                     0\n",
      "0                                    My name is Chloe.\n",
      "1                                              I’m Sy.\n",
      "2                                  My name is Mariana.\n",
      "3                                         I’m Jeffrey.\n",
      "4    A few months ago, a documentary crew started f...\n",
      "..                                                 ...\n",
      "151      That sounds awesome. I’m Chloe, she/her/hers.\n",
      "152                               The awesome. I am X.\n",
      "153  X, It’s nice to meet you. Honestly, it’s reall...\n",
      "154  Absolutely. Like this is my first gay event li...\n",
      "155  There are just so many obstacles to trans dati...\n",
      "\n",
      "[156 rows x 1 columns]\n"
     ]
    }
   ],
   "source": [
    "df20 = pd.read_csv(\"../English_transcript_CSVs/Awkward_spoken_parts.csv\", header=None)\n",
    "df20.dropna()\n",
    "print(df20)"
   ]
  },
  {
   "cell_type": "code",
   "execution_count": 21,
   "metadata": {},
   "outputs": [],
   "source": [
    "df20[\"ChatGPT_Translation\"] = df19[0]\n"
   ]
  },
  {
   "cell_type": "code",
   "execution_count": 22,
   "metadata": {},
   "outputs": [],
   "source": [
    "df20.rename(columns={0: \"Original\"}, inplace=True)\n",
    "df20.to_csv(\"../ChatGPT_ENG_to_SPA/Awkward_ChatGPT_Translation.csv\")"
   ]
  },
  {
   "cell_type": "code",
   "execution_count": 28,
   "metadata": {},
   "outputs": [
    {
     "name": "stdout",
     "output_type": "stream",
     "text": [
      "                                                    0\n",
      "0   Algo dentro de mí me dijo, revisa sus cosas. N...\n",
      "1   Es 2019 y Carrie está parada fuera de la ofici...\n",
      "2   Se fue a la cama y durmió a mi lado todas las ...\n",
      "3   Este es LAST DAY, un programa sobre los moment...\n",
      "4   Carrie conoció a Joe cuando estaba en la escue...\n",
      "..                                                ...\n",
      "60  Sí, y creo que por eso quería contarlo, sabes,...\n",
      "61  Encuentro que en el programa, hablamos mucho s...\n",
      "62  Sí, claro. Quiero decir, creo que cualquier di...\n",
      "63  Bueno, y creo que el otro lado de eso, que es,...\n",
      "64  Bueno, me he demostrado a mí misma lo capaz qu...\n",
      "\n",
      "[65 rows x 1 columns]\n"
     ]
    }
   ],
   "source": [
    "df21 = pd.read_csv(\"../chat_tran_spa/chat_translation_to_spa_carrie.txt\", header=None)\n",
    "df21.dropna()\n",
    "print(df21)"
   ]
  },
  {
   "cell_type": "code",
   "execution_count": 29,
   "metadata": {},
   "outputs": [],
   "source": [
    "df22 = pd.read_csv(\"../English_transcript_CSVs/Carrie_spoken_parts.csv\", header=None)"
   ]
  },
  {
   "cell_type": "code",
   "execution_count": 30,
   "metadata": {},
   "outputs": [
    {
     "name": "stdout",
     "output_type": "stream",
     "text": [
      "                                                    0\n",
      "0   Something inside me said, go look through his ...\n",
      "1   It’s 2019 and Carrie is standing outside her h...\n",
      "2   Got to bed and slept next to me every night li...\n",
      "3   This is LAST DAY, a show about the moments tha...\n",
      "4   Carrie met Joe when she was in graduate school...\n",
      "..                                                ...\n",
      "59  Yeah, and I think that’s why I wanted to tell ...\n",
      "60  I find that in the show, we talk about grief, ...\n",
      "61  Yeah, for sure. I mean, I think any divorce is...\n",
      "62  Well, and I think the flip side of it, which i...\n",
      "63  Well, I have proven to myself how capable I am...\n",
      "\n",
      "[64 rows x 1 columns]\n"
     ]
    }
   ],
   "source": [
    "df22.dropna()\n",
    "print(df22)"
   ]
  },
  {
   "cell_type": "code",
   "execution_count": 26,
   "metadata": {},
   "outputs": [],
   "source": [
    "df22[\"ChatGPT_Translation\"] = df21[0]\n"
   ]
  },
  {
   "cell_type": "code",
   "execution_count": 27,
   "metadata": {},
   "outputs": [],
   "source": [
    "df22.rename(columns={0: \"Original\"}, inplace=True)\n",
    "df22.to_csv(\"../ChatGPT_ENG_to_SPA/Carrie_ChatGPT_Translation.csv\")"
   ]
  }
 ],
 "metadata": {
  "kernelspec": {
   "display_name": "Python 3",
   "language": "python",
   "name": "python3"
  },
  "language_info": {
   "codemirror_mode": {
    "name": "ipython",
    "version": 3
   },
   "file_extension": ".py",
   "mimetype": "text/x-python",
   "name": "python",
   "nbconvert_exporter": "python",
   "pygments_lexer": "ipython3",
   "version": "3.12.0"
  }
 },
 "nbformat": 4,
 "nbformat_minor": 2
}
