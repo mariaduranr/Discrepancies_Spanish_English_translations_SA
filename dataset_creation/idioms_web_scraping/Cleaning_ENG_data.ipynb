{
 "cells": [
  {
   "cell_type": "code",
   "execution_count": 1,
   "metadata": {},
   "outputs": [],
   "source": [
    "import pandas as pd "
   ]
  },
  {
   "cell_type": "code",
   "execution_count": 2,
   "metadata": {},
   "outputs": [],
   "source": [
    "df1 = pd.read_csv('English_idioms_1.csv')"
   ]
  },
  {
   "cell_type": "code",
   "execution_count": 3,
   "metadata": {},
   "outputs": [
    {
     "name": "stdout",
     "output_type": "stream",
     "text": [
      "<class 'pandas.core.frame.DataFrame'>\n",
      "RangeIndex: 120 entries, 0 to 119\n",
      "Data columns (total 3 columns):\n",
      " #   Column            Non-Null Count  Dtype \n",
      "---  ------            --------------  ----- \n",
      " 0   Idiom             120 non-null    object\n",
      " 1   Meaning           120 non-null    object\n",
      " 2   Sentence Example  120 non-null    object\n",
      "dtypes: object(3)\n",
      "memory usage: 2.9+ KB\n"
     ]
    }
   ],
   "source": [
    "df1.info()"
   ]
  },
  {
   "cell_type": "code",
   "execution_count": 4,
   "metadata": {},
   "outputs": [
    {
     "data": {
      "text/html": [
       "<div>\n",
       "<style scoped>\n",
       "    .dataframe tbody tr th:only-of-type {\n",
       "        vertical-align: middle;\n",
       "    }\n",
       "\n",
       "    .dataframe tbody tr th {\n",
       "        vertical-align: top;\n",
       "    }\n",
       "\n",
       "    .dataframe thead th {\n",
       "        text-align: right;\n",
       "    }\n",
       "</style>\n",
       "<table border=\"1\" class=\"dataframe\">\n",
       "  <thead>\n",
       "    <tr style=\"text-align: right;\">\n",
       "      <th></th>\n",
       "      <th>Idiom</th>\n",
       "      <th>Meaning</th>\n",
       "      <th>Sentence Example</th>\n",
       "    </tr>\n",
       "  </thead>\n",
       "  <tbody>\n",
       "    <tr>\n",
       "      <th>0</th>\n",
       "      <td>Under the weather</td>\n",
       "      <td>Feeling ill / Getting a cold</td>\n",
       "      <td>My mom was feeling a bit under the weather.</td>\n",
       "    </tr>\n",
       "    <tr>\n",
       "      <th>1</th>\n",
       "      <td>Cold feet</td>\n",
       "      <td>Becoming nervous</td>\n",
       "      <td>It was her chance to speak and she was getting...</td>\n",
       "    </tr>\n",
       "    <tr>\n",
       "      <th>2</th>\n",
       "      <td>Apple of my eye</td>\n",
       "      <td>Used to refer to someone whom you are very fon...</td>\n",
       "      <td>My younger brother is the apple of my eye.</td>\n",
       "    </tr>\n",
       "    <tr>\n",
       "      <th>3</th>\n",
       "      <td>Set the record straight</td>\n",
       "      <td>To reveal the truth / To clarify</td>\n",
       "      <td>In order to set the record straight, the umpir...</td>\n",
       "    </tr>\n",
       "    <tr>\n",
       "      <th>4</th>\n",
       "      <td>Kill two birds with a stone</td>\n",
       "      <td>Achieve two results by doing one thing</td>\n",
       "      <td>None of us understood that he was trying to ki...</td>\n",
       "    </tr>\n",
       "  </tbody>\n",
       "</table>\n",
       "</div>"
      ],
      "text/plain": [
       "                         Idiom  \\\n",
       "0            Under the weather   \n",
       "1                    Cold feet   \n",
       "2              Apple of my eye   \n",
       "3      Set the record straight   \n",
       "4  Kill two birds with a stone   \n",
       "\n",
       "                                             Meaning  \\\n",
       "0                       Feeling ill / Getting a cold   \n",
       "1                                   Becoming nervous   \n",
       "2  Used to refer to someone whom you are very fon...   \n",
       "3                   To reveal the truth / To clarify   \n",
       "4             Achieve two results by doing one thing   \n",
       "\n",
       "                                    Sentence Example  \n",
       "0        My mom was feeling a bit under the weather.  \n",
       "1  It was her chance to speak and she was getting...  \n",
       "2         My younger brother is the apple of my eye.  \n",
       "3  In order to set the record straight, the umpir...  \n",
       "4  None of us understood that he was trying to ki...  "
      ]
     },
     "execution_count": 4,
     "metadata": {},
     "output_type": "execute_result"
    }
   ],
   "source": [
    "df1.head()"
   ]
  },
  {
   "cell_type": "code",
   "execution_count": 5,
   "metadata": {},
   "outputs": [
    {
     "data": {
      "text/html": [
       "<div>\n",
       "<style scoped>\n",
       "    .dataframe tbody tr th:only-of-type {\n",
       "        vertical-align: middle;\n",
       "    }\n",
       "\n",
       "    .dataframe tbody tr th {\n",
       "        vertical-align: top;\n",
       "    }\n",
       "\n",
       "    .dataframe thead th {\n",
       "        text-align: right;\n",
       "    }\n",
       "</style>\n",
       "<table border=\"1\" class=\"dataframe\">\n",
       "  <thead>\n",
       "    <tr style=\"text-align: right;\">\n",
       "      <th></th>\n",
       "      <th>Idiom</th>\n",
       "      <th>Meaning</th>\n",
       "      <th>Example</th>\n",
       "    </tr>\n",
       "  </thead>\n",
       "  <tbody>\n",
       "    <tr>\n",
       "      <th>0</th>\n",
       "      <td>Under the weather</td>\n",
       "      <td>Feeling ill / Getting a cold</td>\n",
       "      <td>My mom was feeling a bit under the weather.</td>\n",
       "    </tr>\n",
       "    <tr>\n",
       "      <th>1</th>\n",
       "      <td>Cold feet</td>\n",
       "      <td>Becoming nervous</td>\n",
       "      <td>It was her chance to speak and she was getting...</td>\n",
       "    </tr>\n",
       "    <tr>\n",
       "      <th>2</th>\n",
       "      <td>Apple of my eye</td>\n",
       "      <td>Used to refer to someone whom you are very fon...</td>\n",
       "      <td>My younger brother is the apple of my eye.</td>\n",
       "    </tr>\n",
       "    <tr>\n",
       "      <th>3</th>\n",
       "      <td>Set the record straight</td>\n",
       "      <td>To reveal the truth / To clarify</td>\n",
       "      <td>In order to set the record straight, the umpir...</td>\n",
       "    </tr>\n",
       "    <tr>\n",
       "      <th>4</th>\n",
       "      <td>Kill two birds with a stone</td>\n",
       "      <td>Achieve two results by doing one thing</td>\n",
       "      <td>None of us understood that he was trying to ki...</td>\n",
       "    </tr>\n",
       "    <tr>\n",
       "      <th>...</th>\n",
       "      <td>...</td>\n",
       "      <td>...</td>\n",
       "      <td>...</td>\n",
       "    </tr>\n",
       "    <tr>\n",
       "      <th>115</th>\n",
       "      <td>Rain on one’s parade</td>\n",
       "      <td>To spoil someone’s moment of praise / To spoil...</td>\n",
       "      <td>Rachel did not really think she was raining on...</td>\n",
       "    </tr>\n",
       "    <tr>\n",
       "      <th>116</th>\n",
       "      <td>By the skin of your teeth</td>\n",
       "      <td>By a very narrow margin, the slightest if chances</td>\n",
       "      <td>The doctors said that Manu had escaped serious...</td>\n",
       "    </tr>\n",
       "    <tr>\n",
       "      <th>117</th>\n",
       "      <td>Put all your eggs in one basket</td>\n",
       "      <td>Doing something risky</td>\n",
       "      <td>Rounak’s parents think that he is putting all ...</td>\n",
       "    </tr>\n",
       "    <tr>\n",
       "      <th>118</th>\n",
       "      <td>Put something on ice</td>\n",
       "      <td>To hold off something</td>\n",
       "      <td>We decided to put the case on ice until we had...</td>\n",
       "    </tr>\n",
       "    <tr>\n",
       "      <th>119</th>\n",
       "      <td>Cannot have a cake and eat it too</td>\n",
       "      <td>Cannot have everything for yourself</td>\n",
       "      <td>It is not at all that you have the cake and ea...</td>\n",
       "    </tr>\n",
       "  </tbody>\n",
       "</table>\n",
       "<p>120 rows × 3 columns</p>\n",
       "</div>"
      ],
      "text/plain": [
       "                                 Idiom  \\\n",
       "0                    Under the weather   \n",
       "1                            Cold feet   \n",
       "2                      Apple of my eye   \n",
       "3              Set the record straight   \n",
       "4          Kill two birds with a stone   \n",
       "..                                 ...   \n",
       "115               Rain on one’s parade   \n",
       "116          By the skin of your teeth   \n",
       "117    Put all your eggs in one basket   \n",
       "118               Put something on ice   \n",
       "119  Cannot have a cake and eat it too   \n",
       "\n",
       "                                               Meaning  \\\n",
       "0                         Feeling ill / Getting a cold   \n",
       "1                                     Becoming nervous   \n",
       "2    Used to refer to someone whom you are very fon...   \n",
       "3                     To reveal the truth / To clarify   \n",
       "4               Achieve two results by doing one thing   \n",
       "..                                                 ...   \n",
       "115  To spoil someone’s moment of praise / To spoil...   \n",
       "116  By a very narrow margin, the slightest if chances   \n",
       "117                              Doing something risky   \n",
       "118                              To hold off something   \n",
       "119                Cannot have everything for yourself   \n",
       "\n",
       "                                               Example  \n",
       "0          My mom was feeling a bit under the weather.  \n",
       "1    It was her chance to speak and she was getting...  \n",
       "2           My younger brother is the apple of my eye.  \n",
       "3    In order to set the record straight, the umpir...  \n",
       "4    None of us understood that he was trying to ki...  \n",
       "..                                                 ...  \n",
       "115  Rachel did not really think she was raining on...  \n",
       "116  The doctors said that Manu had escaped serious...  \n",
       "117  Rounak’s parents think that he is putting all ...  \n",
       "118  We decided to put the case on ice until we had...  \n",
       "119  It is not at all that you have the cake and ea...  \n",
       "\n",
       "[120 rows x 3 columns]"
      ]
     },
     "execution_count": 5,
     "metadata": {},
     "output_type": "execute_result"
    }
   ],
   "source": [
    "df1.rename(columns = {'Sentence Example':'Example'}, inplace = True) \n",
    "df1"
   ]
  },
  {
   "cell_type": "code",
   "execution_count": 6,
   "metadata": {},
   "outputs": [
    {
     "data": {
      "text/plain": [
       "Idiom\n",
       "Under the weather                    1\n",
       "Cold feet                            1\n",
       "Fit as a fiddle                      1\n",
       "Hear it from the horse’s mouth       1\n",
       "Get wind of something                1\n",
       "                                    ..\n",
       "A piece of cake                      1\n",
       "To weather the storm                 1\n",
       "Worth its weight in gold             1\n",
       "To say in a nutshell                 1\n",
       "Cannot have a cake and eat it too    1\n",
       "Name: count, Length: 120, dtype: int64"
      ]
     },
     "execution_count": 6,
     "metadata": {},
     "output_type": "execute_result"
    }
   ],
   "source": [
    "idiom_counts = df1['Idiom'].value_counts()\n",
    "idiom_counts"
   ]
  },
  {
   "cell_type": "code",
   "execution_count": 7,
   "metadata": {},
   "outputs": [
    {
     "data": {
      "text/plain": [
       "Meaning\n",
       "Feeling ill / Getting a cold                  1\n",
       "Becoming nervous                              1\n",
       "To be in good health                          1\n",
       "To know something from the person involved    1\n",
       "To have information about something secret    1\n",
       "                                             ..\n",
       "An easy task                                  1\n",
       "To go through something difficult             1\n",
       "To be highly valuable                         1\n",
       "To sum up the points and be brief             1\n",
       "Cannot have everything for yourself           1\n",
       "Name: count, Length: 120, dtype: int64"
      ]
     },
     "execution_count": 7,
     "metadata": {},
     "output_type": "execute_result"
    }
   ],
   "source": [
    "Meaning_counts = df1['Meaning'].value_counts()\n",
    "Meaning_counts"
   ]
  },
  {
   "cell_type": "code",
   "execution_count": 8,
   "metadata": {},
   "outputs": [
    {
     "data": {
      "text/plain": [
       "Example\n",
       "My mom was feeling a bit under the weather.                    1\n",
       "It was her chance to speak and she was getting cold feet.      1\n",
       "My great grandmother is surprisingly fit as a fiddle.          1\n",
       "We finally heard it from the horse’s mouth.                    1\n",
       "It is so hard to get wind of what is going on here.            1\n",
       "                                                              ..\n",
       "Solving the Wordle everyday was just a piece of cake.          1\n",
       "My mom taught me how to stand strong and weather the storm.    1\n",
       "Every word of what you say is worth its weight in gold.        1\n",
       "The teacher asked us to quote the findings in a nutshell.      1\n",
       "It is not at all that you have the cake and eat it too.        1\n",
       "Name: count, Length: 120, dtype: int64"
      ]
     },
     "execution_count": 8,
     "metadata": {},
     "output_type": "execute_result"
    }
   ],
   "source": [
    "sentence_counts = df1['Example'].value_counts()\n",
    "sentence_counts"
   ]
  },
  {
   "cell_type": "code",
   "execution_count": 9,
   "metadata": {},
   "outputs": [
    {
     "data": {
      "text/html": [
       "<div>\n",
       "<style scoped>\n",
       "    .dataframe tbody tr th:only-of-type {\n",
       "        vertical-align: middle;\n",
       "    }\n",
       "\n",
       "    .dataframe tbody tr th {\n",
       "        vertical-align: top;\n",
       "    }\n",
       "\n",
       "    .dataframe thead th {\n",
       "        text-align: right;\n",
       "    }\n",
       "</style>\n",
       "<table border=\"1\" class=\"dataframe\">\n",
       "  <thead>\n",
       "    <tr style=\"text-align: right;\">\n",
       "      <th></th>\n",
       "      <th>Idiom</th>\n",
       "      <th>Meaning</th>\n",
       "      <th>Example</th>\n",
       "    </tr>\n",
       "  </thead>\n",
       "  <tbody>\n",
       "    <tr>\n",
       "      <th>0</th>\n",
       "      <td>Under the weather</td>\n",
       "      <td>Feeling ill / Getting a cold</td>\n",
       "      <td>My mom was feeling a bit under the weather.</td>\n",
       "    </tr>\n",
       "    <tr>\n",
       "      <th>1</th>\n",
       "      <td>Cold feet</td>\n",
       "      <td>Becoming nervous</td>\n",
       "      <td>It was her chance to speak and she was getting...</td>\n",
       "    </tr>\n",
       "    <tr>\n",
       "      <th>2</th>\n",
       "      <td>Apple of my eye</td>\n",
       "      <td>Used to refer to someone whom you are very fon...</td>\n",
       "      <td>My younger brother is the apple of my eye.</td>\n",
       "    </tr>\n",
       "    <tr>\n",
       "      <th>3</th>\n",
       "      <td>Set the record straight</td>\n",
       "      <td>To reveal the truth / To clarify</td>\n",
       "      <td>In order to set the record straight, the umpir...</td>\n",
       "    </tr>\n",
       "    <tr>\n",
       "      <th>4</th>\n",
       "      <td>Kill two birds with a stone</td>\n",
       "      <td>Achieve two results by doing one thing</td>\n",
       "      <td>None of us understood that he was trying to ki...</td>\n",
       "    </tr>\n",
       "    <tr>\n",
       "      <th>...</th>\n",
       "      <td>...</td>\n",
       "      <td>...</td>\n",
       "      <td>...</td>\n",
       "    </tr>\n",
       "    <tr>\n",
       "      <th>115</th>\n",
       "      <td>Rain on one’s parade</td>\n",
       "      <td>To spoil someone’s moment of praise / To spoil...</td>\n",
       "      <td>Rachel did not really think she was raining on...</td>\n",
       "    </tr>\n",
       "    <tr>\n",
       "      <th>116</th>\n",
       "      <td>By the skin of your teeth</td>\n",
       "      <td>By a very narrow margin, the slightest if chances</td>\n",
       "      <td>The doctors said that Manu had escaped serious...</td>\n",
       "    </tr>\n",
       "    <tr>\n",
       "      <th>117</th>\n",
       "      <td>Put all your eggs in one basket</td>\n",
       "      <td>Doing something risky</td>\n",
       "      <td>Rounak’s parents think that he is putting all ...</td>\n",
       "    </tr>\n",
       "    <tr>\n",
       "      <th>118</th>\n",
       "      <td>Put something on ice</td>\n",
       "      <td>To hold off something</td>\n",
       "      <td>We decided to put the case on ice until we had...</td>\n",
       "    </tr>\n",
       "    <tr>\n",
       "      <th>119</th>\n",
       "      <td>Cannot have a cake and eat it too</td>\n",
       "      <td>Cannot have everything for yourself</td>\n",
       "      <td>It is not at all that you have the cake and ea...</td>\n",
       "    </tr>\n",
       "  </tbody>\n",
       "</table>\n",
       "<p>120 rows × 3 columns</p>\n",
       "</div>"
      ],
      "text/plain": [
       "                                 Idiom  \\\n",
       "0                    Under the weather   \n",
       "1                            Cold feet   \n",
       "2                      Apple of my eye   \n",
       "3              Set the record straight   \n",
       "4          Kill two birds with a stone   \n",
       "..                                 ...   \n",
       "115               Rain on one’s parade   \n",
       "116          By the skin of your teeth   \n",
       "117    Put all your eggs in one basket   \n",
       "118               Put something on ice   \n",
       "119  Cannot have a cake and eat it too   \n",
       "\n",
       "                                               Meaning  \\\n",
       "0                         Feeling ill / Getting a cold   \n",
       "1                                     Becoming nervous   \n",
       "2    Used to refer to someone whom you are very fon...   \n",
       "3                     To reveal the truth / To clarify   \n",
       "4               Achieve two results by doing one thing   \n",
       "..                                                 ...   \n",
       "115  To spoil someone’s moment of praise / To spoil...   \n",
       "116  By a very narrow margin, the slightest if chances   \n",
       "117                              Doing something risky   \n",
       "118                              To hold off something   \n",
       "119                Cannot have everything for yourself   \n",
       "\n",
       "                                               Example  \n",
       "0          My mom was feeling a bit under the weather.  \n",
       "1    It was her chance to speak and she was getting...  \n",
       "2           My younger brother is the apple of my eye.  \n",
       "3    In order to set the record straight, the umpir...  \n",
       "4    None of us understood that he was trying to ki...  \n",
       "..                                                 ...  \n",
       "115  Rachel did not really think she was raining on...  \n",
       "116  The doctors said that Manu had escaped serious...  \n",
       "117  Rounak’s parents think that he is putting all ...  \n",
       "118  We decided to put the case on ice until we had...  \n",
       "119  It is not at all that you have the cake and ea...  \n",
       "\n",
       "[120 rows x 3 columns]"
      ]
     },
     "execution_count": 9,
     "metadata": {},
     "output_type": "execute_result"
    }
   ],
   "source": [
    "for column in df1.columns:\n",
    "    if df1[column].dtype == 'object':  # Check if column is of type object (text)\n",
    "        df1[column] = df1[column].str.strip()\n",
    "df1 = df1.drop_duplicates()\n",
    "df1"
   ]
  },
  {
   "cell_type": "code",
   "execution_count": 10,
   "metadata": {},
   "outputs": [
    {
     "data": {
      "text/html": [
       "<div>\n",
       "<style scoped>\n",
       "    .dataframe tbody tr th:only-of-type {\n",
       "        vertical-align: middle;\n",
       "    }\n",
       "\n",
       "    .dataframe tbody tr th {\n",
       "        vertical-align: top;\n",
       "    }\n",
       "\n",
       "    .dataframe thead th {\n",
       "        text-align: right;\n",
       "    }\n",
       "</style>\n",
       "<table border=\"1\" class=\"dataframe\">\n",
       "  <thead>\n",
       "    <tr style=\"text-align: right;\">\n",
       "      <th></th>\n",
       "      <th>Idiom</th>\n",
       "      <th>Meaning</th>\n",
       "      <th>Example</th>\n",
       "    </tr>\n",
       "  </thead>\n",
       "  <tbody>\n",
       "  </tbody>\n",
       "</table>\n",
       "</div>"
      ],
      "text/plain": [
       "Empty DataFrame\n",
       "Columns: [Idiom, Meaning, Example]\n",
       "Index: []"
      ]
     },
     "execution_count": 10,
     "metadata": {},
     "output_type": "execute_result"
    }
   ],
   "source": [
    "idioms_with_meaning_example = df1[df1['Idiom'].str.contains('Meaning|Example')]\n",
    "idioms_with_meaning_example"
   ]
  },
  {
   "cell_type": "code",
   "execution_count": 11,
   "metadata": {},
   "outputs": [
    {
     "data": {
      "text/plain": [
       "Idiom      0\n",
       "Meaning    0\n",
       "Example    0\n",
       "dtype: int64"
      ]
     },
     "execution_count": 11,
     "metadata": {},
     "output_type": "execute_result"
    }
   ],
   "source": [
    "df1.isna().sum()"
   ]
  },
  {
   "cell_type": "code",
   "execution_count": 12,
   "metadata": {},
   "outputs": [
    {
     "data": {
      "text/plain": [
       "Idiom      0\n",
       "Meaning    0\n",
       "Example    0\n",
       "dtype: int64"
      ]
     },
     "execution_count": 12,
     "metadata": {},
     "output_type": "execute_result"
    }
   ],
   "source": [
    "df1.isnull().sum()"
   ]
  },
  {
   "cell_type": "code",
   "execution_count": 13,
   "metadata": {},
   "outputs": [],
   "source": [
    "df1.to_csv('English_idioms_1.csv', index=False)"
   ]
  },
  {
   "cell_type": "code",
   "execution_count": 14,
   "metadata": {},
   "outputs": [],
   "source": [
    "df2 = pd.read_csv('English_idioms_2.csv')"
   ]
  },
  {
   "cell_type": "code",
   "execution_count": 15,
   "metadata": {},
   "outputs": [
    {
     "name": "stdout",
     "output_type": "stream",
     "text": [
      "<class 'pandas.core.frame.DataFrame'>\n",
      "RangeIndex: 90 entries, 0 to 89\n",
      "Data columns (total 3 columns):\n",
      " #   Column            Non-Null Count  Dtype \n",
      "---  ------            --------------  ----- \n",
      " 0   Idiom             90 non-null     object\n",
      " 1   Meaning           90 non-null     object\n",
      " 2   Sentence Example  89 non-null     object\n",
      "dtypes: object(3)\n",
      "memory usage: 2.2+ KB\n"
     ]
    }
   ],
   "source": [
    "df2.info()"
   ]
  },
  {
   "cell_type": "code",
   "execution_count": 16,
   "metadata": {},
   "outputs": [
    {
     "data": {
      "text/html": [
       "<div>\n",
       "<style scoped>\n",
       "    .dataframe tbody tr th:only-of-type {\n",
       "        vertical-align: middle;\n",
       "    }\n",
       "\n",
       "    .dataframe tbody tr th {\n",
       "        vertical-align: top;\n",
       "    }\n",
       "\n",
       "    .dataframe thead th {\n",
       "        text-align: right;\n",
       "    }\n",
       "</style>\n",
       "<table border=\"1\" class=\"dataframe\">\n",
       "  <thead>\n",
       "    <tr style=\"text-align: right;\">\n",
       "      <th></th>\n",
       "      <th>Idiom</th>\n",
       "      <th>Meaning</th>\n",
       "      <th>Sentence Example</th>\n",
       "    </tr>\n",
       "  </thead>\n",
       "  <tbody>\n",
       "    <tr>\n",
       "      <th>0</th>\n",
       "      <td>In for a penny, in for a pound</td>\n",
       "      <td>That someone is intentionally investing his ti...</td>\n",
       "      <td>When Athlead was booming, Jim was in for a pen...</td>\n",
       "    </tr>\n",
       "    <tr>\n",
       "      <th>1</th>\n",
       "      <td>A bird in the hand is better than two in the bush</td>\n",
       "      <td>An opportunity in hand, currently, is better t...</td>\n",
       "      <td>The detective apprehended 3 criminals and saw ...</td>\n",
       "    </tr>\n",
       "    <tr>\n",
       "      <th>2</th>\n",
       "      <td>Chip off the old block</td>\n",
       "      <td>A person is similar in behaviour or actions to...</td>\n",
       "      <td>When grandmother saw her grandson collecting c...</td>\n",
       "    </tr>\n",
       "    <tr>\n",
       "      <th>3</th>\n",
       "      <td>Do unto others as you would have them do unto you</td>\n",
       "      <td>Treat people the same way you want to be treated.</td>\n",
       "      <td>I felt Peter was a little cold today towards t...</td>\n",
       "    </tr>\n",
       "    <tr>\n",
       "      <th>4</th>\n",
       "      <td>Don’t cry over spilt milk</td>\n",
       "      <td>Don’t cry over what has happened as it can not...</td>\n",
       "      <td>Walter failed his examination but his dad came...</td>\n",
       "    </tr>\n",
       "  </tbody>\n",
       "</table>\n",
       "</div>"
      ],
      "text/plain": [
       "                                               Idiom  \\\n",
       "0                     In for a penny, in for a pound   \n",
       "1  A bird in the hand is better than two in the bush   \n",
       "2                             Chip off the old block   \n",
       "3  Do unto others as you would have them do unto you   \n",
       "4                          Don’t cry over spilt milk   \n",
       "\n",
       "                                             Meaning  \\\n",
       "0  That someone is intentionally investing his ti...   \n",
       "1  An opportunity in hand, currently, is better t...   \n",
       "2  A person is similar in behaviour or actions to...   \n",
       "3  Treat people the same way you want to be treated.   \n",
       "4  Don’t cry over what has happened as it can not...   \n",
       "\n",
       "                                    Sentence Example  \n",
       "0  When Athlead was booming, Jim was in for a pen...  \n",
       "1  The detective apprehended 3 criminals and saw ...  \n",
       "2  When grandmother saw her grandson collecting c...  \n",
       "3  I felt Peter was a little cold today towards t...  \n",
       "4  Walter failed his examination but his dad came...  "
      ]
     },
     "execution_count": 16,
     "metadata": {},
     "output_type": "execute_result"
    }
   ],
   "source": [
    "df2.head()"
   ]
  },
  {
   "cell_type": "code",
   "execution_count": 17,
   "metadata": {},
   "outputs": [
    {
     "data": {
      "text/html": [
       "<div>\n",
       "<style scoped>\n",
       "    .dataframe tbody tr th:only-of-type {\n",
       "        vertical-align: middle;\n",
       "    }\n",
       "\n",
       "    .dataframe tbody tr th {\n",
       "        vertical-align: top;\n",
       "    }\n",
       "\n",
       "    .dataframe thead th {\n",
       "        text-align: right;\n",
       "    }\n",
       "</style>\n",
       "<table border=\"1\" class=\"dataframe\">\n",
       "  <thead>\n",
       "    <tr style=\"text-align: right;\">\n",
       "      <th></th>\n",
       "      <th>Idiom</th>\n",
       "      <th>Meaning</th>\n",
       "      <th>Example</th>\n",
       "    </tr>\n",
       "  </thead>\n",
       "  <tbody>\n",
       "    <tr>\n",
       "      <th>0</th>\n",
       "      <td>In for a penny, in for a pound</td>\n",
       "      <td>That someone is intentionally investing his ti...</td>\n",
       "      <td>When Athlead was booming, Jim was in for a pen...</td>\n",
       "    </tr>\n",
       "    <tr>\n",
       "      <th>1</th>\n",
       "      <td>A bird in the hand is better than two in the bush</td>\n",
       "      <td>An opportunity in hand, currently, is better t...</td>\n",
       "      <td>The detective apprehended 3 criminals and saw ...</td>\n",
       "    </tr>\n",
       "    <tr>\n",
       "      <th>2</th>\n",
       "      <td>Chip off the old block</td>\n",
       "      <td>A person is similar in behaviour or actions to...</td>\n",
       "      <td>When grandmother saw her grandson collecting c...</td>\n",
       "    </tr>\n",
       "    <tr>\n",
       "      <th>3</th>\n",
       "      <td>Do unto others as you would have them do unto you</td>\n",
       "      <td>Treat people the same way you want to be treated.</td>\n",
       "      <td>I felt Peter was a little cold today towards t...</td>\n",
       "    </tr>\n",
       "    <tr>\n",
       "      <th>4</th>\n",
       "      <td>Don’t cry over spilt milk</td>\n",
       "      <td>Don’t cry over what has happened as it can not...</td>\n",
       "      <td>Walter failed his examination but his dad came...</td>\n",
       "    </tr>\n",
       "    <tr>\n",
       "      <th>...</th>\n",
       "      <td>...</td>\n",
       "      <td>...</td>\n",
       "      <td>...</td>\n",
       "    </tr>\n",
       "    <tr>\n",
       "      <th>85</th>\n",
       "      <td>Forty winksMeaning: A short napExample: I will...</td>\n",
       "      <td>Available for everyone</td>\n",
       "      <td>This pizza slice is up for grabs!</td>\n",
       "    </tr>\n",
       "    <tr>\n",
       "      <th>86</th>\n",
       "      <td>Old as the hillsMeaning: Someone very oldExamp...</td>\n",
       "      <td>Start all over again</td>\n",
       "      <td>Your mistake brought us back to square one.</td>\n",
       "    </tr>\n",
       "    <tr>\n",
       "      <th>87</th>\n",
       "      <td>Round the bendMeaning: CrazyExample: My neighb...</td>\n",
       "      <td>Rushed</td>\n",
       "      <td>I have to hurry for the meeting, I am against ...</td>\n",
       "    </tr>\n",
       "    <tr>\n",
       "      <th>88</th>\n",
       "      <td>Black and blueMeaning: Something bruisedExampl...</td>\n",
       "      <td>Sad</td>\n",
       "      <td>After meeting her, I am feeling the blues.</td>\n",
       "    </tr>\n",
       "    <tr>\n",
       "      <th>89</th>\n",
       "      <td>Be glad to see the back ofMeaning: Happy when ...</td>\n",
       "      <td>Faint</td>\n",
       "      <td>I blacked out after two drinks.</td>\n",
       "    </tr>\n",
       "  </tbody>\n",
       "</table>\n",
       "<p>90 rows × 3 columns</p>\n",
       "</div>"
      ],
      "text/plain": [
       "                                                Idiom  \\\n",
       "0                      In for a penny, in for a pound   \n",
       "1   A bird in the hand is better than two in the bush   \n",
       "2                              Chip off the old block   \n",
       "3   Do unto others as you would have them do unto you   \n",
       "4                           Don’t cry over spilt milk   \n",
       "..                                                ...   \n",
       "85  Forty winksMeaning: A short napExample: I will...   \n",
       "86  Old as the hillsMeaning: Someone very oldExamp...   \n",
       "87  Round the bendMeaning: CrazyExample: My neighb...   \n",
       "88  Black and blueMeaning: Something bruisedExampl...   \n",
       "89  Be glad to see the back ofMeaning: Happy when ...   \n",
       "\n",
       "                                              Meaning  \\\n",
       "0   That someone is intentionally investing his ti...   \n",
       "1   An opportunity in hand, currently, is better t...   \n",
       "2   A person is similar in behaviour or actions to...   \n",
       "3   Treat people the same way you want to be treated.   \n",
       "4   Don’t cry over what has happened as it can not...   \n",
       "..                                                ...   \n",
       "85                             Available for everyone   \n",
       "86                               Start all over again   \n",
       "87                                             Rushed   \n",
       "88                                                Sad   \n",
       "89                                              Faint   \n",
       "\n",
       "                                              Example  \n",
       "0   When Athlead was booming, Jim was in for a pen...  \n",
       "1   The detective apprehended 3 criminals and saw ...  \n",
       "2   When grandmother saw her grandson collecting c...  \n",
       "3   I felt Peter was a little cold today towards t...  \n",
       "4   Walter failed his examination but his dad came...  \n",
       "..                                                ...  \n",
       "85                  This pizza slice is up for grabs!  \n",
       "86        Your mistake brought us back to square one.  \n",
       "87  I have to hurry for the meeting, I am against ...  \n",
       "88         After meeting her, I am feeling the blues.  \n",
       "89                    I blacked out after two drinks.  \n",
       "\n",
       "[90 rows x 3 columns]"
      ]
     },
     "execution_count": 17,
     "metadata": {},
     "output_type": "execute_result"
    }
   ],
   "source": [
    "df2.rename(columns = {'Sentence Example':'Example'}, inplace = True) \n",
    "df2"
   ]
  },
  {
   "cell_type": "code",
   "execution_count": 18,
   "metadata": {},
   "outputs": [
    {
     "data": {
      "text/html": [
       "<div>\n",
       "<style scoped>\n",
       "    .dataframe tbody tr th:only-of-type {\n",
       "        vertical-align: middle;\n",
       "    }\n",
       "\n",
       "    .dataframe tbody tr th {\n",
       "        vertical-align: top;\n",
       "    }\n",
       "\n",
       "    .dataframe thead th {\n",
       "        text-align: right;\n",
       "    }\n",
       "</style>\n",
       "<table border=\"1\" class=\"dataframe\">\n",
       "  <thead>\n",
       "    <tr style=\"text-align: right;\">\n",
       "      <th></th>\n",
       "      <th>Idiom</th>\n",
       "      <th>Meaning</th>\n",
       "      <th>Example</th>\n",
       "    </tr>\n",
       "  </thead>\n",
       "  <tbody>\n",
       "    <tr>\n",
       "      <th>23</th>\n",
       "      <td>Snug as a bug in a rug</td>\n",
       "      <td>Warm and cosy.</td>\n",
       "      <td>NaN</td>\n",
       "    </tr>\n",
       "  </tbody>\n",
       "</table>\n",
       "</div>"
      ],
      "text/plain": [
       "                     Idiom         Meaning Example\n",
       "23  Snug as a bug in a rug  Warm and cosy.     NaN"
      ]
     },
     "execution_count": 18,
     "metadata": {},
     "output_type": "execute_result"
    }
   ],
   "source": [
    "#Look at row with missing sentence example\n",
    "df2[df2['Example'].isnull()]\n"
   ]
  },
  {
   "cell_type": "code",
   "execution_count": 19,
   "metadata": {},
   "outputs": [],
   "source": [
    "#Fill in missing value - issue with website had a sentence example but labeled as Meaning\n",
    "df2.loc[23, 'Example'] = 'The baby looks as snug as a bug in a rug next to her mother.'"
   ]
  },
  {
   "cell_type": "code",
   "execution_count": 20,
   "metadata": {},
   "outputs": [
    {
     "data": {
      "text/html": [
       "<div>\n",
       "<style scoped>\n",
       "    .dataframe tbody tr th:only-of-type {\n",
       "        vertical-align: middle;\n",
       "    }\n",
       "\n",
       "    .dataframe tbody tr th {\n",
       "        vertical-align: top;\n",
       "    }\n",
       "\n",
       "    .dataframe thead th {\n",
       "        text-align: right;\n",
       "    }\n",
       "</style>\n",
       "<table border=\"1\" class=\"dataframe\">\n",
       "  <thead>\n",
       "    <tr style=\"text-align: right;\">\n",
       "      <th></th>\n",
       "      <th>Idiom</th>\n",
       "      <th>Meaning</th>\n",
       "      <th>Example</th>\n",
       "    </tr>\n",
       "  </thead>\n",
       "  <tbody>\n",
       "  </tbody>\n",
       "</table>\n",
       "</div>"
      ],
      "text/plain": [
       "Empty DataFrame\n",
       "Columns: [Idiom, Meaning, Example]\n",
       "Index: []"
      ]
     },
     "execution_count": 20,
     "metadata": {},
     "output_type": "execute_result"
    }
   ],
   "source": [
    "df2[df2['Example'].isnull()]"
   ]
  },
  {
   "cell_type": "code",
   "execution_count": 21,
   "metadata": {},
   "outputs": [
    {
     "data": {
      "text/plain": [
       "Idiom\n",
       "Face the music                                                                                                           2\n",
       "Put something on ice                                                                                                     1\n",
       "Cut to the chase                                                                                                         1\n",
       "Ring a bell                                                                                                              1\n",
       "Go cold turkey                                                                                                           1\n",
       "                                                                                                                        ..\n",
       "Crying Wolf                                                                                                              1\n",
       "Straight from the Horse’s mouth                                                                                          1\n",
       "Lose your marbles                                                                                                        1\n",
       "To not see the wood for the trees                                                                                        1\n",
       "Be glad to see the back ofMeaning: Happy when someone leavesExample: Tomorrow, I will be glad to see the back of her.    1\n",
       "Name: count, Length: 89, dtype: int64"
      ]
     },
     "execution_count": 21,
     "metadata": {},
     "output_type": "execute_result"
    }
   ],
   "source": [
    "Phrase_counts = df2['Idiom'].value_counts()\n",
    "Phrase_counts"
   ]
  },
  {
   "cell_type": "code",
   "execution_count": 22,
   "metadata": {},
   "outputs": [
    {
     "data": {
      "text/html": [
       "<div>\n",
       "<style scoped>\n",
       "    .dataframe tbody tr th:only-of-type {\n",
       "        vertical-align: middle;\n",
       "    }\n",
       "\n",
       "    .dataframe tbody tr th {\n",
       "        vertical-align: top;\n",
       "    }\n",
       "\n",
       "    .dataframe thead th {\n",
       "        text-align: right;\n",
       "    }\n",
       "</style>\n",
       "<table border=\"1\" class=\"dataframe\">\n",
       "  <thead>\n",
       "    <tr style=\"text-align: right;\">\n",
       "      <th></th>\n",
       "      <th>Idiom</th>\n",
       "      <th>Meaning</th>\n",
       "      <th>Example</th>\n",
       "    </tr>\n",
       "  </thead>\n",
       "  <tbody>\n",
       "    <tr>\n",
       "      <th>67</th>\n",
       "      <td>Face the music</td>\n",
       "      <td>Face the reality</td>\n",
       "      <td>Shikha asked her husband to not run away from ...</td>\n",
       "    </tr>\n",
       "    <tr>\n",
       "      <th>70</th>\n",
       "      <td>Face the music</td>\n",
       "      <td>Confront the unpleasant consequences of one’s ...</td>\n",
       "      <td>We have done it and now it’s time to face the ...</td>\n",
       "    </tr>\n",
       "  </tbody>\n",
       "</table>\n",
       "</div>"
      ],
      "text/plain": [
       "             Idiom                                            Meaning  \\\n",
       "67  Face the music                                   Face the reality   \n",
       "70  Face the music  Confront the unpleasant consequences of one’s ...   \n",
       "\n",
       "                                              Example  \n",
       "67  Shikha asked her husband to not run away from ...  \n",
       "70  We have done it and now it’s time to face the ...  "
      ]
     },
     "execution_count": 22,
     "metadata": {},
     "output_type": "execute_result"
    }
   ],
   "source": [
    "#find where Idiom is Idiom Face the music  \n",
    "df2[df2['Idiom'] == 'Face the music']"
   ]
  },
  {
   "cell_type": "code",
   "execution_count": 23,
   "metadata": {},
   "outputs": [
    {
     "data": {
      "text/html": [
       "<div>\n",
       "<style scoped>\n",
       "    .dataframe tbody tr th:only-of-type {\n",
       "        vertical-align: middle;\n",
       "    }\n",
       "\n",
       "    .dataframe tbody tr th {\n",
       "        vertical-align: top;\n",
       "    }\n",
       "\n",
       "    .dataframe thead th {\n",
       "        text-align: right;\n",
       "    }\n",
       "</style>\n",
       "<table border=\"1\" class=\"dataframe\">\n",
       "  <thead>\n",
       "    <tr style=\"text-align: right;\">\n",
       "      <th></th>\n",
       "      <th>Idiom</th>\n",
       "      <th>Meaning</th>\n",
       "      <th>Example</th>\n",
       "    </tr>\n",
       "  </thead>\n",
       "  <tbody>\n",
       "    <tr>\n",
       "      <th>0</th>\n",
       "      <td>In for a penny, in for a pound</td>\n",
       "      <td>That someone is intentionally investing his ti...</td>\n",
       "      <td>When Athlead was booming, Jim was in for a pen...</td>\n",
       "    </tr>\n",
       "    <tr>\n",
       "      <th>1</th>\n",
       "      <td>A bird in the hand is better than two in the bush</td>\n",
       "      <td>An opportunity in hand, currently, is better t...</td>\n",
       "      <td>The detective apprehended 3 criminals and saw ...</td>\n",
       "    </tr>\n",
       "    <tr>\n",
       "      <th>2</th>\n",
       "      <td>Chip off the old block</td>\n",
       "      <td>A person is similar in behaviour or actions to...</td>\n",
       "      <td>When grandmother saw her grandson collecting c...</td>\n",
       "    </tr>\n",
       "    <tr>\n",
       "      <th>3</th>\n",
       "      <td>Do unto others as you would have them do unto you</td>\n",
       "      <td>Treat people the same way you want to be treated.</td>\n",
       "      <td>I felt Peter was a little cold today towards t...</td>\n",
       "    </tr>\n",
       "    <tr>\n",
       "      <th>4</th>\n",
       "      <td>Don’t cry over spilt milk</td>\n",
       "      <td>Don’t cry over what has happened as it can not...</td>\n",
       "      <td>Walter failed his examination but his dad came...</td>\n",
       "    </tr>\n",
       "    <tr>\n",
       "      <th>...</th>\n",
       "      <td>...</td>\n",
       "      <td>...</td>\n",
       "      <td>...</td>\n",
       "    </tr>\n",
       "    <tr>\n",
       "      <th>76</th>\n",
       "      <td>Through thick and thin</td>\n",
       "      <td>Through good and bad times</td>\n",
       "      <td>Books and music stay by your side through thic...</td>\n",
       "    </tr>\n",
       "    <tr>\n",
       "      <th>77</th>\n",
       "      <td>Cry for the moon</td>\n",
       "      <td>To ask for something that is rather difficult</td>\n",
       "      <td>You are crying for the moon for this concert’s...</td>\n",
       "    </tr>\n",
       "    <tr>\n",
       "      <th>78</th>\n",
       "      <td>Read between the lines</td>\n",
       "      <td>Understanding the real message behind something</td>\n",
       "      <td>If you try to read between the lines, her song...</td>\n",
       "    </tr>\n",
       "    <tr>\n",
       "      <th>79</th>\n",
       "      <td>Don’t give up a day’s job</td>\n",
       "      <td>You are not very good at something or you coul...</td>\n",
       "      <td>I love painting, but I shouldn’t give up a day...</td>\n",
       "    </tr>\n",
       "    <tr>\n",
       "      <th>80</th>\n",
       "      <td>Here are the most common 20 idioms with their ...</td>\n",
       "      <td>Saying something insulting in the form of appr...</td>\n",
       "      <td>Her words on my blog seem like a left-handed c...</td>\n",
       "    </tr>\n",
       "  </tbody>\n",
       "</table>\n",
       "<p>81 rows × 3 columns</p>\n",
       "</div>"
      ],
      "text/plain": [
       "                                                Idiom  \\\n",
       "0                      In for a penny, in for a pound   \n",
       "1   A bird in the hand is better than two in the bush   \n",
       "2                              Chip off the old block   \n",
       "3   Do unto others as you would have them do unto you   \n",
       "4                           Don’t cry over spilt milk   \n",
       "..                                                ...   \n",
       "76                             Through thick and thin   \n",
       "77                                   Cry for the moon   \n",
       "78                             Read between the lines   \n",
       "79                          Don’t give up a day’s job   \n",
       "80  Here are the most common 20 idioms with their ...   \n",
       "\n",
       "                                              Meaning  \\\n",
       "0   That someone is intentionally investing his ti...   \n",
       "1   An opportunity in hand, currently, is better t...   \n",
       "2   A person is similar in behaviour or actions to...   \n",
       "3   Treat people the same way you want to be treated.   \n",
       "4   Don’t cry over what has happened as it can not...   \n",
       "..                                                ...   \n",
       "76                         Through good and bad times   \n",
       "77      To ask for something that is rather difficult   \n",
       "78    Understanding the real message behind something   \n",
       "79  You are not very good at something or you coul...   \n",
       "80  Saying something insulting in the form of appr...   \n",
       "\n",
       "                                              Example  \n",
       "0   When Athlead was booming, Jim was in for a pen...  \n",
       "1   The detective apprehended 3 criminals and saw ...  \n",
       "2   When grandmother saw her grandson collecting c...  \n",
       "3   I felt Peter was a little cold today towards t...  \n",
       "4   Walter failed his examination but his dad came...  \n",
       "..                                                ...  \n",
       "76  Books and music stay by your side through thic...  \n",
       "77  You are crying for the moon for this concert’s...  \n",
       "78  If you try to read between the lines, her song...  \n",
       "79  I love painting, but I shouldn’t give up a day...  \n",
       "80  Her words on my blog seem like a left-handed c...  \n",
       "\n",
       "[81 rows x 3 columns]"
      ]
     },
     "execution_count": 23,
     "metadata": {},
     "output_type": "execute_result"
    }
   ],
   "source": [
    "df2 = df2.drop(df2[df2['Idiom'].str.contains('Meaning|Example')].index)\n",
    "df2"
   ]
  },
  {
   "cell_type": "code",
   "execution_count": 24,
   "metadata": {},
   "outputs": [
    {
     "data": {
      "text/plain": [
       "Meaning\n",
       "That someone is intentionally investing his time or money for a particular project or task.    1\n",
       "A really good invention.                                                                       1\n",
       "To be in a low spirit                                                                          1\n",
       "Confused                                                                                       1\n",
       "To ignore what someone is saying.                                                              1\n",
       "                                                                                              ..\n",
       "To go insane.                                                                                  1\n",
       "To be so involved in trivial matters that you don’t get the important facts.                   1\n",
       "To start performing better                                                                     1\n",
       "Warm and cosy.                                                                                 1\n",
       "Saying something insulting in the form of appreciative words.                                  1\n",
       "Name: count, Length: 81, dtype: int64"
      ]
     },
     "execution_count": 24,
     "metadata": {},
     "output_type": "execute_result"
    }
   ],
   "source": [
    "Meaning_counts = df2['Meaning'].value_counts()\n",
    "Meaning_counts"
   ]
  },
  {
   "cell_type": "code",
   "execution_count": 25,
   "metadata": {},
   "outputs": [
    {
     "data": {
      "text/plain": [
       "Example\n",
       "When Athlead was booming, Jim was in for a penny and in for a pound, that’s how dedicated he was.    1\n",
       "Bluetooth is officially the best thing since sliced bread.                                           1\n",
       "When I got to know about the increasing cases of COVID-19 in my area, I was in the doldrums.         1\n",
       "I was at sea while choosing a lehenga for my sister’s wedding at Manish Malhotra’s store.            1\n",
       "Whenever her mother complained of her excessive use of her mobile phone, Anu turned a deaf ear.      1\n",
       "                                                                                                    ..\n",
       "Our mailman has lost his marbles, every day he drops Mr. Smith’s mail on our door.                   1\n",
       "He always argues on the silliest topics, it’s like he can’t see wood for the trees.                  1\n",
       "Jennifer better step up her game if she wants to make big in Basketball.                             1\n",
       "The baby looks as snug as a bug in a rug next to her mother.                                         1\n",
       "Her words on my blog seem like a left-handed compliment.                                             1\n",
       "Name: count, Length: 81, dtype: int64"
      ]
     },
     "execution_count": 25,
     "metadata": {},
     "output_type": "execute_result"
    }
   ],
   "source": [
    "sentence_counts = df2['Example'].value_counts()\n",
    "sentence_counts"
   ]
  },
  {
   "cell_type": "code",
   "execution_count": 26,
   "metadata": {},
   "outputs": [],
   "source": [
    "for column in df2.columns:\n",
    "    if df2[column].dtype == 'object':  # Check if column is of type object (text)\n",
    "        df2[column] = df2[column].str.strip()"
   ]
  },
  {
   "cell_type": "code",
   "execution_count": 27,
   "metadata": {},
   "outputs": [
    {
     "data": {
      "text/plain": [
       "Idiom      0\n",
       "Meaning    0\n",
       "Example    0\n",
       "dtype: int64"
      ]
     },
     "execution_count": 27,
     "metadata": {},
     "output_type": "execute_result"
    }
   ],
   "source": [
    "df2.isna().sum()"
   ]
  },
  {
   "cell_type": "code",
   "execution_count": 28,
   "metadata": {},
   "outputs": [
    {
     "data": {
      "text/plain": [
       "Idiom      0\n",
       "Meaning    0\n",
       "Example    0\n",
       "dtype: int64"
      ]
     },
     "execution_count": 28,
     "metadata": {},
     "output_type": "execute_result"
    }
   ],
   "source": [
    "df2.isnull().sum()"
   ]
  },
  {
   "cell_type": "code",
   "execution_count": 29,
   "metadata": {},
   "outputs": [],
   "source": [
    "df2.to_csv('English_idioms_2.csv', index=False)"
   ]
  },
  {
   "cell_type": "code",
   "execution_count": 30,
   "metadata": {},
   "outputs": [],
   "source": [
    "df3 = pd.read_csv('English_idioms_3.csv')"
   ]
  },
  {
   "cell_type": "code",
   "execution_count": 31,
   "metadata": {},
   "outputs": [
    {
     "name": "stdout",
     "output_type": "stream",
     "text": [
      "<class 'pandas.core.frame.DataFrame'>\n",
      "RangeIndex: 84 entries, 0 to 83\n",
      "Data columns (total 3 columns):\n",
      " #   Column            Non-Null Count  Dtype \n",
      "---  ------            --------------  ----- \n",
      " 0   Idiom             84 non-null     object\n",
      " 1   Meaning           84 non-null     object\n",
      " 2   Sentence Example  84 non-null     object\n",
      "dtypes: object(3)\n",
      "memory usage: 2.1+ KB\n"
     ]
    }
   ],
   "source": [
    "df3.info()"
   ]
  },
  {
   "cell_type": "code",
   "execution_count": 32,
   "metadata": {},
   "outputs": [
    {
     "data": {
      "text/html": [
       "<div>\n",
       "<style scoped>\n",
       "    .dataframe tbody tr th:only-of-type {\n",
       "        vertical-align: middle;\n",
       "    }\n",
       "\n",
       "    .dataframe tbody tr th {\n",
       "        vertical-align: top;\n",
       "    }\n",
       "\n",
       "    .dataframe thead th {\n",
       "        text-align: right;\n",
       "    }\n",
       "</style>\n",
       "<table border=\"1\" class=\"dataframe\">\n",
       "  <thead>\n",
       "    <tr style=\"text-align: right;\">\n",
       "      <th></th>\n",
       "      <th>Idiom</th>\n",
       "      <th>Meaning</th>\n",
       "      <th>Sentence Example</th>\n",
       "    </tr>\n",
       "  </thead>\n",
       "  <tbody>\n",
       "    <tr>\n",
       "      <th>0</th>\n",
       "      <td>At First Blush</td>\n",
       "      <td>First sight</td>\n",
       "      <td>At first blush, the proposal seems promising, ...</td>\n",
       "    </tr>\n",
       "    <tr>\n",
       "      <th>1</th>\n",
       "      <td>A wet blanket</td>\n",
       "      <td>A person who discourages enjoyment or enthusiasm</td>\n",
       "      <td>Sarah’s constant pessimism and negative commen...</td>\n",
       "    </tr>\n",
       "    <tr>\n",
       "      <th>2</th>\n",
       "      <td>Your Guess is as Good as Mine</td>\n",
       "      <td>To have no idea about anything</td>\n",
       "      <td>“Will this flight reach on time?” “Your guess ...</td>\n",
       "    </tr>\n",
       "    <tr>\n",
       "      <th>3</th>\n",
       "      <td>Tuck in</td>\n",
       "      <td>To put something in a secure place, to start e...</td>\n",
       "      <td>Mother cooked some delicious food and asked us...</td>\n",
       "    </tr>\n",
       "    <tr>\n",
       "      <th>4</th>\n",
       "      <td>Speak of the Devil</td>\n",
       "      <td>The person you’re talking about shows up at th...</td>\n",
       "      <td>I hope he doesn’t show up to the office today ...</td>\n",
       "    </tr>\n",
       "  </tbody>\n",
       "</table>\n",
       "</div>"
      ],
      "text/plain": [
       "                           Idiom  \\\n",
       "0                 At First Blush   \n",
       "1                  A wet blanket   \n",
       "2  Your Guess is as Good as Mine   \n",
       "3                        Tuck in   \n",
       "4             Speak of the Devil   \n",
       "\n",
       "                                             Meaning  \\\n",
       "0                                        First sight   \n",
       "1   A person who discourages enjoyment or enthusiasm   \n",
       "2                     To have no idea about anything   \n",
       "3  To put something in a secure place, to start e...   \n",
       "4  The person you’re talking about shows up at th...   \n",
       "\n",
       "                                    Sentence Example  \n",
       "0  At first blush, the proposal seems promising, ...  \n",
       "1  Sarah’s constant pessimism and negative commen...  \n",
       "2  “Will this flight reach on time?” “Your guess ...  \n",
       "3  Mother cooked some delicious food and asked us...  \n",
       "4  I hope he doesn’t show up to the office today ...  "
      ]
     },
     "execution_count": 32,
     "metadata": {},
     "output_type": "execute_result"
    }
   ],
   "source": [
    "df3.head()"
   ]
  },
  {
   "cell_type": "code",
   "execution_count": 33,
   "metadata": {},
   "outputs": [
    {
     "data": {
      "text/html": [
       "<div>\n",
       "<style scoped>\n",
       "    .dataframe tbody tr th:only-of-type {\n",
       "        vertical-align: middle;\n",
       "    }\n",
       "\n",
       "    .dataframe tbody tr th {\n",
       "        vertical-align: top;\n",
       "    }\n",
       "\n",
       "    .dataframe thead th {\n",
       "        text-align: right;\n",
       "    }\n",
       "</style>\n",
       "<table border=\"1\" class=\"dataframe\">\n",
       "  <thead>\n",
       "    <tr style=\"text-align: right;\">\n",
       "      <th></th>\n",
       "      <th>Idiom</th>\n",
       "      <th>Meaning</th>\n",
       "      <th>Example</th>\n",
       "    </tr>\n",
       "  </thead>\n",
       "  <tbody>\n",
       "    <tr>\n",
       "      <th>0</th>\n",
       "      <td>At First Blush</td>\n",
       "      <td>First sight</td>\n",
       "      <td>At first blush, the proposal seems promising, ...</td>\n",
       "    </tr>\n",
       "    <tr>\n",
       "      <th>1</th>\n",
       "      <td>A wet blanket</td>\n",
       "      <td>A person who discourages enjoyment or enthusiasm</td>\n",
       "      <td>Sarah’s constant pessimism and negative commen...</td>\n",
       "    </tr>\n",
       "    <tr>\n",
       "      <th>2</th>\n",
       "      <td>Your Guess is as Good as Mine</td>\n",
       "      <td>To have no idea about anything</td>\n",
       "      <td>“Will this flight reach on time?” “Your guess ...</td>\n",
       "    </tr>\n",
       "    <tr>\n",
       "      <th>3</th>\n",
       "      <td>Tuck in</td>\n",
       "      <td>To put something in a secure place, to start e...</td>\n",
       "      <td>Mother cooked some delicious food and asked us...</td>\n",
       "    </tr>\n",
       "    <tr>\n",
       "      <th>4</th>\n",
       "      <td>Speak of the Devil</td>\n",
       "      <td>The person you’re talking about shows up at th...</td>\n",
       "      <td>I hope he doesn’t show up to the office today ...</td>\n",
       "    </tr>\n",
       "    <tr>\n",
       "      <th>...</th>\n",
       "      <td>...</td>\n",
       "      <td>...</td>\n",
       "      <td>...</td>\n",
       "    </tr>\n",
       "    <tr>\n",
       "      <th>79</th>\n",
       "      <td>Rock the boat</td>\n",
       "      <td>Doing something that causes problems</td>\n",
       "      <td>We already have too much homework; let’s not r...</td>\n",
       "    </tr>\n",
       "    <tr>\n",
       "      <th>80</th>\n",
       "      <td>Clean as a whistle</td>\n",
       "      <td>Meaning is free from dirt</td>\n",
       "      <td>Like a fresh start, everything was clean as a ...</td>\n",
       "    </tr>\n",
       "    <tr>\n",
       "      <th>81</th>\n",
       "      <td>Two heads are better than one</td>\n",
       "      <td>Refers to the idea that having more than one p...</td>\n",
       "      <td>Since two heads are better than one when it co...</td>\n",
       "    </tr>\n",
       "    <tr>\n",
       "      <th>82</th>\n",
       "      <td>A Rising tide lifts all boats</td>\n",
       "      <td>It is associated with economic growth, wealth,...</td>\n",
       "      <td>How a rising tide lifts all boats, as it helps...</td>\n",
       "    </tr>\n",
       "    <tr>\n",
       "      <th>83</th>\n",
       "      <td>Like a cat on hot tin roof</td>\n",
       "      <td>In an uneasy or nervous state</td>\n",
       "      <td>She’s waiting for the doctor to call with her ...</td>\n",
       "    </tr>\n",
       "  </tbody>\n",
       "</table>\n",
       "<p>84 rows × 3 columns</p>\n",
       "</div>"
      ],
      "text/plain": [
       "                            Idiom  \\\n",
       "0                  At First Blush   \n",
       "1                   A wet blanket   \n",
       "2   Your Guess is as Good as Mine   \n",
       "3                         Tuck in   \n",
       "4              Speak of the Devil   \n",
       "..                            ...   \n",
       "79                  Rock the boat   \n",
       "80             Clean as a whistle   \n",
       "81  Two heads are better than one   \n",
       "82  A Rising tide lifts all boats   \n",
       "83     Like a cat on hot tin roof   \n",
       "\n",
       "                                              Meaning  \\\n",
       "0                                         First sight   \n",
       "1    A person who discourages enjoyment or enthusiasm   \n",
       "2                      To have no idea about anything   \n",
       "3   To put something in a secure place, to start e...   \n",
       "4   The person you’re talking about shows up at th...   \n",
       "..                                                ...   \n",
       "79               Doing something that causes problems   \n",
       "80                          Meaning is free from dirt   \n",
       "81  Refers to the idea that having more than one p...   \n",
       "82  It is associated with economic growth, wealth,...   \n",
       "83                      In an uneasy or nervous state   \n",
       "\n",
       "                                              Example  \n",
       "0   At first blush, the proposal seems promising, ...  \n",
       "1   Sarah’s constant pessimism and negative commen...  \n",
       "2   “Will this flight reach on time?” “Your guess ...  \n",
       "3   Mother cooked some delicious food and asked us...  \n",
       "4   I hope he doesn’t show up to the office today ...  \n",
       "..                                                ...  \n",
       "79  We already have too much homework; let’s not r...  \n",
       "80  Like a fresh start, everything was clean as a ...  \n",
       "81  Since two heads are better than one when it co...  \n",
       "82  How a rising tide lifts all boats, as it helps...  \n",
       "83  She’s waiting for the doctor to call with her ...  \n",
       "\n",
       "[84 rows x 3 columns]"
      ]
     },
     "execution_count": 33,
     "metadata": {},
     "output_type": "execute_result"
    }
   ],
   "source": [
    "df3.rename(columns = {'Sentence Example':'Example'}, inplace = True) \n",
    "df3"
   ]
  },
  {
   "cell_type": "code",
   "execution_count": 34,
   "metadata": {},
   "outputs": [],
   "source": [
    "for column in df3.columns:\n",
    "    if df3[column].dtype == 'object':  # Check if column is of type object (text)\n",
    "        df3[column] = df3[column].str.strip()"
   ]
  },
  {
   "cell_type": "code",
   "execution_count": 35,
   "metadata": {},
   "outputs": [
    {
     "data": {
      "text/plain": [
       "Idiom\n",
       "At First Blush                1\n",
       "To square the circle          1\n",
       "Care killed the cat           1\n",
       "To Catch One’s Eye            1\n",
       "Clean Swipe                   1\n",
       "                             ..\n",
       "A ballpark figure             1\n",
       "To balance the books          1\n",
       "To get the sack               1\n",
       "To be snowed under            1\n",
       "Like a cat on hot tin roof    1\n",
       "Name: count, Length: 84, dtype: int64"
      ]
     },
     "execution_count": 35,
     "metadata": {},
     "output_type": "execute_result"
    }
   ],
   "source": [
    "Phrase_counts = df3['Idiom'].value_counts()\n",
    "Phrase_counts"
   ]
  },
  {
   "cell_type": "code",
   "execution_count": 36,
   "metadata": {},
   "outputs": [
    {
     "data": {
      "text/plain": [
       "Meaning\n",
       "First sight                                                                                     1\n",
       "To attempt something impossible                                                                 1\n",
       "Don’t fret and worry yourself to death                                                          1\n",
       "To attract attention                                                                            1\n",
       "Winning without facing any defeat.                                                              1\n",
       "                                                                                               ..\n",
       "A general financial figure                                                                      1\n",
       "To make certain that the amount of money spent is not more than the amount of money received    1\n",
       "To be dismissed from your job                                                                   1\n",
       "To be very busy                                                                                 1\n",
       "In an uneasy or nervous state                                                                   1\n",
       "Name: count, Length: 84, dtype: int64"
      ]
     },
     "execution_count": 36,
     "metadata": {},
     "output_type": "execute_result"
    }
   ],
   "source": [
    "Meaning_counts = df3['Meaning'].value_counts()\n",
    "Meaning_counts"
   ]
  },
  {
   "cell_type": "code",
   "execution_count": 37,
   "metadata": {},
   "outputs": [
    {
     "data": {
      "text/plain": [
       "Example\n",
       "At first blush, the proposal seems promising, but upon closer examination, its flaws become apparent.                                 1\n",
       "Trying to convince her strict parents to let her go on a solo backpacking trip was like trying to square the circle.                  1\n",
       "She couldn’t resist opening the mysterious package despite the warning label and care killed the cat.                                 1\n",
       "Her vibrant red dress and confident demeanour were enough to catch anyone’s eye as she walked into the room.                          1\n",
       "The ruling party made a clean sweep in the election, winning all the seats in the parliament.                                         1\n",
       "                                                                                                                                     ..\n",
       "The project manager gave us a ballpark figure for the budget, estimating it to be around $50,000, but the actual costs could vary.    1\n",
       "The company was accused of balancing the books to inflate its profits and deceive investors.                                          1\n",
       "After consistently showing up late for work, he eventually got sacked from his job                                                    1\n",
       "I can’t go out tonight, I’m snowed under with work and deadlines                                                                      1\n",
       "She’s waiting for the doctor to call with her test results, so she’s been like a cat on a hot tin roof all day.                       1\n",
       "Name: count, Length: 84, dtype: int64"
      ]
     },
     "execution_count": 37,
     "metadata": {},
     "output_type": "execute_result"
    }
   ],
   "source": [
    "sentence_counts = df3['Example'].value_counts()\n",
    "sentence_counts"
   ]
  },
  {
   "cell_type": "code",
   "execution_count": 38,
   "metadata": {},
   "outputs": [
    {
     "data": {
      "text/html": [
       "<div>\n",
       "<style scoped>\n",
       "    .dataframe tbody tr th:only-of-type {\n",
       "        vertical-align: middle;\n",
       "    }\n",
       "\n",
       "    .dataframe tbody tr th {\n",
       "        vertical-align: top;\n",
       "    }\n",
       "\n",
       "    .dataframe thead th {\n",
       "        text-align: right;\n",
       "    }\n",
       "</style>\n",
       "<table border=\"1\" class=\"dataframe\">\n",
       "  <thead>\n",
       "    <tr style=\"text-align: right;\">\n",
       "      <th></th>\n",
       "      <th>Idiom</th>\n",
       "      <th>Meaning</th>\n",
       "      <th>Example</th>\n",
       "    </tr>\n",
       "  </thead>\n",
       "  <tbody>\n",
       "  </tbody>\n",
       "</table>\n",
       "</div>"
      ],
      "text/plain": [
       "Empty DataFrame\n",
       "Columns: [Idiom, Meaning, Example]\n",
       "Index: []"
      ]
     },
     "execution_count": 38,
     "metadata": {},
     "output_type": "execute_result"
    }
   ],
   "source": [
    "idioms_with_meaning_example = df3[df3['Idiom'].str.contains('Meaning|Example')]\n",
    "idioms_with_meaning_example"
   ]
  },
  {
   "cell_type": "code",
   "execution_count": 39,
   "metadata": {},
   "outputs": [
    {
     "data": {
      "text/plain": [
       "Idiom      0\n",
       "Meaning    0\n",
       "Example    0\n",
       "dtype: int64"
      ]
     },
     "execution_count": 39,
     "metadata": {},
     "output_type": "execute_result"
    }
   ],
   "source": [
    "df3.isna().sum()"
   ]
  },
  {
   "cell_type": "code",
   "execution_count": 40,
   "metadata": {},
   "outputs": [
    {
     "data": {
      "text/plain": [
       "Idiom      0\n",
       "Meaning    0\n",
       "Example    0\n",
       "dtype: int64"
      ]
     },
     "execution_count": 40,
     "metadata": {},
     "output_type": "execute_result"
    }
   ],
   "source": [
    "df3.isnull().sum()"
   ]
  },
  {
   "cell_type": "code",
   "execution_count": 41,
   "metadata": {},
   "outputs": [],
   "source": [
    "df3.to_csv('English_idioms_3.csv', index=False)"
   ]
  },
  {
   "cell_type": "code",
   "execution_count": 42,
   "metadata": {},
   "outputs": [],
   "source": [
    "df4 = pd.read_csv('English_idioms_4.csv')"
   ]
  },
  {
   "cell_type": "code",
   "execution_count": 43,
   "metadata": {},
   "outputs": [
    {
     "name": "stdout",
     "output_type": "stream",
     "text": [
      "<class 'pandas.core.frame.DataFrame'>\n",
      "RangeIndex: 29 entries, 0 to 28\n",
      "Data columns (total 3 columns):\n",
      " #   Column            Non-Null Count  Dtype \n",
      "---  ------            --------------  ----- \n",
      " 0   Idiom             29 non-null     object\n",
      " 1   Meaning           29 non-null     object\n",
      " 2   Sentence Example  29 non-null     object\n",
      "dtypes: object(3)\n",
      "memory usage: 828.0+ bytes\n"
     ]
    }
   ],
   "source": [
    "df4.info()"
   ]
  },
  {
   "cell_type": "code",
   "execution_count": 44,
   "metadata": {},
   "outputs": [
    {
     "data": {
      "text/html": [
       "<div>\n",
       "<style scoped>\n",
       "    .dataframe tbody tr th:only-of-type {\n",
       "        vertical-align: middle;\n",
       "    }\n",
       "\n",
       "    .dataframe tbody tr th {\n",
       "        vertical-align: top;\n",
       "    }\n",
       "\n",
       "    .dataframe thead th {\n",
       "        text-align: right;\n",
       "    }\n",
       "</style>\n",
       "<table border=\"1\" class=\"dataframe\">\n",
       "  <thead>\n",
       "    <tr style=\"text-align: right;\">\n",
       "      <th></th>\n",
       "      <th>Idiom</th>\n",
       "      <th>Meaning</th>\n",
       "      <th>Example</th>\n",
       "    </tr>\n",
       "  </thead>\n",
       "  <tbody>\n",
       "    <tr>\n",
       "      <th>0</th>\n",
       "      <td>Shoot from the hip</td>\n",
       "      <td>To speak bluntly or rashly without thinking ca...</td>\n",
       "      <td>Don’t feel bad about what he said. He has a ha...</td>\n",
       "    </tr>\n",
       "    <tr>\n",
       "      <th>1</th>\n",
       "      <td>Shoot oneself in the foot</td>\n",
       "      <td>To harm one’s own cause inadvertently</td>\n",
       "      <td>Foolishly harm one’s own cause, as in He reall...</td>\n",
       "    </tr>\n",
       "    <tr>\n",
       "      <th>2</th>\n",
       "      <td>In cold blood</td>\n",
       "      <td>If you do something violent and cruel in cold ...</td>\n",
       "      <td>In a purposely ruthless and unfeeling manner, ...</td>\n",
       "    </tr>\n",
       "    <tr>\n",
       "      <th>3</th>\n",
       "      <td>Draw first blood</td>\n",
       "      <td>If you draw first blood, you cause the first d...</td>\n",
       "      <td>To be the first to gain an advantage or score ...</td>\n",
       "    </tr>\n",
       "    <tr>\n",
       "      <th>4</th>\n",
       "      <td>Ace up one’s sleeve</td>\n",
       "      <td>A secret or hidden advantage that you can use ...</td>\n",
       "      <td>Cheating at a card game by hiding a favourable...</td>\n",
       "    </tr>\n",
       "  </tbody>\n",
       "</table>\n",
       "</div>"
      ],
      "text/plain": [
       "                       Idiom  \\\n",
       "0         Shoot from the hip   \n",
       "1  Shoot oneself in the foot   \n",
       "2              In cold blood   \n",
       "3           Draw first blood   \n",
       "4        Ace up one’s sleeve   \n",
       "\n",
       "                                             Meaning  \\\n",
       "0  To speak bluntly or rashly without thinking ca...   \n",
       "1              To harm one’s own cause inadvertently   \n",
       "2  If you do something violent and cruel in cold ...   \n",
       "3  If you draw first blood, you cause the first d...   \n",
       "4  A secret or hidden advantage that you can use ...   \n",
       "\n",
       "                                             Example  \n",
       "0  Don’t feel bad about what he said. He has a ha...  \n",
       "1  Foolishly harm one’s own cause, as in He reall...  \n",
       "2  In a purposely ruthless and unfeeling manner, ...  \n",
       "3  To be the first to gain an advantage or score ...  \n",
       "4  Cheating at a card game by hiding a favourable...  "
      ]
     },
     "execution_count": 44,
     "metadata": {},
     "output_type": "execute_result"
    }
   ],
   "source": [
    "df4.rename(columns = {'Sentence Example':'Example'}, inplace = True) \n",
    "df4.head()"
   ]
  },
  {
   "cell_type": "code",
   "execution_count": 45,
   "metadata": {},
   "outputs": [
    {
     "data": {
      "text/html": [
       "<div>\n",
       "<style scoped>\n",
       "    .dataframe tbody tr th:only-of-type {\n",
       "        vertical-align: middle;\n",
       "    }\n",
       "\n",
       "    .dataframe tbody tr th {\n",
       "        vertical-align: top;\n",
       "    }\n",
       "\n",
       "    .dataframe thead th {\n",
       "        text-align: right;\n",
       "    }\n",
       "</style>\n",
       "<table border=\"1\" class=\"dataframe\">\n",
       "  <thead>\n",
       "    <tr style=\"text-align: right;\">\n",
       "      <th></th>\n",
       "      <th>Idiom</th>\n",
       "      <th>Meaning</th>\n",
       "      <th>Example</th>\n",
       "    </tr>\n",
       "  </thead>\n",
       "  <tbody>\n",
       "    <tr>\n",
       "      <th>0</th>\n",
       "      <td>Shoot from the hip</td>\n",
       "      <td>To speak bluntly or rashly without thinking ca...</td>\n",
       "      <td>Don’t feel bad about what he said. He has a ha...</td>\n",
       "    </tr>\n",
       "    <tr>\n",
       "      <th>1</th>\n",
       "      <td>Shoot oneself in the foot</td>\n",
       "      <td>To harm one’s own cause inadvertently</td>\n",
       "      <td>Foolishly harm one’s own cause, as in He reall...</td>\n",
       "    </tr>\n",
       "    <tr>\n",
       "      <th>2</th>\n",
       "      <td>In cold blood</td>\n",
       "      <td>If you do something violent and cruel in cold ...</td>\n",
       "      <td>In a purposely ruthless and unfeeling manner, ...</td>\n",
       "    </tr>\n",
       "    <tr>\n",
       "      <th>3</th>\n",
       "      <td>Draw first blood</td>\n",
       "      <td>If you draw first blood, you cause the first d...</td>\n",
       "      <td>To be the first to gain an advantage or score ...</td>\n",
       "    </tr>\n",
       "    <tr>\n",
       "      <th>4</th>\n",
       "      <td>Ace up one’s sleeve</td>\n",
       "      <td>A secret or hidden advantage that you can use ...</td>\n",
       "      <td>Cheating at a card game by hiding a favourable...</td>\n",
       "    </tr>\n",
       "  </tbody>\n",
       "</table>\n",
       "</div>"
      ],
      "text/plain": [
       "                       Idiom  \\\n",
       "0         Shoot from the hip   \n",
       "1  Shoot oneself in the foot   \n",
       "2              In cold blood   \n",
       "3           Draw first blood   \n",
       "4        Ace up one’s sleeve   \n",
       "\n",
       "                                             Meaning  \\\n",
       "0  To speak bluntly or rashly without thinking ca...   \n",
       "1              To harm one’s own cause inadvertently   \n",
       "2  If you do something violent and cruel in cold ...   \n",
       "3  If you draw first blood, you cause the first d...   \n",
       "4  A secret or hidden advantage that you can use ...   \n",
       "\n",
       "                                             Example  \n",
       "0  Don’t feel bad about what he said. He has a ha...  \n",
       "1  Foolishly harm one’s own cause, as in He reall...  \n",
       "2  In a purposely ruthless and unfeeling manner, ...  \n",
       "3  To be the first to gain an advantage or score ...  \n",
       "4  Cheating at a card game by hiding a favourable...  "
      ]
     },
     "execution_count": 45,
     "metadata": {},
     "output_type": "execute_result"
    }
   ],
   "source": [
    "for column in df4.columns:\n",
    "    if df4[column].dtype == 'object':  # Check if column is of type object (text)\n",
    "        df4[column] = df4[column].str.strip()\n",
    "df4.head()"
   ]
  },
  {
   "cell_type": "code",
   "execution_count": 46,
   "metadata": {},
   "outputs": [
    {
     "data": {
      "text/plain": [
       "Idiom\n",
       "Shoot from the hip               1\n",
       "Have your heart in your mouth    1\n",
       "Bounce something off someone     1\n",
       "Make one’s blood boil            1\n",
       "Over my dead body                1\n",
       "Name: count, dtype: int64"
      ]
     },
     "execution_count": 46,
     "metadata": {},
     "output_type": "execute_result"
    }
   ],
   "source": [
    "Phrase_counts = df4['Idiom'].value_counts()\n",
    "Phrase_counts.head()"
   ]
  },
  {
   "cell_type": "code",
   "execution_count": 47,
   "metadata": {},
   "outputs": [
    {
     "data": {
      "text/plain": [
       "Meaning\n",
       "To speak bluntly or rashly without thinking carefully                                                                        1\n",
       "If you’ve your heart in your mouth, you’re feeling extremely nervous.                                                        1\n",
       "If you bounce something off someone, you discuss ideas or plan with someone to get their view on it.                         1\n",
       "To make someone extremely angry                                                                                              1\n",
       "If you say something will happen to your dead body, you mean you dislike it and will do everything you can to prevent it.    1\n",
       "Name: count, dtype: int64"
      ]
     },
     "execution_count": 47,
     "metadata": {},
     "output_type": "execute_result"
    }
   ],
   "source": [
    "Meaning_counts = df4['Meaning'].value_counts()\n",
    "Meaning_counts.head()"
   ]
  },
  {
   "cell_type": "code",
   "execution_count": 48,
   "metadata": {},
   "outputs": [
    {
     "data": {
      "text/plain": [
       "Example\n",
       "Don’t feel bad about what he said. He has a habit of shooting from the hip, but he means no harm                                          1\n",
       "You sure don’t seem relaxed—in fact, it seems like your heart is in your mouth.                                                           1\n",
       "I caught the rubber ball when it bounced off the wall. The light bouncing off of that mirror is blinding me—can we close the curtains?    1\n",
       "When I hear stories of cruelty to animals, it makes my blood boil.                                                                        1\n",
       "I told John that he could shave his head, over my dead body.                                                                              1\n",
       "Name: count, dtype: int64"
      ]
     },
     "execution_count": 48,
     "metadata": {},
     "output_type": "execute_result"
    }
   ],
   "source": [
    "sentence_counts = df4['Example'].value_counts()\n",
    "sentence_counts.head()"
   ]
  },
  {
   "cell_type": "code",
   "execution_count": 49,
   "metadata": {},
   "outputs": [
    {
     "data": {
      "text/plain": [
       "Idiom      0\n",
       "Meaning    0\n",
       "Example    0\n",
       "dtype: int64"
      ]
     },
     "execution_count": 49,
     "metadata": {},
     "output_type": "execute_result"
    }
   ],
   "source": [
    "df4.isna().sum()"
   ]
  },
  {
   "cell_type": "code",
   "execution_count": 50,
   "metadata": {},
   "outputs": [
    {
     "data": {
      "text/plain": [
       "Idiom      0\n",
       "Meaning    0\n",
       "Example    0\n",
       "dtype: int64"
      ]
     },
     "execution_count": 50,
     "metadata": {},
     "output_type": "execute_result"
    }
   ],
   "source": [
    "df4.isnull().sum()"
   ]
  },
  {
   "cell_type": "code",
   "execution_count": 51,
   "metadata": {},
   "outputs": [],
   "source": [
    "df4.to_csv('English_idioms_4.csv', index=False)"
   ]
  },
  {
   "cell_type": "code",
   "execution_count": 52,
   "metadata": {},
   "outputs": [
    {
     "data": {
      "text/html": [
       "<div>\n",
       "<style scoped>\n",
       "    .dataframe tbody tr th:only-of-type {\n",
       "        vertical-align: middle;\n",
       "    }\n",
       "\n",
       "    .dataframe tbody tr th {\n",
       "        vertical-align: top;\n",
       "    }\n",
       "\n",
       "    .dataframe thead th {\n",
       "        text-align: right;\n",
       "    }\n",
       "</style>\n",
       "<table border=\"1\" class=\"dataframe\">\n",
       "  <thead>\n",
       "    <tr style=\"text-align: right;\">\n",
       "      <th></th>\n",
       "      <th>Idiom</th>\n",
       "      <th>Meaning</th>\n",
       "      <th>Example</th>\n",
       "    </tr>\n",
       "  </thead>\n",
       "  <tbody>\n",
       "  </tbody>\n",
       "</table>\n",
       "</div>"
      ],
      "text/plain": [
       "Empty DataFrame\n",
       "Columns: [Idiom, Meaning, Example]\n",
       "Index: []"
      ]
     },
     "execution_count": 52,
     "metadata": {},
     "output_type": "execute_result"
    }
   ],
   "source": [
    "idioms_with_meaning_example = df4[df4['Idiom'].str.contains('Meaning|Example')]\n",
    "idioms_with_meaning_example"
   ]
  },
  {
   "cell_type": "code",
   "execution_count": 53,
   "metadata": {},
   "outputs": [],
   "source": [
    "df5 = pd.read_csv('English_idioms_5.csv')"
   ]
  },
  {
   "cell_type": "code",
   "execution_count": 54,
   "metadata": {},
   "outputs": [
    {
     "name": "stdout",
     "output_type": "stream",
     "text": [
      "<class 'pandas.core.frame.DataFrame'>\n",
      "RangeIndex: 120 entries, 0 to 119\n",
      "Data columns (total 2 columns):\n",
      " #   Column       Non-Null Count  Dtype \n",
      "---  ------       --------------  ----- \n",
      " 0   Strong Text  120 non-null    object\n",
      " 1   Other Text   120 non-null    object\n",
      "dtypes: object(2)\n",
      "memory usage: 2.0+ KB\n"
     ]
    }
   ],
   "source": [
    "df5.info()"
   ]
  },
  {
   "cell_type": "code",
   "execution_count": 55,
   "metadata": {},
   "outputs": [
    {
     "data": {
      "text/html": [
       "<div>\n",
       "<style scoped>\n",
       "    .dataframe tbody tr th:only-of-type {\n",
       "        vertical-align: middle;\n",
       "    }\n",
       "\n",
       "    .dataframe tbody tr th {\n",
       "        vertical-align: top;\n",
       "    }\n",
       "\n",
       "    .dataframe thead th {\n",
       "        text-align: right;\n",
       "    }\n",
       "</style>\n",
       "<table border=\"1\" class=\"dataframe\">\n",
       "  <thead>\n",
       "    <tr style=\"text-align: right;\">\n",
       "      <th></th>\n",
       "      <th>Strong Text</th>\n",
       "      <th>Other Text</th>\n",
       "    </tr>\n",
       "  </thead>\n",
       "  <tbody>\n",
       "    <tr>\n",
       "      <th>0</th>\n",
       "      <td>Ace</td>\n",
       "      <td>– is used to describe something that is awesom...</td>\n",
       "    </tr>\n",
       "    <tr>\n",
       "      <th>1</th>\n",
       "      <td>Any road</td>\n",
       "      <td>– when you hear this, the person isn’t asking ...</td>\n",
       "    </tr>\n",
       "    <tr>\n",
       "      <th>2</th>\n",
       "      <td>A load of tosh</td>\n",
       "      <td>– is used to describe something that is not ve...</td>\n",
       "    </tr>\n",
       "    <tr>\n",
       "      <th>3</th>\n",
       "      <td>A Kent face</td>\n",
       "      <td>– commonly used in Scotland when a person has ...</td>\n",
       "    </tr>\n",
       "    <tr>\n",
       "      <th>4</th>\n",
       "      <td>Adam and Eve</td>\n",
       "      <td>– Cockney rhyming slang for believe. “Can you ...</td>\n",
       "    </tr>\n",
       "  </tbody>\n",
       "</table>\n",
       "</div>"
      ],
      "text/plain": [
       "      Strong Text                                         Other Text\n",
       "0             Ace  – is used to describe something that is awesom...\n",
       "1        Any road  – when you hear this, the person isn’t asking ...\n",
       "2  A load of tosh  – is used to describe something that is not ve...\n",
       "3     A Kent face  – commonly used in Scotland when a person has ...\n",
       "4    Adam and Eve  – Cockney rhyming slang for believe. “Can you ..."
      ]
     },
     "execution_count": 55,
     "metadata": {},
     "output_type": "execute_result"
    }
   ],
   "source": [
    "df5.head()"
   ]
  },
  {
   "cell_type": "code",
   "execution_count": 56,
   "metadata": {},
   "outputs": [
    {
     "data": {
      "text/html": [
       "<div>\n",
       "<style scoped>\n",
       "    .dataframe tbody tr th:only-of-type {\n",
       "        vertical-align: middle;\n",
       "    }\n",
       "\n",
       "    .dataframe tbody tr th {\n",
       "        vertical-align: top;\n",
       "    }\n",
       "\n",
       "    .dataframe thead th {\n",
       "        text-align: right;\n",
       "    }\n",
       "</style>\n",
       "<table border=\"1\" class=\"dataframe\">\n",
       "  <thead>\n",
       "    <tr style=\"text-align: right;\">\n",
       "      <th></th>\n",
       "      <th>Idiom</th>\n",
       "      <th>Meaning</th>\n",
       "    </tr>\n",
       "  </thead>\n",
       "  <tbody>\n",
       "    <tr>\n",
       "      <th>0</th>\n",
       "      <td>Ace</td>\n",
       "      <td>– is used to describe something that is awesom...</td>\n",
       "    </tr>\n",
       "    <tr>\n",
       "      <th>1</th>\n",
       "      <td>Any road</td>\n",
       "      <td>– when you hear this, the person isn’t asking ...</td>\n",
       "    </tr>\n",
       "    <tr>\n",
       "      <th>2</th>\n",
       "      <td>A load of tosh</td>\n",
       "      <td>– is used to describe something that is not ve...</td>\n",
       "    </tr>\n",
       "    <tr>\n",
       "      <th>3</th>\n",
       "      <td>A Kent face</td>\n",
       "      <td>– commonly used in Scotland when a person has ...</td>\n",
       "    </tr>\n",
       "    <tr>\n",
       "      <th>4</th>\n",
       "      <td>Adam and Eve</td>\n",
       "      <td>– Cockney rhyming slang for believe. “Can you ...</td>\n",
       "    </tr>\n",
       "    <tr>\n",
       "      <th>...</th>\n",
       "      <td>...</td>\n",
       "      <td>...</td>\n",
       "    </tr>\n",
       "    <tr>\n",
       "      <th>115</th>\n",
       "      <td>Yonks</td>\n",
       "      <td>– when you haven’t seen someone for a long tim...</td>\n",
       "    </tr>\n",
       "    <tr>\n",
       "      <th>116</th>\n",
       "      <td>Yank my chain</td>\n",
       "      <td>– if you tease someone about something they ar...</td>\n",
       "    </tr>\n",
       "    <tr>\n",
       "      <th>117</th>\n",
       "      <td>Zonked</td>\n",
       "      <td>– is used when someone is sleeping or by someo...</td>\n",
       "    </tr>\n",
       "    <tr>\n",
       "      <th>118</th>\n",
       "      <td>Zebra crossing</td>\n",
       "      <td>– is often used to describe the black and whit...</td>\n",
       "    </tr>\n",
       "    <tr>\n",
       "      <th>119</th>\n",
       "      <td>Catch a few Zzzzzzzzzz</td>\n",
       "      <td>– is used when you want to go to sleep.</td>\n",
       "    </tr>\n",
       "  </tbody>\n",
       "</table>\n",
       "<p>120 rows × 2 columns</p>\n",
       "</div>"
      ],
      "text/plain": [
       "                      Idiom                                            Meaning\n",
       "0                       Ace  – is used to describe something that is awesom...\n",
       "1                  Any road  – when you hear this, the person isn’t asking ...\n",
       "2            A load of tosh  – is used to describe something that is not ve...\n",
       "3               A Kent face  – commonly used in Scotland when a person has ...\n",
       "4              Adam and Eve  – Cockney rhyming slang for believe. “Can you ...\n",
       "..                      ...                                                ...\n",
       "115                   Yonks  – when you haven’t seen someone for a long tim...\n",
       "116           Yank my chain  – if you tease someone about something they ar...\n",
       "117                  Zonked  – is used when someone is sleeping or by someo...\n",
       "118          Zebra crossing  – is often used to describe the black and whit...\n",
       "119  Catch a few Zzzzzzzzzz            – is used when you want to go to sleep.\n",
       "\n",
       "[120 rows x 2 columns]"
      ]
     },
     "execution_count": 56,
     "metadata": {},
     "output_type": "execute_result"
    }
   ],
   "source": [
    "df5.rename(columns = {'Strong Text':'Idiom','Other Text':'Meaning'}, inplace = True) \n",
    "df5"
   ]
  },
  {
   "cell_type": "code",
   "execution_count": 57,
   "metadata": {},
   "outputs": [
    {
     "data": {
      "text/plain": [
       "Idiom\n",
       "Ace                       1\n",
       "Any road                  1\n",
       "Taking the piss           1\n",
       "Shagged                   1\n",
       "Stitched up               1\n",
       "                         ..\n",
       "Hunky-dory                1\n",
       "Horses for courses        1\n",
       "Hammered                  1\n",
       "Gobby                     1\n",
       "Catch a few Zzzzzzzzzz    1\n",
       "Name: count, Length: 120, dtype: int64"
      ]
     },
     "execution_count": 57,
     "metadata": {},
     "output_type": "execute_result"
    }
   ],
   "source": [
    "Phrase_counts = df5['Idiom'].value_counts()\n",
    "Phrase_counts"
   ]
  },
  {
   "cell_type": "code",
   "execution_count": 58,
   "metadata": {},
   "outputs": [
    {
     "data": {
      "text/plain": [
       "Meaning\n",
       "– is used to describe something that is awesome. A word that is popular in the north and amongst youngsters.                                                                            1\n",
       "– when you hear this, the person isn’t asking you to pick a road! They are most likely substituting it for “anyway” and the context could be “any road are you from China or Japan.”    1\n",
       "– If you hear this being used it means one person is shocked at what another person is doing or saying.                                                                                 1\n",
       "– This can mean a number of things some ruder than others. But the most common use is when someone is expressing how tired they are.                                                    1\n",
       "– is when someone has taken advantage of you. For example, when a classmate nominates you to lead a presentation you can certainly claim to “have been stitched up.”                    1\n",
       "                                                                                                                                                                                       ..\n",
       "– is just a cool way of saying that something is just fine!                                                                                                                             1\n",
       "– this is a popular saying that means that we all have different tastes and what is right for one person isn’t necessarily right for another person.                                    1\n",
       "– is the slang word used to describe someone who is very drunk. You can say someone is tipsy if they appear to be a bit drunk.                                                          1\n",
       "– is used to describe someone who talks a lot and has a lot of opinions, and not necessarily in a good way.                                                                             1\n",
       "– is used when you want to go to sleep.                                                                                                                                                 1\n",
       "Name: count, Length: 120, dtype: int64"
      ]
     },
     "execution_count": 58,
     "metadata": {},
     "output_type": "execute_result"
    }
   ],
   "source": [
    "Meaning_counts = df5['Meaning'].value_counts()\n",
    "Meaning_counts"
   ]
  },
  {
   "cell_type": "code",
   "execution_count": 59,
   "metadata": {},
   "outputs": [
    {
     "data": {
      "text/html": [
       "<div>\n",
       "<style scoped>\n",
       "    .dataframe tbody tr th:only-of-type {\n",
       "        vertical-align: middle;\n",
       "    }\n",
       "\n",
       "    .dataframe tbody tr th {\n",
       "        vertical-align: top;\n",
       "    }\n",
       "\n",
       "    .dataframe thead th {\n",
       "        text-align: right;\n",
       "    }\n",
       "</style>\n",
       "<table border=\"1\" class=\"dataframe\">\n",
       "  <thead>\n",
       "    <tr style=\"text-align: right;\">\n",
       "      <th></th>\n",
       "      <th>Idiom</th>\n",
       "      <th>Meaning</th>\n",
       "    </tr>\n",
       "  </thead>\n",
       "  <tbody>\n",
       "    <tr>\n",
       "      <th>0</th>\n",
       "      <td>Ace</td>\n",
       "      <td>is used to describe something that is awesome...</td>\n",
       "    </tr>\n",
       "    <tr>\n",
       "      <th>1</th>\n",
       "      <td>Any road</td>\n",
       "      <td>when you hear this, the person isn’t asking y...</td>\n",
       "    </tr>\n",
       "    <tr>\n",
       "      <th>2</th>\n",
       "      <td>A load of tosh</td>\n",
       "      <td>is used to describe something that is not ver...</td>\n",
       "    </tr>\n",
       "    <tr>\n",
       "      <th>3</th>\n",
       "      <td>A Kent face</td>\n",
       "      <td>commonly used in Scotland when a person has s...</td>\n",
       "    </tr>\n",
       "    <tr>\n",
       "      <th>4</th>\n",
       "      <td>Adam and Eve</td>\n",
       "      <td>Cockney rhyming slang for believe. “Can you A...</td>\n",
       "    </tr>\n",
       "    <tr>\n",
       "      <th>...</th>\n",
       "      <td>...</td>\n",
       "      <td>...</td>\n",
       "    </tr>\n",
       "    <tr>\n",
       "      <th>115</th>\n",
       "      <td>Yonks</td>\n",
       "      <td>when you haven’t seen someone for a long time...</td>\n",
       "    </tr>\n",
       "    <tr>\n",
       "      <th>116</th>\n",
       "      <td>Yank my chain</td>\n",
       "      <td>if you tease someone about something they are...</td>\n",
       "    </tr>\n",
       "    <tr>\n",
       "      <th>117</th>\n",
       "      <td>Zonked</td>\n",
       "      <td>is used when someone is sleeping or by someon...</td>\n",
       "    </tr>\n",
       "    <tr>\n",
       "      <th>118</th>\n",
       "      <td>Zebra crossing</td>\n",
       "      <td>is often used to describe the black and white...</td>\n",
       "    </tr>\n",
       "    <tr>\n",
       "      <th>119</th>\n",
       "      <td>Catch a few Zzzzzzzzzz</td>\n",
       "      <td>is used when you want to go to sleep.</td>\n",
       "    </tr>\n",
       "  </tbody>\n",
       "</table>\n",
       "<p>120 rows × 2 columns</p>\n",
       "</div>"
      ],
      "text/plain": [
       "                      Idiom                                            Meaning\n",
       "0                       Ace   is used to describe something that is awesome...\n",
       "1                  Any road   when you hear this, the person isn’t asking y...\n",
       "2            A load of tosh   is used to describe something that is not ver...\n",
       "3               A Kent face   commonly used in Scotland when a person has s...\n",
       "4              Adam and Eve   Cockney rhyming slang for believe. “Can you A...\n",
       "..                      ...                                                ...\n",
       "115                   Yonks   when you haven’t seen someone for a long time...\n",
       "116           Yank my chain   if you tease someone about something they are...\n",
       "117                  Zonked   is used when someone is sleeping or by someon...\n",
       "118          Zebra crossing   is often used to describe the black and white...\n",
       "119  Catch a few Zzzzzzzzzz              is used when you want to go to sleep.\n",
       "\n",
       "[120 rows x 2 columns]"
      ]
     },
     "execution_count": 59,
     "metadata": {},
     "output_type": "execute_result"
    }
   ],
   "source": [
    "df5['Meaning'] = df5['Meaning'].str.replace('–', '', n=1, regex=True)\n",
    "df5"
   ]
  },
  {
   "cell_type": "code",
   "execution_count": 60,
   "metadata": {},
   "outputs": [
    {
     "data": {
      "text/plain": [
       "Idiom      0\n",
       "Meaning    0\n",
       "dtype: int64"
      ]
     },
     "execution_count": 60,
     "metadata": {},
     "output_type": "execute_result"
    }
   ],
   "source": [
    "df5.isna().sum()"
   ]
  },
  {
   "cell_type": "code",
   "execution_count": 61,
   "metadata": {},
   "outputs": [
    {
     "data": {
      "text/plain": [
       "Idiom      0\n",
       "Meaning    0\n",
       "dtype: int64"
      ]
     },
     "execution_count": 61,
     "metadata": {},
     "output_type": "execute_result"
    }
   ],
   "source": [
    "df5.isnull().sum()"
   ]
  },
  {
   "cell_type": "code",
   "execution_count": 62,
   "metadata": {},
   "outputs": [],
   "source": [
    "df5.to_csv('English_idioms_5.csv', index=False)"
   ]
  },
  {
   "cell_type": "code",
   "execution_count": 63,
   "metadata": {},
   "outputs": [],
   "source": [
    "df6 = pd.read_csv('English_idioms_6.csv')"
   ]
  },
  {
   "cell_type": "code",
   "execution_count": 64,
   "metadata": {},
   "outputs": [
    {
     "name": "stdout",
     "output_type": "stream",
     "text": [
      "<class 'pandas.core.frame.DataFrame'>\n",
      "RangeIndex: 2598 entries, 0 to 2597\n",
      "Data columns (total 7 columns):\n",
      " #   Column       Non-Null Count  Dtype \n",
      "---  ------       --------------  ----- \n",
      " 0   Strong Text  2598 non-null   object\n",
      " 1   Column 1     2598 non-null   object\n",
      " 2   Column 2     2532 non-null   object\n",
      " 3   Column 3     443 non-null    object\n",
      " 4   Column 4     1 non-null      object\n",
      " 5   Column 5     1 non-null      object\n",
      " 6   Column 6     1 non-null      object\n",
      "dtypes: object(7)\n",
      "memory usage: 142.2+ KB\n"
     ]
    }
   ],
   "source": [
    "df6.info()"
   ]
  },
  {
   "cell_type": "code",
   "execution_count": 65,
   "metadata": {},
   "outputs": [
    {
     "data": {
      "text/html": [
       "<div>\n",
       "<style scoped>\n",
       "    .dataframe tbody tr th:only-of-type {\n",
       "        vertical-align: middle;\n",
       "    }\n",
       "\n",
       "    .dataframe tbody tr th {\n",
       "        vertical-align: top;\n",
       "    }\n",
       "\n",
       "    .dataframe thead th {\n",
       "        text-align: right;\n",
       "    }\n",
       "</style>\n",
       "<table border=\"1\" class=\"dataframe\">\n",
       "  <thead>\n",
       "    <tr style=\"text-align: right;\">\n",
       "      <th></th>\n",
       "      <th>Strong Text</th>\n",
       "      <th>Column 1</th>\n",
       "      <th>Column 2</th>\n",
       "      <th>Column 3</th>\n",
       "      <th>Column 4</th>\n",
       "      <th>Column 5</th>\n",
       "      <th>Column 6</th>\n",
       "    </tr>\n",
       "  </thead>\n",
       "  <tbody>\n",
       "    <tr>\n",
       "      <th>0</th>\n",
       "      <td>abs</td>\n",
       "      <td>n.</td>\n",
       "      <td>abdominal  muscles.</td>\n",
       "      <td>Nice abs. You been working out?</td>\n",
       "      <td>NaN</td>\n",
       "      <td>NaN</td>\n",
       "      <td>NaN</td>\n",
       "    </tr>\n",
       "    <tr>\n",
       "      <th>1</th>\n",
       "      <td>ace</td>\n",
       "      <td>n.</td>\n",
       "      <td>best;  top-notch; most competent person</td>\n",
       "      <td>NaN</td>\n",
       "      <td>NaN</td>\n",
       "      <td>NaN</td>\n",
       "      <td>NaN</td>\n",
       "    </tr>\n",
       "    <tr>\n",
       "      <th>2</th>\n",
       "      <td>ace</td>\n",
       "      <td>v.</td>\n",
       "      <td>do extremely  well on a test or exam.</td>\n",
       "      <td>I aced that exam.</td>\n",
       "      <td>NaN</td>\n",
       "      <td>NaN</td>\n",
       "      <td>NaN</td>\n",
       "    </tr>\n",
       "    <tr>\n",
       "      <th>3</th>\n",
       "      <td>acid</td>\n",
       "      <td>n.</td>\n",
       "      <td>lysergic acid  diethylamide.</td>\n",
       "      <td>Have you ever dropped acid?</td>\n",
       "      <td>NaN</td>\n",
       "      <td>NaN</td>\n",
       "      <td>NaN</td>\n",
       "    </tr>\n",
       "    <tr>\n",
       "      <th>4</th>\n",
       "      <td>acid head</td>\n",
       "      <td>n.</td>\n",
       "      <td>user of LSD.</td>\n",
       "      <td>He was an acid head in college but hasn't used...</td>\n",
       "      <td>NaN</td>\n",
       "      <td>NaN</td>\n",
       "      <td>NaN</td>\n",
       "    </tr>\n",
       "  </tbody>\n",
       "</table>\n",
       "</div>"
      ],
      "text/plain": [
       "  Strong Text Column 1                                 Column 2  \\\n",
       "0         abs       n.                      abdominal  muscles.   \n",
       "1         ace       n.  best;  top-notch; most competent person   \n",
       "2         ace       v.    do extremely  well on a test or exam.   \n",
       "3        acid       n.             lysergic acid  diethylamide.   \n",
       "4   acid head       n.                             user of LSD.   \n",
       "\n",
       "                                            Column 3 Column 4 Column 5  \\\n",
       "0                    Nice abs. You been working out?      NaN      NaN   \n",
       "1                                                NaN      NaN      NaN   \n",
       "2                                  I aced that exam.      NaN      NaN   \n",
       "3                        Have you ever dropped acid?      NaN      NaN   \n",
       "4  He was an acid head in college but hasn't used...      NaN      NaN   \n",
       "\n",
       "  Column 6  \n",
       "0      NaN  \n",
       "1      NaN  \n",
       "2      NaN  \n",
       "3      NaN  \n",
       "4      NaN  "
      ]
     },
     "execution_count": 65,
     "metadata": {},
     "output_type": "execute_result"
    }
   ],
   "source": [
    "df6.head()"
   ]
  },
  {
   "cell_type": "code",
   "execution_count": 66,
   "metadata": {},
   "outputs": [
    {
     "data": {
      "text/html": [
       "<div>\n",
       "<style scoped>\n",
       "    .dataframe tbody tr th:only-of-type {\n",
       "        vertical-align: middle;\n",
       "    }\n",
       "\n",
       "    .dataframe tbody tr th {\n",
       "        vertical-align: top;\n",
       "    }\n",
       "\n",
       "    .dataframe thead th {\n",
       "        text-align: right;\n",
       "    }\n",
       "</style>\n",
       "<table border=\"1\" class=\"dataframe\">\n",
       "  <thead>\n",
       "    <tr style=\"text-align: right;\">\n",
       "      <th></th>\n",
       "      <th>Idiom</th>\n",
       "      <th>Part_of_Speech</th>\n",
       "      <th>Meaning</th>\n",
       "      <th>Example</th>\n",
       "      <th>Column 4</th>\n",
       "      <th>Column 5</th>\n",
       "      <th>Column 6</th>\n",
       "    </tr>\n",
       "  </thead>\n",
       "  <tbody>\n",
       "    <tr>\n",
       "      <th>0</th>\n",
       "      <td>abs</td>\n",
       "      <td>n.</td>\n",
       "      <td>abdominal  muscles.</td>\n",
       "      <td>Nice abs. You been working out?</td>\n",
       "      <td>NaN</td>\n",
       "      <td>NaN</td>\n",
       "      <td>NaN</td>\n",
       "    </tr>\n",
       "    <tr>\n",
       "      <th>1</th>\n",
       "      <td>ace</td>\n",
       "      <td>n.</td>\n",
       "      <td>best;  top-notch; most competent person</td>\n",
       "      <td>NaN</td>\n",
       "      <td>NaN</td>\n",
       "      <td>NaN</td>\n",
       "      <td>NaN</td>\n",
       "    </tr>\n",
       "    <tr>\n",
       "      <th>2</th>\n",
       "      <td>ace</td>\n",
       "      <td>v.</td>\n",
       "      <td>do extremely  well on a test or exam.</td>\n",
       "      <td>I aced that exam.</td>\n",
       "      <td>NaN</td>\n",
       "      <td>NaN</td>\n",
       "      <td>NaN</td>\n",
       "    </tr>\n",
       "    <tr>\n",
       "      <th>3</th>\n",
       "      <td>acid</td>\n",
       "      <td>n.</td>\n",
       "      <td>lysergic acid  diethylamide.</td>\n",
       "      <td>Have you ever dropped acid?</td>\n",
       "      <td>NaN</td>\n",
       "      <td>NaN</td>\n",
       "      <td>NaN</td>\n",
       "    </tr>\n",
       "    <tr>\n",
       "      <th>4</th>\n",
       "      <td>acid head</td>\n",
       "      <td>n.</td>\n",
       "      <td>user of LSD.</td>\n",
       "      <td>He was an acid head in college but hasn't used...</td>\n",
       "      <td>NaN</td>\n",
       "      <td>NaN</td>\n",
       "      <td>NaN</td>\n",
       "    </tr>\n",
       "    <tr>\n",
       "      <th>...</th>\n",
       "      <td>...</td>\n",
       "      <td>...</td>\n",
       "      <td>...</td>\n",
       "      <td>...</td>\n",
       "      <td>...</td>\n",
       "      <td>...</td>\n",
       "      <td>...</td>\n",
       "    </tr>\n",
       "    <tr>\n",
       "      <th>2593</th>\n",
       "      <td>zonk out</td>\n",
       "      <td>v.</td>\n",
       "      <td>collapse from  fatigue</td>\n",
       "      <td>NaN</td>\n",
       "      <td>NaN</td>\n",
       "      <td>NaN</td>\n",
       "      <td>NaN</td>\n",
       "    </tr>\n",
       "    <tr>\n",
       "      <th>2594</th>\n",
       "      <td>zonked</td>\n",
       "      <td>adj.</td>\n",
       "      <td>drunk;  intoxicated</td>\n",
       "      <td>NaN</td>\n",
       "      <td>NaN</td>\n",
       "      <td>NaN</td>\n",
       "      <td>NaN</td>\n",
       "    </tr>\n",
       "    <tr>\n",
       "      <th>2595</th>\n",
       "      <td>zonked</td>\n",
       "      <td>adj.</td>\n",
       "      <td>fatigued;  tired; exhausted.</td>\n",
       "      <td>I'm totally zonked from studying.</td>\n",
       "      <td>NaN</td>\n",
       "      <td>NaN</td>\n",
       "      <td>NaN</td>\n",
       "    </tr>\n",
       "    <tr>\n",
       "      <th>2596</th>\n",
       "      <td>zonked out</td>\n",
       "      <td>adj.</td>\n",
       "      <td>drunk;  intoxicated</td>\n",
       "      <td>NaN</td>\n",
       "      <td>NaN</td>\n",
       "      <td>NaN</td>\n",
       "      <td>NaN</td>\n",
       "    </tr>\n",
       "    <tr>\n",
       "      <th>2597</th>\n",
       "      <td>zonked out</td>\n",
       "      <td>adj.</td>\n",
       "      <td>fatigued; tired; exhausted.</td>\n",
       "      <td>He's really zonked out from studying so  much.</td>\n",
       "      <td>NaN</td>\n",
       "      <td>NaN</td>\n",
       "      <td>NaN</td>\n",
       "    </tr>\n",
       "  </tbody>\n",
       "</table>\n",
       "<p>2598 rows × 7 columns</p>\n",
       "</div>"
      ],
      "text/plain": [
       "           Idiom Part_of_Speech                                  Meaning  \\\n",
       "0            abs             n.                      abdominal  muscles.   \n",
       "1            ace             n.  best;  top-notch; most competent person   \n",
       "2            ace             v.    do extremely  well on a test or exam.   \n",
       "3           acid             n.             lysergic acid  diethylamide.   \n",
       "4      acid head             n.                             user of LSD.   \n",
       "...          ...            ...                                      ...   \n",
       "2593    zonk out             v.                   collapse from  fatigue   \n",
       "2594      zonked           adj.                      drunk;  intoxicated   \n",
       "2595      zonked           adj.             fatigued;  tired; exhausted.   \n",
       "2596  zonked out           adj.                      drunk;  intoxicated   \n",
       "2597  zonked out           adj.              fatigued; tired; exhausted.   \n",
       "\n",
       "                                                Example Column 4 Column 5  \\\n",
       "0                       Nice abs. You been working out?      NaN      NaN   \n",
       "1                                                   NaN      NaN      NaN   \n",
       "2                                     I aced that exam.      NaN      NaN   \n",
       "3                           Have you ever dropped acid?      NaN      NaN   \n",
       "4     He was an acid head in college but hasn't used...      NaN      NaN   \n",
       "...                                                 ...      ...      ...   \n",
       "2593                                                NaN      NaN      NaN   \n",
       "2594                                                NaN      NaN      NaN   \n",
       "2595                  I'm totally zonked from studying.      NaN      NaN   \n",
       "2596                                                NaN      NaN      NaN   \n",
       "2597     He's really zonked out from studying so  much.      NaN      NaN   \n",
       "\n",
       "     Column 6  \n",
       "0         NaN  \n",
       "1         NaN  \n",
       "2         NaN  \n",
       "3         NaN  \n",
       "4         NaN  \n",
       "...       ...  \n",
       "2593      NaN  \n",
       "2594      NaN  \n",
       "2595      NaN  \n",
       "2596      NaN  \n",
       "2597      NaN  \n",
       "\n",
       "[2598 rows x 7 columns]"
      ]
     },
     "execution_count": 66,
     "metadata": {},
     "output_type": "execute_result"
    }
   ],
   "source": [
    "#rename the first four columns \n",
    "df6.rename(columns = {'Strong Text':'Idiom','Column 1':'Part_of_Speech', 'Column 2':'Meaning', 'Column 3':'Example'}, inplace = True) \n",
    "df6"
   ]
  },
  {
   "cell_type": "code",
   "execution_count": 67,
   "metadata": {},
   "outputs": [
    {
     "data": {
      "text/html": [
       "<div>\n",
       "<style scoped>\n",
       "    .dataframe tbody tr th:only-of-type {\n",
       "        vertical-align: middle;\n",
       "    }\n",
       "\n",
       "    .dataframe tbody tr th {\n",
       "        vertical-align: top;\n",
       "    }\n",
       "\n",
       "    .dataframe thead th {\n",
       "        text-align: right;\n",
       "    }\n",
       "</style>\n",
       "<table border=\"1\" class=\"dataframe\">\n",
       "  <thead>\n",
       "    <tr style=\"text-align: right;\">\n",
       "      <th></th>\n",
       "      <th>Idiom</th>\n",
       "      <th>Part_of_Speech</th>\n",
       "      <th>Meaning</th>\n",
       "      <th>Example</th>\n",
       "      <th>Column 4</th>\n",
       "      <th>Column 5</th>\n",
       "      <th>Column 6</th>\n",
       "    </tr>\n",
       "  </thead>\n",
       "  <tbody>\n",
       "    <tr>\n",
       "      <th>291</th>\n",
       "      <td>buck</td>\n",
       "      <td>n.</td>\n",
       "      <td>one dollar.</td>\n",
       "      <td>That costs two bucks.</td>\n",
       "      <td>v.</td>\n",
       "      <td>go against;  resist; make a difference choice.</td>\n",
       "      <td>Don't buck the trend, you'll look silly.</td>\n",
       "    </tr>\n",
       "  </tbody>\n",
       "</table>\n",
       "</div>"
      ],
      "text/plain": [
       "    Idiom Part_of_Speech      Meaning                Example Column 4  \\\n",
       "291  buck             n.  one dollar.  That costs two bucks.       v.   \n",
       "\n",
       "                                           Column 5  \\\n",
       "291  go against;  resist; make a difference choice.   \n",
       "\n",
       "                                     Column 6  \n",
       "291  Don't buck the trend, you'll look silly.  "
      ]
     },
     "execution_count": 67,
     "metadata": {},
     "output_type": "execute_result"
    }
   ],
   "source": [
    "#viewing the column with one value\n",
    "df6[df6['Column 4'].notna()]"
   ]
  },
  {
   "cell_type": "code",
   "execution_count": 68,
   "metadata": {},
   "outputs": [
    {
     "data": {
      "text/html": [
       "<div>\n",
       "<style scoped>\n",
       "    .dataframe tbody tr th:only-of-type {\n",
       "        vertical-align: middle;\n",
       "    }\n",
       "\n",
       "    .dataframe tbody tr th {\n",
       "        vertical-align: top;\n",
       "    }\n",
       "\n",
       "    .dataframe thead th {\n",
       "        text-align: right;\n",
       "    }\n",
       "</style>\n",
       "<table border=\"1\" class=\"dataframe\">\n",
       "  <thead>\n",
       "    <tr style=\"text-align: right;\">\n",
       "      <th></th>\n",
       "      <th>Idiom</th>\n",
       "      <th>Part_of_Speech</th>\n",
       "      <th>Meaning</th>\n",
       "      <th>Example</th>\n",
       "    </tr>\n",
       "  </thead>\n",
       "  <tbody>\n",
       "    <tr>\n",
       "      <th>0</th>\n",
       "      <td>abs</td>\n",
       "      <td>n.</td>\n",
       "      <td>abdominal  muscles.</td>\n",
       "      <td>Nice abs. You been working out?</td>\n",
       "    </tr>\n",
       "    <tr>\n",
       "      <th>1</th>\n",
       "      <td>ace</td>\n",
       "      <td>n.</td>\n",
       "      <td>best;  top-notch; most competent person</td>\n",
       "      <td>NaN</td>\n",
       "    </tr>\n",
       "    <tr>\n",
       "      <th>2</th>\n",
       "      <td>ace</td>\n",
       "      <td>v.</td>\n",
       "      <td>do extremely  well on a test or exam.</td>\n",
       "      <td>I aced that exam.</td>\n",
       "    </tr>\n",
       "    <tr>\n",
       "      <th>3</th>\n",
       "      <td>acid</td>\n",
       "      <td>n.</td>\n",
       "      <td>lysergic acid  diethylamide.</td>\n",
       "      <td>Have you ever dropped acid?</td>\n",
       "    </tr>\n",
       "    <tr>\n",
       "      <th>4</th>\n",
       "      <td>acid head</td>\n",
       "      <td>n.</td>\n",
       "      <td>user of LSD.</td>\n",
       "      <td>He was an acid head in college but hasn't used...</td>\n",
       "    </tr>\n",
       "  </tbody>\n",
       "</table>\n",
       "</div>"
      ],
      "text/plain": [
       "       Idiom Part_of_Speech                                  Meaning  \\\n",
       "0        abs             n.                      abdominal  muscles.   \n",
       "1        ace             n.  best;  top-notch; most competent person   \n",
       "2        ace             v.    do extremely  well on a test or exam.   \n",
       "3       acid             n.             lysergic acid  diethylamide.   \n",
       "4  acid head             n.                             user of LSD.   \n",
       "\n",
       "                                             Example  \n",
       "0                    Nice abs. You been working out?  \n",
       "1                                                NaN  \n",
       "2                                  I aced that exam.  \n",
       "3                        Have you ever dropped acid?  \n",
       "4  He was an acid head in college but hasn't used...  "
      ]
     },
     "execution_count": 68,
     "metadata": {},
     "output_type": "execute_result"
    }
   ],
   "source": [
    "new_data = {'Idiom': df6[df6['Column 4'].notna()]['Idiom'],\n",
    "    'Part_of_Speech': df6[df6['Column 4'].notna()]['Column 4'],\n",
    "    'Meaning': df6[df6['Column 4'].notna()]['Column 5'],\n",
    "    'Example': df6[df6['Column 4'].notna()]['Column 6']\n",
    "}\n",
    "new_row = pd.DataFrame(new_data)\n",
    "\n",
    "# Append the new row to the original DataFrame\n",
    "df6 = pd.concat([df6, new_row], ignore_index=True)\n",
    "\n",
    "# Now, remove the old columns\n",
    "df6 = df6.drop(columns=['Column 4', 'Column 5', 'Column 6'])\n",
    "\n",
    "df6.head()"
   ]
  },
  {
   "cell_type": "code",
   "execution_count": 69,
   "metadata": {},
   "outputs": [
    {
     "data": {
      "text/plain": [
       "(2528, 4)"
      ]
     },
     "execution_count": 69,
     "metadata": {},
     "output_type": "execute_result"
    }
   ],
   "source": [
    "# Drop rows where either 'Meaning' or 'Phrase' is missing\n",
    "df6 = df6.dropna(subset=['Meaning', 'Idiom'], how='any')\n",
    "\n",
    "# Drop rows with the same meanings and phrases\n",
    "df6 = df6.drop_duplicates(subset=['Meaning', 'Idiom'])\n",
    "\n",
    "df6.shape"
   ]
  },
  {
   "cell_type": "code",
   "execution_count": 70,
   "metadata": {},
   "outputs": [
    {
     "data": {
      "text/html": [
       "<div>\n",
       "<style scoped>\n",
       "    .dataframe tbody tr th:only-of-type {\n",
       "        vertical-align: middle;\n",
       "    }\n",
       "\n",
       "    .dataframe tbody tr th {\n",
       "        vertical-align: top;\n",
       "    }\n",
       "\n",
       "    .dataframe thead th {\n",
       "        text-align: right;\n",
       "    }\n",
       "</style>\n",
       "<table border=\"1\" class=\"dataframe\">\n",
       "  <thead>\n",
       "    <tr style=\"text-align: right;\">\n",
       "      <th></th>\n",
       "      <th>Idiom</th>\n",
       "      <th>Part_of_Speech</th>\n",
       "      <th>Meaning</th>\n",
       "      <th>Example</th>\n",
       "    </tr>\n",
       "  </thead>\n",
       "  <tbody>\n",
       "    <tr>\n",
       "      <th>0</th>\n",
       "      <td>abs</td>\n",
       "      <td>n.</td>\n",
       "      <td>abdominal  muscles.</td>\n",
       "      <td>Nice abs. You been working out?</td>\n",
       "    </tr>\n",
       "    <tr>\n",
       "      <th>1</th>\n",
       "      <td>ace</td>\n",
       "      <td>n.</td>\n",
       "      <td>best;  top-notch; most competent person</td>\n",
       "      <td>NaN</td>\n",
       "    </tr>\n",
       "    <tr>\n",
       "      <th>2</th>\n",
       "      <td>ace</td>\n",
       "      <td>v.</td>\n",
       "      <td>do extremely  well on a test or exam.</td>\n",
       "      <td>I aced that exam.</td>\n",
       "    </tr>\n",
       "    <tr>\n",
       "      <th>3</th>\n",
       "      <td>acid</td>\n",
       "      <td>n.</td>\n",
       "      <td>lysergic acid  diethylamide.</td>\n",
       "      <td>Have you ever dropped acid?</td>\n",
       "    </tr>\n",
       "    <tr>\n",
       "      <th>4</th>\n",
       "      <td>acid head</td>\n",
       "      <td>n.</td>\n",
       "      <td>user of LSD.</td>\n",
       "      <td>He was an acid head in college but hasn't used...</td>\n",
       "    </tr>\n",
       "    <tr>\n",
       "      <th>...</th>\n",
       "      <td>...</td>\n",
       "      <td>...</td>\n",
       "      <td>...</td>\n",
       "      <td>...</td>\n",
       "    </tr>\n",
       "    <tr>\n",
       "      <th>2594</th>\n",
       "      <td>zonked</td>\n",
       "      <td>adj.</td>\n",
       "      <td>drunk;  intoxicated</td>\n",
       "      <td>NaN</td>\n",
       "    </tr>\n",
       "    <tr>\n",
       "      <th>2595</th>\n",
       "      <td>zonked</td>\n",
       "      <td>adj.</td>\n",
       "      <td>fatigued;  tired; exhausted.</td>\n",
       "      <td>I'm totally zonked from studying.</td>\n",
       "    </tr>\n",
       "    <tr>\n",
       "      <th>2596</th>\n",
       "      <td>zonked out</td>\n",
       "      <td>adj.</td>\n",
       "      <td>drunk;  intoxicated</td>\n",
       "      <td>NaN</td>\n",
       "    </tr>\n",
       "    <tr>\n",
       "      <th>2597</th>\n",
       "      <td>zonked out</td>\n",
       "      <td>adj.</td>\n",
       "      <td>fatigued; tired; exhausted.</td>\n",
       "      <td>He's really zonked out from studying so  much.</td>\n",
       "    </tr>\n",
       "    <tr>\n",
       "      <th>2598</th>\n",
       "      <td>buck</td>\n",
       "      <td>v.</td>\n",
       "      <td>go against;  resist; make a difference choice.</td>\n",
       "      <td>Don't buck the trend, you'll look silly.</td>\n",
       "    </tr>\n",
       "  </tbody>\n",
       "</table>\n",
       "<p>2528 rows × 4 columns</p>\n",
       "</div>"
      ],
      "text/plain": [
       "           Idiom Part_of_Speech  \\\n",
       "0            abs             n.   \n",
       "1            ace             n.   \n",
       "2            ace             v.   \n",
       "3           acid             n.   \n",
       "4      acid head             n.   \n",
       "...          ...            ...   \n",
       "2594      zonked           adj.   \n",
       "2595      zonked           adj.   \n",
       "2596  zonked out           adj.   \n",
       "2597  zonked out           adj.   \n",
       "2598        buck             v.   \n",
       "\n",
       "                                             Meaning  \\\n",
       "0                                abdominal  muscles.   \n",
       "1            best;  top-notch; most competent person   \n",
       "2              do extremely  well on a test or exam.   \n",
       "3                       lysergic acid  diethylamide.   \n",
       "4                                       user of LSD.   \n",
       "...                                              ...   \n",
       "2594                             drunk;  intoxicated   \n",
       "2595                    fatigued;  tired; exhausted.   \n",
       "2596                             drunk;  intoxicated   \n",
       "2597                     fatigued; tired; exhausted.   \n",
       "2598  go against;  resist; make a difference choice.   \n",
       "\n",
       "                                                Example  \n",
       "0                       Nice abs. You been working out?  \n",
       "1                                                   NaN  \n",
       "2                                     I aced that exam.  \n",
       "3                           Have you ever dropped acid?  \n",
       "4     He was an acid head in college but hasn't used...  \n",
       "...                                                 ...  \n",
       "2594                                                NaN  \n",
       "2595                  I'm totally zonked from studying.  \n",
       "2596                                                NaN  \n",
       "2597     He's really zonked out from studying so  much.  \n",
       "2598           Don't buck the trend, you'll look silly.  \n",
       "\n",
       "[2528 rows x 4 columns]"
      ]
     },
     "execution_count": 70,
     "metadata": {},
     "output_type": "execute_result"
    }
   ],
   "source": [
    "for column in df6.columns:\n",
    "    if df6[column].dtype == 'object':  # Check if column is of type object (text)\n",
    "        df6[column] = df6[column].str.strip()\n",
    "\n",
    "df6"
   ]
  },
  {
   "cell_type": "code",
   "execution_count": 71,
   "metadata": {},
   "outputs": [
    {
     "data": {
      "text/plain": [
       "Idiom\n",
       "dick            6\n",
       "sack            5\n",
       "cut             5\n",
       "crack           5\n",
       "hot             5\n",
       "               ..\n",
       "full bull       1\n",
       "full bird       1\n",
       "fugly           1\n",
       "fudge packer    1\n",
       "in play         1\n",
       "Name: count, Length: 2071, dtype: int64"
      ]
     },
     "execution_count": 71,
     "metadata": {},
     "output_type": "execute_result"
    }
   ],
   "source": [
    "Phrase_counts = df6['Idiom'].value_counts()\n",
    "Phrase_counts"
   ]
  },
  {
   "cell_type": "code",
   "execution_count": 72,
   "metadata": {},
   "outputs": [
    {
     "data": {
      "text/plain": [
       "Part_of_Speech\n",
       "n.         1328\n",
       "v.          638\n",
       "adj.        391\n",
       "abbr.        87\n",
       "exclam.      53\n",
       "idiom.       24\n",
       "adv.          5\n",
       "V.            2\n",
       "Name: count, dtype: int64"
      ]
     },
     "execution_count": 72,
     "metadata": {},
     "output_type": "execute_result"
    }
   ],
   "source": [
    "parts_of_speech_counts = df6['Part_of_Speech'].value_counts()\n",
    "parts_of_speech_counts"
   ]
  },
  {
   "cell_type": "code",
   "execution_count": 73,
   "metadata": {},
   "outputs": [
    {
     "data": {
      "text/plain": [
       "Part_of_Speech\n",
       "n.         1328\n",
       "v.          640\n",
       "adj.        391\n",
       "abbr.        87\n",
       "exclam.      53\n",
       "idiom.       24\n",
       "adv.          5\n",
       "Name: count, dtype: int64"
      ]
     },
     "execution_count": 73,
     "metadata": {},
     "output_type": "execute_result"
    }
   ],
   "source": [
    "#lowercase all parts of speech \n",
    "df6['Part_of_Speech'] = df6['Part_of_Speech'].str.lower()\n",
    "parts_of_speech_counts = df6['Part_of_Speech'].value_counts()\n",
    "parts_of_speech_counts"
   ]
  },
  {
   "cell_type": "code",
   "execution_count": 74,
   "metadata": {},
   "outputs": [
    {
     "data": {
      "text/plain": [
       "Meaning\n",
       "drunk;  intoxicated                               17\n",
       "buttocks                                           8\n",
       "nothing;  nothing at all                           7\n",
       "penis                                              7\n",
       "throw up; vomit                                    7\n",
       "                                                  ..\n",
       "opposite side  of a phonograph (vinyl) record      1\n",
       "return trip,  esp. for a long trip                 1\n",
       "other side of a  story, argument, or claim         1\n",
       "go crazy; go  nuts; lose control                   1\n",
       "go against;  resist; make a difference choice.     1\n",
       "Name: count, Length: 2134, dtype: int64"
      ]
     },
     "execution_count": 74,
     "metadata": {},
     "output_type": "execute_result"
    }
   ],
   "source": [
    "Meaning_counts = df6['Meaning'].value_counts()\n",
    "Meaning_counts"
   ]
  },
  {
   "cell_type": "code",
   "execution_count": 75,
   "metadata": {},
   "outputs": [
    {
     "data": {
      "text/plain": [
       "Example\n",
       "Nice abs. You been working out?                                                       1\n",
       "That car crash put him in the ICU for two weeks.                                      1\n",
       "He's livin' large since his song  went gold.                                          1\n",
       "So what's with the new lemon law?  Does it really protect consumers from bad cars?    1\n",
       "Nice lats on that guy. He must work out a lot.                                        1\n",
       "                                                                                     ..\n",
       "This is what you gotta do, capish?                                                    1\n",
       "Shut up or I'll cap you.                                                              1\n",
       "He got canned for blogging too much at work.                                          1\n",
       "Gotta go to the ca                                                                    1\n",
       "Don't buck the trend, you'll look silly.                                              1\n",
       "Name: count, Length: 440, dtype: int64"
      ]
     },
     "execution_count": 75,
     "metadata": {},
     "output_type": "execute_result"
    }
   ],
   "source": [
    "sentence_counts = df6['Example'].value_counts()\n",
    "sentence_counts"
   ]
  },
  {
   "cell_type": "code",
   "execution_count": 76,
   "metadata": {},
   "outputs": [
    {
     "data": {
      "text/plain": [
       "Idiom             0\n",
       "Part_of_Speech    0\n",
       "Meaning           0\n",
       "Example           0\n",
       "dtype: int64"
      ]
     },
     "execution_count": 76,
     "metadata": {},
     "output_type": "execute_result"
    }
   ],
   "source": [
    "#replace empty values with ' ' in all columns\n",
    "df6 = df6.fillna(' ')\n",
    "df6.isna().sum()"
   ]
  },
  {
   "cell_type": "code",
   "execution_count": 77,
   "metadata": {},
   "outputs": [
    {
     "data": {
      "text/plain": [
       "Idiom             0\n",
       "Part_of_Speech    0\n",
       "Meaning           0\n",
       "Example           0\n",
       "dtype: int64"
      ]
     },
     "execution_count": 77,
     "metadata": {},
     "output_type": "execute_result"
    }
   ],
   "source": [
    "df6.isnull().sum()"
   ]
  },
  {
   "cell_type": "code",
   "execution_count": 78,
   "metadata": {},
   "outputs": [
    {
     "data": {
      "text/html": [
       "<div>\n",
       "<style scoped>\n",
       "    .dataframe tbody tr th:only-of-type {\n",
       "        vertical-align: middle;\n",
       "    }\n",
       "\n",
       "    .dataframe tbody tr th {\n",
       "        vertical-align: top;\n",
       "    }\n",
       "\n",
       "    .dataframe thead th {\n",
       "        text-align: right;\n",
       "    }\n",
       "</style>\n",
       "<table border=\"1\" class=\"dataframe\">\n",
       "  <thead>\n",
       "    <tr style=\"text-align: right;\">\n",
       "      <th></th>\n",
       "      <th>Idiom</th>\n",
       "      <th>Part_of_Speech</th>\n",
       "      <th>Meaning</th>\n",
       "      <th>Example</th>\n",
       "    </tr>\n",
       "  </thead>\n",
       "  <tbody>\n",
       "  </tbody>\n",
       "</table>\n",
       "</div>"
      ],
      "text/plain": [
       "Empty DataFrame\n",
       "Columns: [Idiom, Part_of_Speech, Meaning, Example]\n",
       "Index: []"
      ]
     },
     "execution_count": 78,
     "metadata": {},
     "output_type": "execute_result"
    }
   ],
   "source": [
    "idioms_with_meaning_example = df6[df6['Idiom'].str.contains('Meaning|Example')]\n",
    "idioms_with_meaning_example"
   ]
  },
  {
   "cell_type": "code",
   "execution_count": 79,
   "metadata": {},
   "outputs": [],
   "source": [
    "df6.to_csv('English_idioms_6.csv', index=False)"
   ]
  },
  {
   "cell_type": "code",
   "execution_count": 80,
   "metadata": {},
   "outputs": [],
   "source": [
    "dataframes = [df1, df2, df3, df4, df5, df6]\n",
    "\n",
    "# Ensure each dataframe has a 'part_of_speech' column, fill with empty strings if it doesn't exist\n",
    "for df in dataframes:\n",
    "    if 'Part_of_Speech' not in df.columns:\n",
    "        df['Part_of_Speech'] = ''\n",
    "\n",
    "# Now concatenate the dataframes\n",
    "result_df = pd.concat(dataframes, axis=0, join='outer', ignore_index=True)\n",
    "\n",
    "# If you only want 'Idiom', 'Example', 'Meaning', and 'part_of_speech' columns in the result\n",
    "result_df = result_df[['Idiom', 'Meaning', 'Example','Part_of_Speech']]\n",
    "\n",
    "result_df\n",
    "result_df.to_csv('English_idioms.csv', index=False)"
   ]
  },
  {
   "cell_type": "code",
   "execution_count": 81,
   "metadata": {},
   "outputs": [
    {
     "data": {
      "text/plain": [
       "Part_of_Speech\n",
       "n.         1328\n",
       "v.          640\n",
       "            434\n",
       "adj.        391\n",
       "abbr.        87\n",
       "exclam.      53\n",
       "idiom.       24\n",
       "adv.          5\n",
       "Name: count, dtype: int64"
      ]
     },
     "execution_count": 81,
     "metadata": {},
     "output_type": "execute_result"
    }
   ],
   "source": [
    "part_counts = result_df['Part_of_Speech'].value_counts()\n",
    "part_counts"
   ]
  }
 ],
 "metadata": {
  "kernelspec": {
   "display_name": "Python 3",
   "language": "python",
   "name": "python3"
  },
  "language_info": {
   "codemirror_mode": {
    "name": "ipython",
    "version": 3
   },
   "file_extension": ".py",
   "mimetype": "text/x-python",
   "name": "python",
   "nbconvert_exporter": "python",
   "pygments_lexer": "ipython3",
   "version": "3.12.0"
  }
 },
 "nbformat": 4,
 "nbformat_minor": 2
}
