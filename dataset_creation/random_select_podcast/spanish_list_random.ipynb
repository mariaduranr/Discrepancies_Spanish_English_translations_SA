{
 "cells": [
  {
   "cell_type": "code",
   "execution_count": 3,
   "id": "e17c86b3",
   "metadata": {},
   "outputs": [],
   "source": [
    "import numpy as np\n",
    "import pandas as pd\n",
    "import random"
   ]
  },
  {
   "cell_type": "code",
   "execution_count": 57,
   "id": "19a28f2e",
   "metadata": {},
   "outputs": [
    {
     "data": {
      "text/html": [
       "<div>\n",
       "<style scoped>\n",
       "    .dataframe tbody tr th:only-of-type {\n",
       "        vertical-align: middle;\n",
       "    }\n",
       "\n",
       "    .dataframe tbody tr th {\n",
       "        vertical-align: top;\n",
       "    }\n",
       "\n",
       "    .dataframe thead th {\n",
       "        text-align: right;\n",
       "    }\n",
       "</style>\n",
       "<table border=\"1\" class=\"dataframe\">\n",
       "  <thead>\n",
       "    <tr style=\"text-align: right;\">\n",
       "      <th></th>\n",
       "      <th>Title</th>\n",
       "    </tr>\n",
       "  </thead>\n",
       "  <tbody>\n",
       "    <tr>\n",
       "      <th>0</th>\n",
       "      <td>Huevos Revueltos con Política Luis G. Murillo está mandando como el Canciller en propiedad de Petro</td>\n",
       "    </tr>\n",
       "    <tr>\n",
       "      <th>1</th>\n",
       "      <td>DianaUribe.fm Islas Británicas Irlanda</td>\n",
       "    </tr>\n",
       "    <tr>\n",
       "      <th>2</th>\n",
       "      <td>A Fondo Con María Jimena Duzán A pesar de las salidas en falso de Petro, la economía hasta ahora va bien</td>\n",
       "    </tr>\n",
       "    <tr>\n",
       "      <th>3</th>\n",
       "      <td>VOS PODÉS En las cárceles encontré mi propósito invitada Johana Bahamón</td>\n",
       "    </tr>\n",
       "    <tr>\n",
       "      <th>4</th>\n",
       "      <td>Mi Mundo Mis Huellas Mi Verdad by Carolina Cruz El día que le encontré un condón usado a mi ex</td>\n",
       "    </tr>\n",
       "    <tr>\n",
       "      <th>...</th>\n",
       "      <td>...</td>\n",
       "    </tr>\n",
       "    <tr>\n",
       "      <th>192</th>\n",
       "      <td>La Corneta La Corneta Completa 4 de Abril de 2024</td>\n",
       "    </tr>\n",
       "    <tr>\n",
       "      <th>193</th>\n",
       "      <td>CriminalMente Masacres en Escuelas Invitado Rodrigo Acuña</td>\n",
       "    </tr>\n",
       "    <tr>\n",
       "      <th>194</th>\n",
       "      <td>El Podcast del Momento Episodio 40 Amponas</td>\n",
       "    </tr>\n",
       "    <tr>\n",
       "      <th>195</th>\n",
       "      <td>Voces del Abismo Aterrador relato de militar activo y más historias de terror de suscriptores</td>\n",
       "    </tr>\n",
       "    <tr>\n",
       "      <th>196</th>\n",
       "      <td>La Radio de la República</td>\n",
       "    </tr>\n",
       "  </tbody>\n",
       "</table>\n",
       "<p>197 rows × 1 columns</p>\n",
       "</div>"
      ],
      "text/plain": [
       "                                                                                                        Title\n",
       "0    Huevos Revueltos con Política Luis G. Murillo está mandando como el Canciller en propiedad de Petro     \n",
       "1    DianaUribe.fm Islas Británicas Irlanda                                                                  \n",
       "2    A Fondo Con María Jimena Duzán A pesar de las salidas en falso de Petro, la economía hasta ahora va bien\n",
       "3    VOS PODÉS En las cárceles encontré mi propósito invitada Johana Bahamón                                 \n",
       "4    Mi Mundo Mis Huellas Mi Verdad by Carolina Cruz El día que le encontré un condón usado a mi ex          \n",
       "..                                                                                              ...          \n",
       "192  La Corneta La Corneta Completa 4 de Abril de 2024                                                       \n",
       "193  CriminalMente Masacres en Escuelas Invitado Rodrigo Acuña                                               \n",
       "194  El Podcast del Momento Episodio 40 Amponas                                                              \n",
       "195  Voces del Abismo Aterrador relato de militar activo y más historias de terror de suscriptores           \n",
       "196  La Radio de la República                                                                                \n",
       "\n",
       "[197 rows x 1 columns]"
      ]
     },
     "execution_count": 57,
     "metadata": {},
     "output_type": "execute_result"
    }
   ],
   "source": [
    "column_names = ['Title'] \n",
    "\n",
    "titles_spanish_podcasts = pd.read_csv('titles_spanish_podcast.csv', encoding='ISO-8859-1', header=None, names=column_names)\n",
    "\n",
    "titles_spanish_podcasts\n"
   ]
  },
  {
   "cell_type": "code",
   "execution_count": 50,
   "id": "595309dd",
   "metadata": {},
   "outputs": [
    {
     "name": "stderr",
     "output_type": "stream",
     "text": [
      "C:\\Users\\mfd6863\\AppData\\Local\\Temp\\ipykernel_15552\\3652881321.py:1: FutureWarning: Passing a negative integer is deprecated in version 1.0 and will not be supported in future version. Instead, use None to not limit the column width.\n",
      "  pd.set_option('display.max_colwidth', -1)\n"
     ]
    }
   ],
   "source": [
    "pd.set_option('display.max_colwidth', -1)"
   ]
  },
  {
   "cell_type": "code",
   "execution_count": 66,
   "id": "7c128a41",
   "metadata": {},
   "outputs": [
    {
     "data": {
      "text/html": [
       "<div>\n",
       "<style scoped>\n",
       "    .dataframe tbody tr th:only-of-type {\n",
       "        vertical-align: middle;\n",
       "    }\n",
       "\n",
       "    .dataframe tbody tr th {\n",
       "        vertical-align: top;\n",
       "    }\n",
       "\n",
       "    .dataframe thead th {\n",
       "        text-align: right;\n",
       "    }\n",
       "</style>\n",
       "<table border=\"1\" class=\"dataframe\">\n",
       "  <thead>\n",
       "    <tr style=\"text-align: right;\">\n",
       "      <th></th>\n",
       "      <th>Title</th>\n",
       "    </tr>\n",
       "  </thead>\n",
       "  <tbody>\n",
       "    <tr>\n",
       "      <th>176</th>\n",
       "      <td>Criminalista Nocturno El caso de Brianna Denison Criminalista Nocturno</td>\n",
       "    </tr>\n",
       "    <tr>\n",
       "      <th>135</th>\n",
       "      <td>LA MAGIA DEL CAOS con Aislinn Derbez 88 \"Suelta la culpa al comer y el miedo a engordar\" con Raquel Lobatón</td>\n",
       "    </tr>\n",
       "    <tr>\n",
       "      <th>63</th>\n",
       "      <td>Las Damitas Histeria Temporada 2 Episodio 1 Mi recaída con el eneje</td>\n",
       "    </tr>\n",
       "    <tr>\n",
       "      <th>95</th>\n",
       "      <td>Noche de Misterio Egipto, el país eterno</td>\n",
       "    </tr>\n",
       "    <tr>\n",
       "      <th>77</th>\n",
       "      <td>Huevos Revueltos con Política Enterrada la reforma a la salud, el gobierno activa su plan B las EPS</td>\n",
       "    </tr>\n",
       "    <tr>\n",
       "      <th>60</th>\n",
       "      <td>Relatos Ñeros Los techos</td>\n",
       "    </tr>\n",
       "    <tr>\n",
       "      <th>40</th>\n",
       "      <td>Desnúdate Con Eva Carlos Carrillo Desnúdate con Eva</td>\n",
       "    </tr>\n",
       "    <tr>\n",
       "      <th>71</th>\n",
       "      <td>El hilo Un río peruano con derechos las defensoras del Marañón</td>\n",
       "    </tr>\n",
       "    <tr>\n",
       "      <th>194</th>\n",
       "      <td>El Podcast del Momento Episodio 40 Amponas</td>\n",
       "    </tr>\n",
       "    <tr>\n",
       "      <th>151</th>\n",
       "      <td>El Podcast de Marco Antonio Regil 316 La maestría del amor Don Miguel Ruiz</td>\n",
       "    </tr>\n",
       "  </tbody>\n",
       "</table>\n",
       "</div>"
      ],
      "text/plain": [
       "                                                                                                           Title\n",
       "176  Criminalista Nocturno El caso de Brianna Denison Criminalista Nocturno                                     \n",
       "135  LA MAGIA DEL CAOS con Aislinn Derbez 88 \"Suelta la culpa al comer y el miedo a engordar\" con Raquel Lobatón\n",
       "63   Las Damitas Histeria Temporada 2 Episodio 1 Mi recaída con el eneje                                        \n",
       "95   Noche de Misterio Egipto, el país eterno                                                                   \n",
       "77   Huevos Revueltos con Política Enterrada la reforma a la salud, el gobierno activa su plan B las EPS        \n",
       "60   Relatos Ñeros Los techos                                                                                   \n",
       "40   Desnúdate Con Eva Carlos Carrillo Desnúdate con Eva                                                        \n",
       "71   El hilo Un río peruano con derechos las defensoras del Marañón                                             \n",
       "194  El Podcast del Momento Episodio 40 Amponas                                                                 \n",
       "151  El Podcast de Marco Antonio Regil 316 La maestría del amor Don Miguel Ruiz                                 "
      ]
     },
     "execution_count": 66,
     "metadata": {},
     "output_type": "execute_result"
    }
   ],
   "source": [
    "np.random.seed(18)\n",
    "\n",
    "random_titles = titles_spanish_podcasts.sample(10)\n",
    "random_titles"
   ]
  },
  {
   "cell_type": "code",
   "execution_count": null,
   "id": "7432bc98",
   "metadata": {},
   "outputs": [],
   "source": []
  },
  {
   "cell_type": "code",
   "execution_count": null,
   "id": "49b54451",
   "metadata": {},
   "outputs": [],
   "source": []
  }
 ],
 "metadata": {
  "kernelspec": {
   "display_name": "Python 3 (ipykernel)",
   "language": "python",
   "name": "python3"
  },
  "language_info": {
   "codemirror_mode": {
    "name": "ipython",
    "version": 3
   },
   "file_extension": ".py",
   "mimetype": "text/x-python",
   "name": "python",
   "nbconvert_exporter": "python",
   "pygments_lexer": "ipython3",
   "version": "3.11.3"
  }
 },
 "nbformat": 4,
 "nbformat_minor": 5
}
